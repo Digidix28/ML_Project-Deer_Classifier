{
 "cells": [
  {
   "cell_type": "markdown",
   "metadata": {},
   "source": [
    "# Importer les données"
   ]
  },
  {
   "cell_type": "code",
   "execution_count": 2086,
   "metadata": {},
   "outputs": [],
   "source": [
    "using CSV, DataFrames, Statistics, Dates, Gadfly,LinearAlgebra, Distributions\n",
    "import StatsBase, Random"
   ]
  },
  {
   "cell_type": "code",
   "execution_count": 2087,
   "metadata": {},
   "outputs": [
    {
     "data": {
      "text/html": [
       "<div class=\"data-frame\"><p>8,036 rows × 5 columns</p><table class=\"data-frame\"><thead><tr><th></th><th>Date</th><th>Mean Temp (°C)</th><th>Total Rain (mm)</th><th>Total Snow (cm)</th><th>Snow on Grnd (cm)</th></tr><tr><th></th><th title=\"Date\">Date</th><th title=\"Union{Missing, Float64}\">Float64?</th><th title=\"Union{Missing, Float64}\">Float64?</th><th title=\"Union{Missing, Float64}\">Float64?</th><th title=\"Union{Missing, Int64}\">Int64?</th></tr></thead><tbody><tr><th>1</th><td>1999-01-01</td><td>-20.5</td><td>0.0</td><td>1.0</td><td>2</td></tr><tr><th>2</th><td>1999-01-02</td><td>-19.2</td><td>0.0</td><td>0.0</td><td>2</td></tr><tr><th>3</th><td>1999-01-03</td><td>-8.5</td><td>1.2</td><td>11.4</td><td>7</td></tr><tr><th>4</th><td>1999-01-04</td><td>-9.4</td><td>0.0</td><td>0.0</td><td>8</td></tr><tr><th>5</th><td>1999-01-05</td><td>-14.3</td><td>0.0</td><td>0.0</td><td>8</td></tr><tr><th>6</th><td>1999-01-06</td><td>-7.1</td><td>0.0</td><td>3.1</td><td>8</td></tr><tr><th>7</th><td>1999-01-07</td><td>-11.2</td><td>0.0</td><td>0.8</td><td>10</td></tr><tr><th>8</th><td>1999-01-08</td><td>-12.8</td><td>0.0</td><td>5.2</td><td>8</td></tr><tr><th>9</th><td>1999-01-09</td><td>-9.9</td><td>0.0</td><td>13.8</td><td>17</td></tr><tr><th>10</th><td>1999-01-10</td><td>-14.7</td><td>0.0</td><td>0.6</td><td>21</td></tr><tr><th>11</th><td>1999-01-11</td><td>-15.6</td><td>0.0</td><td>0.6</td><td>20</td></tr><tr><th>12</th><td>1999-01-12</td><td>-16.9</td><td>0.0</td><td>4.6</td><td>23</td></tr><tr><th>13</th><td>1999-01-13</td><td>-19.8</td><td>0.0</td><td>5.6</td><td>23</td></tr><tr><th>14</th><td>1999-01-14</td><td>-21.7</td><td>0.0</td><td>3.6</td><td>23</td></tr><tr><th>15</th><td>1999-01-15</td><td>-12.1</td><td>0.0</td><td>35.8</td><td>36</td></tr><tr><th>16</th><td>1999-01-16</td><td>-5.3</td><td>0.2</td><td>0.6</td><td>40</td></tr><tr><th>17</th><td>1999-01-17</td><td>1.3</td><td>0.0</td><td>0.0</td><td>32</td></tr><tr><th>18</th><td>1999-01-18</td><td>2.1</td><td>15.8</td><td>1.2</td><td>30</td></tr><tr><th>19</th><td>1999-01-19</td><td>1.3</td><td>0.0</td><td>0.4</td><td>24</td></tr><tr><th>20</th><td>1999-01-20</td><td>-1.7</td><td>0.0</td><td>1.2</td><td>20</td></tr><tr><th>21</th><td>1999-01-21</td><td>-4.0</td><td>0.0</td><td>3.2</td><td>20</td></tr><tr><th>22</th><td>1999-01-22</td><td>-4.6</td><td>7.6</td><td>2.0</td><td>22</td></tr><tr><th>23</th><td>1999-01-23</td><td>3.5</td><td>3.0</td><td>0.0</td><td>20</td></tr><tr><th>24</th><td>1999-01-24</td><td>2.8</td><td>3.4</td><td>0.0</td><td>12</td></tr><tr><th>25</th><td>1999-01-25</td><td>-6.2</td><td>0.0</td><td>0.0</td><td>7</td></tr><tr><th>26</th><td>1999-01-26</td><td>-5.1</td><td>0.0</td><td>0.4</td><td>7</td></tr><tr><th>27</th><td>1999-01-27</td><td>-6.9</td><td>0.0</td><td>0.0</td><td>7</td></tr><tr><th>28</th><td>1999-01-28</td><td>-12.4</td><td>0.0</td><td>0.0</td><td>7</td></tr><tr><th>29</th><td>1999-01-29</td><td>-12.6</td><td>0.0</td><td>0.0</td><td>7</td></tr><tr><th>30</th><td>1999-01-30</td><td>-11.1</td><td>0.0</td><td>0.0</td><td>7</td></tr><tr><th>&vellip;</th><td>&vellip;</td><td>&vellip;</td><td>&vellip;</td><td>&vellip;</td><td>&vellip;</td></tr></tbody></table></div>"
      ],
      "text/latex": [
       "\\begin{tabular}{r|ccccc}\n",
       "\t& Date & Mean Temp (°C) & Total Rain (mm) & Total Snow (cm) & Snow on Grnd (cm)\\\\\n",
       "\t\\hline\n",
       "\t& Date & Float64? & Float64? & Float64? & Int64?\\\\\n",
       "\t\\hline\n",
       "\t1 & 1999-01-01 & -20.5 & 0.0 & 1.0 & 2 \\\\\n",
       "\t2 & 1999-01-02 & -19.2 & 0.0 & 0.0 & 2 \\\\\n",
       "\t3 & 1999-01-03 & -8.5 & 1.2 & 11.4 & 7 \\\\\n",
       "\t4 & 1999-01-04 & -9.4 & 0.0 & 0.0 & 8 \\\\\n",
       "\t5 & 1999-01-05 & -14.3 & 0.0 & 0.0 & 8 \\\\\n",
       "\t6 & 1999-01-06 & -7.1 & 0.0 & 3.1 & 8 \\\\\n",
       "\t7 & 1999-01-07 & -11.2 & 0.0 & 0.8 & 10 \\\\\n",
       "\t8 & 1999-01-08 & -12.8 & 0.0 & 5.2 & 8 \\\\\n",
       "\t9 & 1999-01-09 & -9.9 & 0.0 & 13.8 & 17 \\\\\n",
       "\t10 & 1999-01-10 & -14.7 & 0.0 & 0.6 & 21 \\\\\n",
       "\t11 & 1999-01-11 & -15.6 & 0.0 & 0.6 & 20 \\\\\n",
       "\t12 & 1999-01-12 & -16.9 & 0.0 & 4.6 & 23 \\\\\n",
       "\t13 & 1999-01-13 & -19.8 & 0.0 & 5.6 & 23 \\\\\n",
       "\t14 & 1999-01-14 & -21.7 & 0.0 & 3.6 & 23 \\\\\n",
       "\t15 & 1999-01-15 & -12.1 & 0.0 & 35.8 & 36 \\\\\n",
       "\t16 & 1999-01-16 & -5.3 & 0.2 & 0.6 & 40 \\\\\n",
       "\t17 & 1999-01-17 & 1.3 & 0.0 & 0.0 & 32 \\\\\n",
       "\t18 & 1999-01-18 & 2.1 & 15.8 & 1.2 & 30 \\\\\n",
       "\t19 & 1999-01-19 & 1.3 & 0.0 & 0.4 & 24 \\\\\n",
       "\t20 & 1999-01-20 & -1.7 & 0.0 & 1.2 & 20 \\\\\n",
       "\t21 & 1999-01-21 & -4.0 & 0.0 & 3.2 & 20 \\\\\n",
       "\t22 & 1999-01-22 & -4.6 & 7.6 & 2.0 & 22 \\\\\n",
       "\t23 & 1999-01-23 & 3.5 & 3.0 & 0.0 & 20 \\\\\n",
       "\t24 & 1999-01-24 & 2.8 & 3.4 & 0.0 & 12 \\\\\n",
       "\t25 & 1999-01-25 & -6.2 & 0.0 & 0.0 & 7 \\\\\n",
       "\t26 & 1999-01-26 & -5.1 & 0.0 & 0.4 & 7 \\\\\n",
       "\t27 & 1999-01-27 & -6.9 & 0.0 & 0.0 & 7 \\\\\n",
       "\t28 & 1999-01-28 & -12.4 & 0.0 & 0.0 & 7 \\\\\n",
       "\t29 & 1999-01-29 & -12.6 & 0.0 & 0.0 & 7 \\\\\n",
       "\t30 & 1999-01-30 & -11.1 & 0.0 & 0.0 & 7 \\\\\n",
       "\t$\\dots$ & $\\dots$ & $\\dots$ & $\\dots$ & $\\dots$ & $\\dots$ \\\\\n",
       "\\end{tabular}\n"
      ],
      "text/plain": [
       "\u001b[1m8036×5 DataFrame\u001b[0m\n",
       "\u001b[1m  Row \u001b[0m│\u001b[1m Date       \u001b[0m\u001b[1m Mean Temp (°C) \u001b[0m\u001b[1m Total Rain (mm) \u001b[0m\u001b[1m Total Snow (cm) \u001b[0m\u001b[1m Snow on \u001b[0m ⋯\n",
       "\u001b[1m      \u001b[0m│\u001b[90m Date       \u001b[0m\u001b[90m Float64?       \u001b[0m\u001b[90m Float64?        \u001b[0m\u001b[90m Float64?        \u001b[0m\u001b[90m Int64?  \u001b[0m ⋯\n",
       "──────┼─────────────────────────────────────────────────────────────────────────\n",
       "    1 │ 1999-01-01           -20.5              0.0              1.0           ⋯\n",
       "    2 │ 1999-01-02           -19.2              0.0              0.0\n",
       "    3 │ 1999-01-03            -8.5              1.2             11.4\n",
       "    4 │ 1999-01-04            -9.4              0.0              0.0\n",
       "    5 │ 1999-01-05           -14.3              0.0              0.0           ⋯\n",
       "    6 │ 1999-01-06            -7.1              0.0              3.1\n",
       "    7 │ 1999-01-07           -11.2              0.0              0.8\n",
       "    8 │ 1999-01-08           -12.8              0.0              5.2\n",
       "    9 │ 1999-01-09            -9.9              0.0             13.8           ⋯\n",
       "   10 │ 1999-01-10           -14.7              0.0              0.6\n",
       "   11 │ 1999-01-11           -15.6              0.0              0.6\n",
       "  ⋮   │     ⋮             ⋮                ⋮                ⋮                  ⋱\n",
       " 8027 │ 2021-12-22            -4.8              0.0              0.0\n",
       " 8028 │ 2021-12-23           -12.3              0.0              0.0           ⋯\n",
       " 8029 │ 2021-12-24           -10.2              0.0              0.0\n",
       " 8030 │ 2021-12-25            -6.4              0.0              2.2\n",
       " 8031 │ 2021-12-26            -2.2              0.0              0.6\n",
       " 8032 │ 2021-12-27            -7.0              0.0              0.0           ⋯\n",
       " 8033 │ 2021-12-28            -5.8              0.0              2.0\n",
       " 8034 │ 2021-12-29            -5.2              0.0              0.0\n",
       " 8035 │ 2021-12-30            -4.2              0.0              0.6\n",
       " 8036 │ 2021-12-31            -1.7              0.0              0.2           ⋯\n",
       "\u001b[36m                                                  1 column and 8015 rows omitted\u001b[0m"
      ]
     },
     "execution_count": 2087,
     "metadata": {},
     "output_type": "execute_result"
    }
   ],
   "source": [
    "essence = CSV.read(\"data/essence.csv\", DataFrame)\n",
    "recolte = CSV.read(\"data/recolte.csv\", DataFrame)\n",
    "permis = CSV.read(\"data/permis.csv\", DataFrame)\n",
    "test = CSV.read(\"data/test.csv\", DataFrame)\n",
    "meteo = CSV.read(\"data/meteo.csv\", DataFrame)"
   ]
  },
  {
   "cell_type": "markdown",
   "metadata": {},
   "source": [
    "# 1. Analyse exploratoire"
   ]
  },
  {
   "cell_type": "markdown",
   "metadata": {},
   "source": [
    "# 2. Pre processing"
   ]
  },
  {
   "cell_type": "markdown",
   "metadata": {},
   "source": [
    "## 2.1 Remplacer les données manquantes"
   ]
  },
  {
   "cell_type": "markdown",
   "metadata": {},
   "source": [
    "On a d'abord remarquer que pour le fichier météo il y avait présence de donnée manquante, on a aussi remarquer que les données était indexé en fonction de la date ( l'année, le mois et le jour ). Pour pallier à cela , on a decider de remplacer ces valeurs manquantes par la moyenne des  valeurs du mois en question ( par exemple si la données manquante était pour le mois 1, on remplace celle-ci par la moyenne des valeurs pour le mois 1).Nous avons opté pour ce choix plutot que de retirer les données afin de garder garder le plus de données possible. De plus la réalisations de la moyenne sur le mois en marticumier nous permet de ne pas trop biaiser les données. Enfin la meme procedure est effectuer pour chaque variables du CSV météo  ou il y'a presence des données manquantes."
   ]
  },
  {
   "cell_type": "markdown",
   "metadata": {},
   "source": [
    "On crée un dataframe contenant les mois avec la valeur moyenne de \"Snow on Grnd (cm)\""
   ]
  },
  {
   "cell_type": "code",
   "execution_count": 2088,
   "metadata": {},
   "outputs": [
    {
     "data": {
      "text/html": [
       "<div class=\"data-frame\"><p>12 rows × 2 columns</p><table class=\"data-frame\"><thead><tr><th></th><th>Date</th><th>SnowGround_mean</th></tr><tr><th></th><th title=\"Int64\">Int64</th><th title=\"Float64\">Float64</th></tr></thead><tbody><tr><th>1</th><td>1</td><td>9.63864</td></tr><tr><th>2</th><td>2</td><td>13.3077</td></tr><tr><th>3</th><td>3</td><td>8.31062</td></tr><tr><th>4</th><td>4</td><td>1.03165</td></tr><tr><th>5</th><td>5</td><td>0.0</td></tr><tr><th>6</th><td>6</td><td>0.0</td></tr><tr><th>7</th><td>7</td><td>0.0</td></tr><tr><th>8</th><td>8</td><td>0.0</td></tr><tr><th>9</th><td>9</td><td>0.0</td></tr><tr><th>10</th><td>10</td><td>0.0</td></tr><tr><th>11</th><td>11</td><td>0.691532</td></tr><tr><th>12</th><td>12</td><td>6.52167</td></tr></tbody></table></div>"
      ],
      "text/latex": [
       "\\begin{tabular}{r|cc}\n",
       "\t& Date & SnowGround\\_mean\\\\\n",
       "\t\\hline\n",
       "\t& Int64 & Float64\\\\\n",
       "\t\\hline\n",
       "\t1 & 1 & 9.63864 \\\\\n",
       "\t2 & 2 & 13.3077 \\\\\n",
       "\t3 & 3 & 8.31062 \\\\\n",
       "\t4 & 4 & 1.03165 \\\\\n",
       "\t5 & 5 & 0.0 \\\\\n",
       "\t6 & 6 & 0.0 \\\\\n",
       "\t7 & 7 & 0.0 \\\\\n",
       "\t8 & 8 & 0.0 \\\\\n",
       "\t9 & 9 & 0.0 \\\\\n",
       "\t10 & 10 & 0.0 \\\\\n",
       "\t11 & 11 & 0.691532 \\\\\n",
       "\t12 & 12 & 6.52167 \\\\\n",
       "\\end{tabular}\n"
      ],
      "text/plain": [
       "\u001b[1m12×2 DataFrame\u001b[0m\n",
       "\u001b[1m Row \u001b[0m│\u001b[1m Date  \u001b[0m\u001b[1m SnowGround_mean \u001b[0m\n",
       "\u001b[1m     \u001b[0m│\u001b[90m Int64 \u001b[0m\u001b[90m Float64         \u001b[0m\n",
       "─────┼────────────────────────\n",
       "   1 │     1         9.63864\n",
       "   2 │     2        13.3077\n",
       "   3 │     3         8.31062\n",
       "   4 │     4         1.03165\n",
       "   5 │     5         0.0\n",
       "   6 │     6         0.0\n",
       "   7 │     7         0.0\n",
       "   8 │     8         0.0\n",
       "   9 │     9         0.0\n",
       "  10 │    10         0.0\n",
       "  11 │    11         0.691532\n",
       "  12 │    12         6.52167"
      ]
     },
     "execution_count": 2088,
     "metadata": {},
     "output_type": "execute_result"
    }
   ],
   "source": [
    "#Remplacer les valeurs de \"snow_on_ground\" manquantes et les grouper par années\n",
    "\n",
    "snowground_par_mois = copy(meteo)\n",
    "snowground_par_mois = rename(snowground_par_mois, :\"Snow on Grnd (cm)\" => :SnowGround)\n",
    "snowground_par_mois[!, \"Date\"] = [Dates.month(item) for item in snowground_par_mois[!, \"Date\"]]\n",
    "\n",
    "snowground_par_mois = dropmissing(snowground_par_mois)\n",
    "moyenne_par_mois = combine(groupby(snowground_par_mois, :Date), :SnowGround => mean)"
   ]
  },
  {
   "cell_type": "markdown",
   "metadata": {},
   "source": [
    "On remplace les valeurs manquantes de \"Snow on Grnd (cm)\"  par les valeurs  calculés dans le dataFrame précedemment, puis la valeur dans le dataframe est mise à jour."
   ]
  },
  {
   "cell_type": "code",
   "execution_count": 2089,
   "metadata": {},
   "outputs": [
    {
     "data": {
      "text/html": [
       "<div class=\"data-frame\"><p>8,036 rows × 5 columns</p><table class=\"data-frame\"><thead><tr><th></th><th>Date</th><th>Mean Temp (°C)</th><th>Total Rain (mm)</th><th>Total Snow (cm)</th><th>SnowGround</th></tr><tr><th></th><th title=\"Date\">Date</th><th title=\"Union{Missing, Float64}\">Float64?</th><th title=\"Union{Missing, Float64}\">Float64?</th><th title=\"Union{Missing, Float64}\">Float64?</th><th title=\"Union{Missing, Int64}\">Int64?</th></tr></thead><tbody><tr><th>1</th><td>1999-01-01</td><td>-20.5</td><td>0.0</td><td>1.0</td><td>2</td></tr><tr><th>2</th><td>1999-01-02</td><td>-19.2</td><td>0.0</td><td>0.0</td><td>2</td></tr><tr><th>3</th><td>1999-01-03</td><td>-8.5</td><td>1.2</td><td>11.4</td><td>7</td></tr><tr><th>4</th><td>1999-01-04</td><td>-9.4</td><td>0.0</td><td>0.0</td><td>8</td></tr><tr><th>5</th><td>1999-01-05</td><td>-14.3</td><td>0.0</td><td>0.0</td><td>8</td></tr><tr><th>6</th><td>1999-01-06</td><td>-7.1</td><td>0.0</td><td>3.1</td><td>8</td></tr><tr><th>7</th><td>1999-01-07</td><td>-11.2</td><td>0.0</td><td>0.8</td><td>10</td></tr><tr><th>8</th><td>1999-01-08</td><td>-12.8</td><td>0.0</td><td>5.2</td><td>8</td></tr><tr><th>9</th><td>1999-01-09</td><td>-9.9</td><td>0.0</td><td>13.8</td><td>17</td></tr><tr><th>10</th><td>1999-01-10</td><td>-14.7</td><td>0.0</td><td>0.6</td><td>21</td></tr><tr><th>11</th><td>1999-01-11</td><td>-15.6</td><td>0.0</td><td>0.6</td><td>20</td></tr><tr><th>12</th><td>1999-01-12</td><td>-16.9</td><td>0.0</td><td>4.6</td><td>23</td></tr><tr><th>13</th><td>1999-01-13</td><td>-19.8</td><td>0.0</td><td>5.6</td><td>23</td></tr><tr><th>14</th><td>1999-01-14</td><td>-21.7</td><td>0.0</td><td>3.6</td><td>23</td></tr><tr><th>15</th><td>1999-01-15</td><td>-12.1</td><td>0.0</td><td>35.8</td><td>36</td></tr><tr><th>16</th><td>1999-01-16</td><td>-5.3</td><td>0.2</td><td>0.6</td><td>40</td></tr><tr><th>17</th><td>1999-01-17</td><td>1.3</td><td>0.0</td><td>0.0</td><td>32</td></tr><tr><th>18</th><td>1999-01-18</td><td>2.1</td><td>15.8</td><td>1.2</td><td>30</td></tr><tr><th>19</th><td>1999-01-19</td><td>1.3</td><td>0.0</td><td>0.4</td><td>24</td></tr><tr><th>20</th><td>1999-01-20</td><td>-1.7</td><td>0.0</td><td>1.2</td><td>20</td></tr><tr><th>21</th><td>1999-01-21</td><td>-4.0</td><td>0.0</td><td>3.2</td><td>20</td></tr><tr><th>22</th><td>1999-01-22</td><td>-4.6</td><td>7.6</td><td>2.0</td><td>22</td></tr><tr><th>23</th><td>1999-01-23</td><td>3.5</td><td>3.0</td><td>0.0</td><td>20</td></tr><tr><th>24</th><td>1999-01-24</td><td>2.8</td><td>3.4</td><td>0.0</td><td>12</td></tr><tr><th>25</th><td>1999-01-25</td><td>-6.2</td><td>0.0</td><td>0.0</td><td>7</td></tr><tr><th>26</th><td>1999-01-26</td><td>-5.1</td><td>0.0</td><td>0.4</td><td>7</td></tr><tr><th>27</th><td>1999-01-27</td><td>-6.9</td><td>0.0</td><td>0.0</td><td>7</td></tr><tr><th>28</th><td>1999-01-28</td><td>-12.4</td><td>0.0</td><td>0.0</td><td>7</td></tr><tr><th>29</th><td>1999-01-29</td><td>-12.6</td><td>0.0</td><td>0.0</td><td>7</td></tr><tr><th>30</th><td>1999-01-30</td><td>-11.1</td><td>0.0</td><td>0.0</td><td>7</td></tr><tr><th>&vellip;</th><td>&vellip;</td><td>&vellip;</td><td>&vellip;</td><td>&vellip;</td><td>&vellip;</td></tr></tbody></table></div>"
      ],
      "text/latex": [
       "\\begin{tabular}{r|ccccc}\n",
       "\t& Date & Mean Temp (°C) & Total Rain (mm) & Total Snow (cm) & SnowGround\\\\\n",
       "\t\\hline\n",
       "\t& Date & Float64? & Float64? & Float64? & Int64?\\\\\n",
       "\t\\hline\n",
       "\t1 & 1999-01-01 & -20.5 & 0.0 & 1.0 & 2 \\\\\n",
       "\t2 & 1999-01-02 & -19.2 & 0.0 & 0.0 & 2 \\\\\n",
       "\t3 & 1999-01-03 & -8.5 & 1.2 & 11.4 & 7 \\\\\n",
       "\t4 & 1999-01-04 & -9.4 & 0.0 & 0.0 & 8 \\\\\n",
       "\t5 & 1999-01-05 & -14.3 & 0.0 & 0.0 & 8 \\\\\n",
       "\t6 & 1999-01-06 & -7.1 & 0.0 & 3.1 & 8 \\\\\n",
       "\t7 & 1999-01-07 & -11.2 & 0.0 & 0.8 & 10 \\\\\n",
       "\t8 & 1999-01-08 & -12.8 & 0.0 & 5.2 & 8 \\\\\n",
       "\t9 & 1999-01-09 & -9.9 & 0.0 & 13.8 & 17 \\\\\n",
       "\t10 & 1999-01-10 & -14.7 & 0.0 & 0.6 & 21 \\\\\n",
       "\t11 & 1999-01-11 & -15.6 & 0.0 & 0.6 & 20 \\\\\n",
       "\t12 & 1999-01-12 & -16.9 & 0.0 & 4.6 & 23 \\\\\n",
       "\t13 & 1999-01-13 & -19.8 & 0.0 & 5.6 & 23 \\\\\n",
       "\t14 & 1999-01-14 & -21.7 & 0.0 & 3.6 & 23 \\\\\n",
       "\t15 & 1999-01-15 & -12.1 & 0.0 & 35.8 & 36 \\\\\n",
       "\t16 & 1999-01-16 & -5.3 & 0.2 & 0.6 & 40 \\\\\n",
       "\t17 & 1999-01-17 & 1.3 & 0.0 & 0.0 & 32 \\\\\n",
       "\t18 & 1999-01-18 & 2.1 & 15.8 & 1.2 & 30 \\\\\n",
       "\t19 & 1999-01-19 & 1.3 & 0.0 & 0.4 & 24 \\\\\n",
       "\t20 & 1999-01-20 & -1.7 & 0.0 & 1.2 & 20 \\\\\n",
       "\t21 & 1999-01-21 & -4.0 & 0.0 & 3.2 & 20 \\\\\n",
       "\t22 & 1999-01-22 & -4.6 & 7.6 & 2.0 & 22 \\\\\n",
       "\t23 & 1999-01-23 & 3.5 & 3.0 & 0.0 & 20 \\\\\n",
       "\t24 & 1999-01-24 & 2.8 & 3.4 & 0.0 & 12 \\\\\n",
       "\t25 & 1999-01-25 & -6.2 & 0.0 & 0.0 & 7 \\\\\n",
       "\t26 & 1999-01-26 & -5.1 & 0.0 & 0.4 & 7 \\\\\n",
       "\t27 & 1999-01-27 & -6.9 & 0.0 & 0.0 & 7 \\\\\n",
       "\t28 & 1999-01-28 & -12.4 & 0.0 & 0.0 & 7 \\\\\n",
       "\t29 & 1999-01-29 & -12.6 & 0.0 & 0.0 & 7 \\\\\n",
       "\t30 & 1999-01-30 & -11.1 & 0.0 & 0.0 & 7 \\\\\n",
       "\t$\\dots$ & $\\dots$ & $\\dots$ & $\\dots$ & $\\dots$ & $\\dots$ \\\\\n",
       "\\end{tabular}\n"
      ],
      "text/plain": [
       "\u001b[1m8036×5 DataFrame\u001b[0m\n",
       "\u001b[1m  Row \u001b[0m│\u001b[1m Date       \u001b[0m\u001b[1m Mean Temp (°C) \u001b[0m\u001b[1m Total Rain (mm) \u001b[0m\u001b[1m Total Snow (cm) \u001b[0m\u001b[1m SnowGrou\u001b[0m ⋯\n",
       "\u001b[1m      \u001b[0m│\u001b[90m Date       \u001b[0m\u001b[90m Float64?       \u001b[0m\u001b[90m Float64?        \u001b[0m\u001b[90m Float64?        \u001b[0m\u001b[90m Int64?  \u001b[0m ⋯\n",
       "──────┼─────────────────────────────────────────────────────────────────────────\n",
       "    1 │ 1999-01-01           -20.5              0.0              1.0           ⋯\n",
       "    2 │ 1999-01-02           -19.2              0.0              0.0\n",
       "    3 │ 1999-01-03            -8.5              1.2             11.4\n",
       "    4 │ 1999-01-04            -9.4              0.0              0.0\n",
       "    5 │ 1999-01-05           -14.3              0.0              0.0           ⋯\n",
       "    6 │ 1999-01-06            -7.1              0.0              3.1\n",
       "    7 │ 1999-01-07           -11.2              0.0              0.8\n",
       "    8 │ 1999-01-08           -12.8              0.0              5.2\n",
       "    9 │ 1999-01-09            -9.9              0.0             13.8           ⋯\n",
       "   10 │ 1999-01-10           -14.7              0.0              0.6\n",
       "   11 │ 1999-01-11           -15.6              0.0              0.6\n",
       "  ⋮   │     ⋮             ⋮                ⋮                ⋮             ⋮    ⋱\n",
       " 8027 │ 2021-12-22            -4.8              0.0              0.0\n",
       " 8028 │ 2021-12-23           -12.3              0.0              0.0           ⋯\n",
       " 8029 │ 2021-12-24           -10.2              0.0              0.0\n",
       " 8030 │ 2021-12-25            -6.4              0.0              2.2\n",
       " 8031 │ 2021-12-26            -2.2              0.0              0.6\n",
       " 8032 │ 2021-12-27            -7.0              0.0              0.0           ⋯\n",
       " 8033 │ 2021-12-28            -5.8              0.0              2.0\n",
       " 8034 │ 2021-12-29            -5.2              0.0              0.0\n",
       " 8035 │ 2021-12-30            -4.2              0.0              0.6\n",
       " 8036 │ 2021-12-31            -1.7              0.0              0.2           ⋯\n",
       "\u001b[36m                                                  1 column and 8015 rows omitted\u001b[0m"
      ]
     },
     "execution_count": 2089,
     "metadata": {},
     "output_type": "execute_result"
    }
   ],
   "source": [
    "\n",
    "snowground_dropmissing = copy(meteo)\n",
    "snowground_dropmissing = rename(snowground_dropmissing, :\"Snow on Grnd (cm)\" => :SnowGround)\n",
    "\n",
    "n = nrow(snowground_dropmissing)\n",
    "moyenne_par_mois[!, \"SnowGround_mean\"][1]\n",
    "for i=1:n\n",
    "    if ismissing(snowground_dropmissing[!, \"SnowGround\"][i])\n",
    "        snowground_dropmissing[!, \"SnowGround\"][i] = round(moyenne_par_mois[!, \"SnowGround_mean\"][Dates.month(snowground_dropmissing[!, \"Date\"][i])])\n",
    "    end\n",
    "end\n",
    "\n",
    "meteo = snowground_dropmissing\n"
   ]
  },
  {
   "cell_type": "markdown",
   "metadata": {},
   "source": [
    "On crée un dataframe contenant les mois avec la valeur moyenne de \"Total Snow (cm)\""
   ]
  },
  {
   "cell_type": "code",
   "execution_count": 2090,
   "metadata": {},
   "outputs": [
    {
     "data": {
      "text/html": [
       "<div class=\"data-frame\"><p>12 rows × 2 columns</p><table class=\"data-frame\"><thead><tr><th></th><th>Date</th><th>SnowTotal_mean</th></tr><tr><th></th><th title=\"Int64\">Int64</th><th title=\"Float64\">Float64</th></tr></thead><tbody><tr><th>1</th><td>1</td><td>1.62224</td></tr><tr><th>2</th><td>2</td><td>1.6671</td></tr><tr><th>3</th><td>3</td><td>1.10545</td></tr><tr><th>4</th><td>4</td><td>0.38695</td></tr><tr><th>5</th><td>5</td><td>0.000295421</td></tr><tr><th>6</th><td>6</td><td>0.0</td></tr><tr><th>7</th><td>7</td><td>0.0</td></tr><tr><th>8</th><td>8</td><td>0.0</td></tr><tr><th>9</th><td>9</td><td>0.0</td></tr><tr><th>10</th><td>10</td><td>0.0181684</td></tr><tr><th>11</th><td>11</td><td>0.443075</td></tr><tr><th>12</th><td>12</td><td>1.69087</td></tr></tbody></table></div>"
      ],
      "text/latex": [
       "\\begin{tabular}{r|cc}\n",
       "\t& Date & SnowTotal\\_mean\\\\\n",
       "\t\\hline\n",
       "\t& Int64 & Float64\\\\\n",
       "\t\\hline\n",
       "\t1 & 1 & 1.62224 \\\\\n",
       "\t2 & 2 & 1.6671 \\\\\n",
       "\t3 & 3 & 1.10545 \\\\\n",
       "\t4 & 4 & 0.38695 \\\\\n",
       "\t5 & 5 & 0.000295421 \\\\\n",
       "\t6 & 6 & 0.0 \\\\\n",
       "\t7 & 7 & 0.0 \\\\\n",
       "\t8 & 8 & 0.0 \\\\\n",
       "\t9 & 9 & 0.0 \\\\\n",
       "\t10 & 10 & 0.0181684 \\\\\n",
       "\t11 & 11 & 0.443075 \\\\\n",
       "\t12 & 12 & 1.69087 \\\\\n",
       "\\end{tabular}\n"
      ],
      "text/plain": [
       "\u001b[1m12×2 DataFrame\u001b[0m\n",
       "\u001b[1m Row \u001b[0m│\u001b[1m Date  \u001b[0m\u001b[1m SnowTotal_mean \u001b[0m\n",
       "\u001b[1m     \u001b[0m│\u001b[90m Int64 \u001b[0m\u001b[90m Float64        \u001b[0m\n",
       "─────┼───────────────────────\n",
       "   1 │     1     1.62224\n",
       "   2 │     2     1.6671\n",
       "   3 │     3     1.10545\n",
       "   4 │     4     0.38695\n",
       "   5 │     5     0.000295421\n",
       "   6 │     6     0.0\n",
       "   7 │     7     0.0\n",
       "   8 │     8     0.0\n",
       "   9 │     9     0.0\n",
       "  10 │    10     0.0181684\n",
       "  11 │    11     0.443075\n",
       "  12 │    12     1.69087"
      ]
     },
     "execution_count": 2090,
     "metadata": {},
     "output_type": "execute_result"
    }
   ],
   "source": [
    "#Remplacer les valeurs de \"snowTotal\" manquantes et les grouper par années\n",
    "\n",
    "snowtotal_par_mois = copy(meteo)\n",
    "snowtotal_par_mois = rename(snowtotal_par_mois, :\"Total Snow (cm)\" => :SnowTotal)\n",
    "snowtotal_par_mois[!, \"Date\"] = [Dates.month(item) for item in snowtotal_par_mois[!, \"Date\"]]\n",
    "\n",
    "snowtotal_par_mois = dropmissing(snowtotal_par_mois)\n",
    "moyenne_par_mois = combine(groupby(snowtotal_par_mois, :Date), :SnowTotal => mean)\n"
   ]
  },
  {
   "cell_type": "markdown",
   "metadata": {},
   "source": [
    "On remplace les valeurs manquantes de \"Total Snow (cm)\"  par les valeurs de la moyenne des mois calculés dans le dataFrame calculé précedemment, puis la valeur de du dataframe est mise à jour."
   ]
  },
  {
   "cell_type": "code",
   "execution_count": 2091,
   "metadata": {},
   "outputs": [
    {
     "data": {
      "text/html": [
       "<div class=\"data-frame\"><p>8,036 rows × 5 columns</p><table class=\"data-frame\"><thead><tr><th></th><th>Date</th><th>Mean Temp (°C)</th><th>Total Rain (mm)</th><th>SnowTotal</th><th>SnowGround</th></tr><tr><th></th><th title=\"Date\">Date</th><th title=\"Union{Missing, Float64}\">Float64?</th><th title=\"Union{Missing, Float64}\">Float64?</th><th title=\"Union{Missing, Float64}\">Float64?</th><th title=\"Union{Missing, Int64}\">Int64?</th></tr></thead><tbody><tr><th>1</th><td>1999-01-01</td><td>-20.5</td><td>0.0</td><td>1.0</td><td>2</td></tr><tr><th>2</th><td>1999-01-02</td><td>-19.2</td><td>0.0</td><td>0.0</td><td>2</td></tr><tr><th>3</th><td>1999-01-03</td><td>-8.5</td><td>1.2</td><td>11.4</td><td>7</td></tr><tr><th>4</th><td>1999-01-04</td><td>-9.4</td><td>0.0</td><td>0.0</td><td>8</td></tr><tr><th>5</th><td>1999-01-05</td><td>-14.3</td><td>0.0</td><td>0.0</td><td>8</td></tr><tr><th>6</th><td>1999-01-06</td><td>-7.1</td><td>0.0</td><td>3.1</td><td>8</td></tr><tr><th>7</th><td>1999-01-07</td><td>-11.2</td><td>0.0</td><td>0.8</td><td>10</td></tr><tr><th>8</th><td>1999-01-08</td><td>-12.8</td><td>0.0</td><td>5.2</td><td>8</td></tr><tr><th>9</th><td>1999-01-09</td><td>-9.9</td><td>0.0</td><td>13.8</td><td>17</td></tr><tr><th>10</th><td>1999-01-10</td><td>-14.7</td><td>0.0</td><td>0.6</td><td>21</td></tr><tr><th>11</th><td>1999-01-11</td><td>-15.6</td><td>0.0</td><td>0.6</td><td>20</td></tr><tr><th>12</th><td>1999-01-12</td><td>-16.9</td><td>0.0</td><td>4.6</td><td>23</td></tr><tr><th>13</th><td>1999-01-13</td><td>-19.8</td><td>0.0</td><td>5.6</td><td>23</td></tr><tr><th>14</th><td>1999-01-14</td><td>-21.7</td><td>0.0</td><td>3.6</td><td>23</td></tr><tr><th>15</th><td>1999-01-15</td><td>-12.1</td><td>0.0</td><td>35.8</td><td>36</td></tr><tr><th>16</th><td>1999-01-16</td><td>-5.3</td><td>0.2</td><td>0.6</td><td>40</td></tr><tr><th>17</th><td>1999-01-17</td><td>1.3</td><td>0.0</td><td>0.0</td><td>32</td></tr><tr><th>18</th><td>1999-01-18</td><td>2.1</td><td>15.8</td><td>1.2</td><td>30</td></tr><tr><th>19</th><td>1999-01-19</td><td>1.3</td><td>0.0</td><td>0.4</td><td>24</td></tr><tr><th>20</th><td>1999-01-20</td><td>-1.7</td><td>0.0</td><td>1.2</td><td>20</td></tr><tr><th>21</th><td>1999-01-21</td><td>-4.0</td><td>0.0</td><td>3.2</td><td>20</td></tr><tr><th>22</th><td>1999-01-22</td><td>-4.6</td><td>7.6</td><td>2.0</td><td>22</td></tr><tr><th>23</th><td>1999-01-23</td><td>3.5</td><td>3.0</td><td>0.0</td><td>20</td></tr><tr><th>24</th><td>1999-01-24</td><td>2.8</td><td>3.4</td><td>0.0</td><td>12</td></tr><tr><th>25</th><td>1999-01-25</td><td>-6.2</td><td>0.0</td><td>0.0</td><td>7</td></tr><tr><th>26</th><td>1999-01-26</td><td>-5.1</td><td>0.0</td><td>0.4</td><td>7</td></tr><tr><th>27</th><td>1999-01-27</td><td>-6.9</td><td>0.0</td><td>0.0</td><td>7</td></tr><tr><th>28</th><td>1999-01-28</td><td>-12.4</td><td>0.0</td><td>0.0</td><td>7</td></tr><tr><th>29</th><td>1999-01-29</td><td>-12.6</td><td>0.0</td><td>0.0</td><td>7</td></tr><tr><th>30</th><td>1999-01-30</td><td>-11.1</td><td>0.0</td><td>0.0</td><td>7</td></tr><tr><th>&vellip;</th><td>&vellip;</td><td>&vellip;</td><td>&vellip;</td><td>&vellip;</td><td>&vellip;</td></tr></tbody></table></div>"
      ],
      "text/latex": [
       "\\begin{tabular}{r|ccccc}\n",
       "\t& Date & Mean Temp (°C) & Total Rain (mm) & SnowTotal & SnowGround\\\\\n",
       "\t\\hline\n",
       "\t& Date & Float64? & Float64? & Float64? & Int64?\\\\\n",
       "\t\\hline\n",
       "\t1 & 1999-01-01 & -20.5 & 0.0 & 1.0 & 2 \\\\\n",
       "\t2 & 1999-01-02 & -19.2 & 0.0 & 0.0 & 2 \\\\\n",
       "\t3 & 1999-01-03 & -8.5 & 1.2 & 11.4 & 7 \\\\\n",
       "\t4 & 1999-01-04 & -9.4 & 0.0 & 0.0 & 8 \\\\\n",
       "\t5 & 1999-01-05 & -14.3 & 0.0 & 0.0 & 8 \\\\\n",
       "\t6 & 1999-01-06 & -7.1 & 0.0 & 3.1 & 8 \\\\\n",
       "\t7 & 1999-01-07 & -11.2 & 0.0 & 0.8 & 10 \\\\\n",
       "\t8 & 1999-01-08 & -12.8 & 0.0 & 5.2 & 8 \\\\\n",
       "\t9 & 1999-01-09 & -9.9 & 0.0 & 13.8 & 17 \\\\\n",
       "\t10 & 1999-01-10 & -14.7 & 0.0 & 0.6 & 21 \\\\\n",
       "\t11 & 1999-01-11 & -15.6 & 0.0 & 0.6 & 20 \\\\\n",
       "\t12 & 1999-01-12 & -16.9 & 0.0 & 4.6 & 23 \\\\\n",
       "\t13 & 1999-01-13 & -19.8 & 0.0 & 5.6 & 23 \\\\\n",
       "\t14 & 1999-01-14 & -21.7 & 0.0 & 3.6 & 23 \\\\\n",
       "\t15 & 1999-01-15 & -12.1 & 0.0 & 35.8 & 36 \\\\\n",
       "\t16 & 1999-01-16 & -5.3 & 0.2 & 0.6 & 40 \\\\\n",
       "\t17 & 1999-01-17 & 1.3 & 0.0 & 0.0 & 32 \\\\\n",
       "\t18 & 1999-01-18 & 2.1 & 15.8 & 1.2 & 30 \\\\\n",
       "\t19 & 1999-01-19 & 1.3 & 0.0 & 0.4 & 24 \\\\\n",
       "\t20 & 1999-01-20 & -1.7 & 0.0 & 1.2 & 20 \\\\\n",
       "\t21 & 1999-01-21 & -4.0 & 0.0 & 3.2 & 20 \\\\\n",
       "\t22 & 1999-01-22 & -4.6 & 7.6 & 2.0 & 22 \\\\\n",
       "\t23 & 1999-01-23 & 3.5 & 3.0 & 0.0 & 20 \\\\\n",
       "\t24 & 1999-01-24 & 2.8 & 3.4 & 0.0 & 12 \\\\\n",
       "\t25 & 1999-01-25 & -6.2 & 0.0 & 0.0 & 7 \\\\\n",
       "\t26 & 1999-01-26 & -5.1 & 0.0 & 0.4 & 7 \\\\\n",
       "\t27 & 1999-01-27 & -6.9 & 0.0 & 0.0 & 7 \\\\\n",
       "\t28 & 1999-01-28 & -12.4 & 0.0 & 0.0 & 7 \\\\\n",
       "\t29 & 1999-01-29 & -12.6 & 0.0 & 0.0 & 7 \\\\\n",
       "\t30 & 1999-01-30 & -11.1 & 0.0 & 0.0 & 7 \\\\\n",
       "\t$\\dots$ & $\\dots$ & $\\dots$ & $\\dots$ & $\\dots$ & $\\dots$ \\\\\n",
       "\\end{tabular}\n"
      ],
      "text/plain": [
       "\u001b[1m8036×5 DataFrame\u001b[0m\n",
       "\u001b[1m  Row \u001b[0m│\u001b[1m Date       \u001b[0m\u001b[1m Mean Temp (°C) \u001b[0m\u001b[1m Total Rain (mm) \u001b[0m\u001b[1m SnowTotal \u001b[0m\u001b[1m SnowGround \u001b[0m\n",
       "\u001b[1m      \u001b[0m│\u001b[90m Date       \u001b[0m\u001b[90m Float64?       \u001b[0m\u001b[90m Float64?        \u001b[0m\u001b[90m Float64?  \u001b[0m\u001b[90m Int64?     \u001b[0m\n",
       "──────┼────────────────────────────────────────────────────────────────────\n",
       "    1 │ 1999-01-01           -20.5              0.0        1.0           2\n",
       "    2 │ 1999-01-02           -19.2              0.0        0.0           2\n",
       "    3 │ 1999-01-03            -8.5              1.2       11.4           7\n",
       "    4 │ 1999-01-04            -9.4              0.0        0.0           8\n",
       "    5 │ 1999-01-05           -14.3              0.0        0.0           8\n",
       "    6 │ 1999-01-06            -7.1              0.0        3.1           8\n",
       "    7 │ 1999-01-07           -11.2              0.0        0.8          10\n",
       "    8 │ 1999-01-08           -12.8              0.0        5.2           8\n",
       "    9 │ 1999-01-09            -9.9              0.0       13.8          17\n",
       "   10 │ 1999-01-10           -14.7              0.0        0.6          21\n",
       "   11 │ 1999-01-11           -15.6              0.0        0.6          20\n",
       "  ⋮   │     ⋮             ⋮                ⋮             ⋮          ⋮\n",
       " 8027 │ 2021-12-22            -4.8              0.0        0.0           4\n",
       " 8028 │ 2021-12-23           -12.3              0.0        0.0           4\n",
       " 8029 │ 2021-12-24           -10.2              0.0        0.0           4\n",
       " 8030 │ 2021-12-25            -6.4              0.0        2.2           4\n",
       " 8031 │ 2021-12-26            -2.2              0.0        0.6           4\n",
       " 8032 │ 2021-12-27            -7.0              0.0        0.0           4\n",
       " 8033 │ 2021-12-28            -5.8              0.0        2.0           5\n",
       " 8034 │ 2021-12-29            -5.2              0.0        0.0           5\n",
       " 8035 │ 2021-12-30            -4.2              0.0        0.6           5\n",
       " 8036 │ 2021-12-31            -1.7              0.0        0.2           6\n",
       "\u001b[36m                                                          8015 rows omitted\u001b[0m"
      ]
     },
     "execution_count": 2091,
     "metadata": {},
     "output_type": "execute_result"
    }
   ],
   "source": [
    "snowtotal_dropmissing = copy(meteo)\n",
    "snowtotal_dropmissing = rename(snowtotal_dropmissing, :\"Total Snow (cm)\" => :SnowTotal)\n",
    "\n",
    "n = nrow(snowtotal_dropmissing)\n",
    "moyenne_par_mois[!, \"SnowTotal_mean\"][1]\n",
    "for i=1:n\n",
    "    if ismissing(snowtotal_dropmissing[!, \"SnowTotal\"][i])\n",
    "        snowtotal_dropmissing[!, \"SnowTotal\"][i] = moyenne_par_mois[!, \"SnowTotal_mean\"][Dates.month(snowtotal_dropmissing[!, \"Date\"][i])]\n",
    "    end\n",
    "end\n",
    "\n",
    "meteo = snowtotal_dropmissing"
   ]
  },
  {
   "cell_type": "markdown",
   "metadata": {},
   "source": [
    "On crée un dataframe contenant les mois avec la valeur moyenne de \"Total Rain (mm)\""
   ]
  },
  {
   "cell_type": "code",
   "execution_count": 2092,
   "metadata": {},
   "outputs": [
    {
     "data": {
      "text/html": [
       "<div class=\"data-frame\"><p>12 rows × 2 columns</p><table class=\"data-frame\"><thead><tr><th></th><th>Date</th><th>raintotal_mean</th></tr><tr><th></th><th title=\"Int64\">Int64</th><th title=\"Float64\">Float64</th></tr></thead><tbody><tr><th>1</th><td>1</td><td>0.861561</td></tr><tr><th>2</th><td>2</td><td>0.691248</td></tr><tr><th>3</th><td>3</td><td>1.27187</td></tr><tr><th>4</th><td>4</td><td>2.75099</td></tr><tr><th>5</th><td>5</td><td>2.62777</td></tr><tr><th>6</th><td>6</td><td>3.16391</td></tr><tr><th>7</th><td>7</td><td>2.82548</td></tr><tr><th>8</th><td>8</td><td>3.11047</td></tr><tr><th>9</th><td>9</td><td>2.81366</td></tr><tr><th>10</th><td>10</td><td>3.65811</td></tr><tr><th>11</th><td>11</td><td>2.01979</td></tr><tr><th>12</th><td>12</td><td>1.67806</td></tr></tbody></table></div>"
      ],
      "text/latex": [
       "\\begin{tabular}{r|cc}\n",
       "\t& Date & raintotal\\_mean\\\\\n",
       "\t\\hline\n",
       "\t& Int64 & Float64\\\\\n",
       "\t\\hline\n",
       "\t1 & 1 & 0.861561 \\\\\n",
       "\t2 & 2 & 0.691248 \\\\\n",
       "\t3 & 3 & 1.27187 \\\\\n",
       "\t4 & 4 & 2.75099 \\\\\n",
       "\t5 & 5 & 2.62777 \\\\\n",
       "\t6 & 6 & 3.16391 \\\\\n",
       "\t7 & 7 & 2.82548 \\\\\n",
       "\t8 & 8 & 3.11047 \\\\\n",
       "\t9 & 9 & 2.81366 \\\\\n",
       "\t10 & 10 & 3.65811 \\\\\n",
       "\t11 & 11 & 2.01979 \\\\\n",
       "\t12 & 12 & 1.67806 \\\\\n",
       "\\end{tabular}\n"
      ],
      "text/plain": [
       "\u001b[1m12×2 DataFrame\u001b[0m\n",
       "\u001b[1m Row \u001b[0m│\u001b[1m Date  \u001b[0m\u001b[1m raintotal_mean \u001b[0m\n",
       "\u001b[1m     \u001b[0m│\u001b[90m Int64 \u001b[0m\u001b[90m Float64        \u001b[0m\n",
       "─────┼───────────────────────\n",
       "   1 │     1        0.861561\n",
       "   2 │     2        0.691248\n",
       "   3 │     3        1.27187\n",
       "   4 │     4        2.75099\n",
       "   5 │     5        2.62777\n",
       "   6 │     6        3.16391\n",
       "   7 │     7        2.82548\n",
       "   8 │     8        3.11047\n",
       "   9 │     9        2.81366\n",
       "  10 │    10        3.65811\n",
       "  11 │    11        2.01979\n",
       "  12 │    12        1.67806"
      ]
     },
     "execution_count": 2092,
     "metadata": {},
     "output_type": "execute_result"
    }
   ],
   "source": [
    "#Remplacer les valeurs de \"rain\" manquantes et les grouper par années\n",
    "\n",
    "raintotal_par_mois = copy(meteo)\n",
    "raintotal_par_mois = rename(raintotal_par_mois, :\"Total Rain (mm)\" => :raintotal)\n",
    "raintotal_par_mois[!, \"Date\"] = [Dates.month(item) for item in raintotal_par_mois[!, \"Date\"]]\n",
    "\n",
    "raintotal_par_mois = dropmissing(raintotal_par_mois)\n",
    "moyenne_par_mois = combine(groupby(raintotal_par_mois, :Date), :raintotal => mean)"
   ]
  },
  {
   "cell_type": "markdown",
   "metadata": {},
   "source": [
    "On remplace les valeurs manquantes de \"Total Rain (mm)\"  par les valeurs de la moyenne des mois calculés dans le dataFrame  précedemment, puis la valeur de du dataframe est mise à jour."
   ]
  },
  {
   "cell_type": "code",
   "execution_count": 2093,
   "metadata": {},
   "outputs": [
    {
     "data": {
      "text/html": [
       "<div class=\"data-frame\"><p>8,036 rows × 5 columns</p><table class=\"data-frame\"><thead><tr><th></th><th>Date</th><th>Mean Temp (°C)</th><th>raintotal</th><th>SnowTotal</th><th>SnowGround</th></tr><tr><th></th><th title=\"Date\">Date</th><th title=\"Union{Missing, Float64}\">Float64?</th><th title=\"Union{Missing, Float64}\">Float64?</th><th title=\"Union{Missing, Float64}\">Float64?</th><th title=\"Union{Missing, Int64}\">Int64?</th></tr></thead><tbody><tr><th>1</th><td>1999-01-01</td><td>-20.5</td><td>0.0</td><td>1.0</td><td>2</td></tr><tr><th>2</th><td>1999-01-02</td><td>-19.2</td><td>0.0</td><td>0.0</td><td>2</td></tr><tr><th>3</th><td>1999-01-03</td><td>-8.5</td><td>1.2</td><td>11.4</td><td>7</td></tr><tr><th>4</th><td>1999-01-04</td><td>-9.4</td><td>0.0</td><td>0.0</td><td>8</td></tr><tr><th>5</th><td>1999-01-05</td><td>-14.3</td><td>0.0</td><td>0.0</td><td>8</td></tr><tr><th>6</th><td>1999-01-06</td><td>-7.1</td><td>0.0</td><td>3.1</td><td>8</td></tr><tr><th>7</th><td>1999-01-07</td><td>-11.2</td><td>0.0</td><td>0.8</td><td>10</td></tr><tr><th>8</th><td>1999-01-08</td><td>-12.8</td><td>0.0</td><td>5.2</td><td>8</td></tr><tr><th>9</th><td>1999-01-09</td><td>-9.9</td><td>0.0</td><td>13.8</td><td>17</td></tr><tr><th>10</th><td>1999-01-10</td><td>-14.7</td><td>0.0</td><td>0.6</td><td>21</td></tr><tr><th>11</th><td>1999-01-11</td><td>-15.6</td><td>0.0</td><td>0.6</td><td>20</td></tr><tr><th>12</th><td>1999-01-12</td><td>-16.9</td><td>0.0</td><td>4.6</td><td>23</td></tr><tr><th>13</th><td>1999-01-13</td><td>-19.8</td><td>0.0</td><td>5.6</td><td>23</td></tr><tr><th>14</th><td>1999-01-14</td><td>-21.7</td><td>0.0</td><td>3.6</td><td>23</td></tr><tr><th>15</th><td>1999-01-15</td><td>-12.1</td><td>0.0</td><td>35.8</td><td>36</td></tr><tr><th>16</th><td>1999-01-16</td><td>-5.3</td><td>0.2</td><td>0.6</td><td>40</td></tr><tr><th>17</th><td>1999-01-17</td><td>1.3</td><td>0.0</td><td>0.0</td><td>32</td></tr><tr><th>18</th><td>1999-01-18</td><td>2.1</td><td>15.8</td><td>1.2</td><td>30</td></tr><tr><th>19</th><td>1999-01-19</td><td>1.3</td><td>0.0</td><td>0.4</td><td>24</td></tr><tr><th>20</th><td>1999-01-20</td><td>-1.7</td><td>0.0</td><td>1.2</td><td>20</td></tr><tr><th>21</th><td>1999-01-21</td><td>-4.0</td><td>0.0</td><td>3.2</td><td>20</td></tr><tr><th>22</th><td>1999-01-22</td><td>-4.6</td><td>7.6</td><td>2.0</td><td>22</td></tr><tr><th>23</th><td>1999-01-23</td><td>3.5</td><td>3.0</td><td>0.0</td><td>20</td></tr><tr><th>24</th><td>1999-01-24</td><td>2.8</td><td>3.4</td><td>0.0</td><td>12</td></tr><tr><th>25</th><td>1999-01-25</td><td>-6.2</td><td>0.0</td><td>0.0</td><td>7</td></tr><tr><th>26</th><td>1999-01-26</td><td>-5.1</td><td>0.0</td><td>0.4</td><td>7</td></tr><tr><th>27</th><td>1999-01-27</td><td>-6.9</td><td>0.0</td><td>0.0</td><td>7</td></tr><tr><th>28</th><td>1999-01-28</td><td>-12.4</td><td>0.0</td><td>0.0</td><td>7</td></tr><tr><th>29</th><td>1999-01-29</td><td>-12.6</td><td>0.0</td><td>0.0</td><td>7</td></tr><tr><th>30</th><td>1999-01-30</td><td>-11.1</td><td>0.0</td><td>0.0</td><td>7</td></tr><tr><th>&vellip;</th><td>&vellip;</td><td>&vellip;</td><td>&vellip;</td><td>&vellip;</td><td>&vellip;</td></tr></tbody></table></div>"
      ],
      "text/latex": [
       "\\begin{tabular}{r|ccccc}\n",
       "\t& Date & Mean Temp (°C) & raintotal & SnowTotal & SnowGround\\\\\n",
       "\t\\hline\n",
       "\t& Date & Float64? & Float64? & Float64? & Int64?\\\\\n",
       "\t\\hline\n",
       "\t1 & 1999-01-01 & -20.5 & 0.0 & 1.0 & 2 \\\\\n",
       "\t2 & 1999-01-02 & -19.2 & 0.0 & 0.0 & 2 \\\\\n",
       "\t3 & 1999-01-03 & -8.5 & 1.2 & 11.4 & 7 \\\\\n",
       "\t4 & 1999-01-04 & -9.4 & 0.0 & 0.0 & 8 \\\\\n",
       "\t5 & 1999-01-05 & -14.3 & 0.0 & 0.0 & 8 \\\\\n",
       "\t6 & 1999-01-06 & -7.1 & 0.0 & 3.1 & 8 \\\\\n",
       "\t7 & 1999-01-07 & -11.2 & 0.0 & 0.8 & 10 \\\\\n",
       "\t8 & 1999-01-08 & -12.8 & 0.0 & 5.2 & 8 \\\\\n",
       "\t9 & 1999-01-09 & -9.9 & 0.0 & 13.8 & 17 \\\\\n",
       "\t10 & 1999-01-10 & -14.7 & 0.0 & 0.6 & 21 \\\\\n",
       "\t11 & 1999-01-11 & -15.6 & 0.0 & 0.6 & 20 \\\\\n",
       "\t12 & 1999-01-12 & -16.9 & 0.0 & 4.6 & 23 \\\\\n",
       "\t13 & 1999-01-13 & -19.8 & 0.0 & 5.6 & 23 \\\\\n",
       "\t14 & 1999-01-14 & -21.7 & 0.0 & 3.6 & 23 \\\\\n",
       "\t15 & 1999-01-15 & -12.1 & 0.0 & 35.8 & 36 \\\\\n",
       "\t16 & 1999-01-16 & -5.3 & 0.2 & 0.6 & 40 \\\\\n",
       "\t17 & 1999-01-17 & 1.3 & 0.0 & 0.0 & 32 \\\\\n",
       "\t18 & 1999-01-18 & 2.1 & 15.8 & 1.2 & 30 \\\\\n",
       "\t19 & 1999-01-19 & 1.3 & 0.0 & 0.4 & 24 \\\\\n",
       "\t20 & 1999-01-20 & -1.7 & 0.0 & 1.2 & 20 \\\\\n",
       "\t21 & 1999-01-21 & -4.0 & 0.0 & 3.2 & 20 \\\\\n",
       "\t22 & 1999-01-22 & -4.6 & 7.6 & 2.0 & 22 \\\\\n",
       "\t23 & 1999-01-23 & 3.5 & 3.0 & 0.0 & 20 \\\\\n",
       "\t24 & 1999-01-24 & 2.8 & 3.4 & 0.0 & 12 \\\\\n",
       "\t25 & 1999-01-25 & -6.2 & 0.0 & 0.0 & 7 \\\\\n",
       "\t26 & 1999-01-26 & -5.1 & 0.0 & 0.4 & 7 \\\\\n",
       "\t27 & 1999-01-27 & -6.9 & 0.0 & 0.0 & 7 \\\\\n",
       "\t28 & 1999-01-28 & -12.4 & 0.0 & 0.0 & 7 \\\\\n",
       "\t29 & 1999-01-29 & -12.6 & 0.0 & 0.0 & 7 \\\\\n",
       "\t30 & 1999-01-30 & -11.1 & 0.0 & 0.0 & 7 \\\\\n",
       "\t$\\dots$ & $\\dots$ & $\\dots$ & $\\dots$ & $\\dots$ & $\\dots$ \\\\\n",
       "\\end{tabular}\n"
      ],
      "text/plain": [
       "\u001b[1m8036×5 DataFrame\u001b[0m\n",
       "\u001b[1m  Row \u001b[0m│\u001b[1m Date       \u001b[0m\u001b[1m Mean Temp (°C) \u001b[0m\u001b[1m raintotal \u001b[0m\u001b[1m SnowTotal \u001b[0m\u001b[1m SnowGround \u001b[0m\n",
       "\u001b[1m      \u001b[0m│\u001b[90m Date       \u001b[0m\u001b[90m Float64?       \u001b[0m\u001b[90m Float64?  \u001b[0m\u001b[90m Float64?  \u001b[0m\u001b[90m Int64?     \u001b[0m\n",
       "──────┼──────────────────────────────────────────────────────────────\n",
       "    1 │ 1999-01-01           -20.5        0.0        1.0           2\n",
       "    2 │ 1999-01-02           -19.2        0.0        0.0           2\n",
       "    3 │ 1999-01-03            -8.5        1.2       11.4           7\n",
       "    4 │ 1999-01-04            -9.4        0.0        0.0           8\n",
       "    5 │ 1999-01-05           -14.3        0.0        0.0           8\n",
       "    6 │ 1999-01-06            -7.1        0.0        3.1           8\n",
       "    7 │ 1999-01-07           -11.2        0.0        0.8          10\n",
       "    8 │ 1999-01-08           -12.8        0.0        5.2           8\n",
       "    9 │ 1999-01-09            -9.9        0.0       13.8          17\n",
       "   10 │ 1999-01-10           -14.7        0.0        0.6          21\n",
       "   11 │ 1999-01-11           -15.6        0.0        0.6          20\n",
       "  ⋮   │     ⋮             ⋮             ⋮          ⋮          ⋮\n",
       " 8027 │ 2021-12-22            -4.8        0.0        0.0           4\n",
       " 8028 │ 2021-12-23           -12.3        0.0        0.0           4\n",
       " 8029 │ 2021-12-24           -10.2        0.0        0.0           4\n",
       " 8030 │ 2021-12-25            -6.4        0.0        2.2           4\n",
       " 8031 │ 2021-12-26            -2.2        0.0        0.6           4\n",
       " 8032 │ 2021-12-27            -7.0        0.0        0.0           4\n",
       " 8033 │ 2021-12-28            -5.8        0.0        2.0           5\n",
       " 8034 │ 2021-12-29            -5.2        0.0        0.0           5\n",
       " 8035 │ 2021-12-30            -4.2        0.0        0.6           5\n",
       " 8036 │ 2021-12-31            -1.7        0.0        0.2           6\n",
       "\u001b[36m                                                    8015 rows omitted\u001b[0m"
      ]
     },
     "execution_count": 2093,
     "metadata": {},
     "output_type": "execute_result"
    }
   ],
   "source": [
    "raintotal_dropmissing = copy(meteo)\n",
    "raintotal_dropmissing = rename(raintotal_dropmissing, :\"Total Rain (mm)\" => :raintotal)\n",
    "\n",
    "n = nrow(raintotal_dropmissing)\n",
    "moyenne_par_mois[!, \"raintotal_mean\"][1]\n",
    "for i=1:n\n",
    "    if ismissing(raintotal_dropmissing[!, \"raintotal\"][i])\n",
    "        raintotal_dropmissing[!, \"raintotal\"][i] = moyenne_par_mois[!, \"raintotal_mean\"][Dates.month(raintotal_dropmissing[!, \"Date\"][i])]\n",
    "    end\n",
    "end\n",
    "meteo = raintotal_dropmissing"
   ]
  },
  {
   "cell_type": "markdown",
   "metadata": {},
   "source": [
    "On crée un dataframe contenant les mois avec la valeur moyenne de \"Mean Temp (°C)\""
   ]
  },
  {
   "cell_type": "code",
   "execution_count": 2094,
   "metadata": {},
   "outputs": [
    {
     "data": {
      "text/html": [
       "<div class=\"data-frame\"><p>12 rows × 2 columns</p><table class=\"data-frame\"><thead><tr><th></th><th>Date</th><th>meantemp_mean</th></tr><tr><th></th><th title=\"Int64\">Int64</th><th title=\"Float64\">Float64</th></tr></thead><tbody><tr><th>1</th><td>1</td><td>-8.69604</td></tr><tr><th>2</th><td>2</td><td>-7.34428</td></tr><tr><th>3</th><td>3</td><td>-1.60073</td></tr><tr><th>4</th><td>4</td><td>6.461</td></tr><tr><th>5</th><td>5</td><td>13.9926</td></tr><tr><th>6</th><td>6</td><td>19.1701</td></tr><tr><th>7</th><td>7</td><td>21.8772</td></tr><tr><th>8</th><td>8</td><td>21.0454</td></tr><tr><th>9</th><td>9</td><td>16.7727</td></tr><tr><th>10</th><td>10</td><td>9.25286</td></tr><tr><th>11</th><td>11</td><td>2.58892</td></tr><tr><th>12</th><td>12</td><td>-4.4371</td></tr></tbody></table></div>"
      ],
      "text/latex": [
       "\\begin{tabular}{r|cc}\n",
       "\t& Date & meantemp\\_mean\\\\\n",
       "\t\\hline\n",
       "\t& Int64 & Float64\\\\\n",
       "\t\\hline\n",
       "\t1 & 1 & -8.69604 \\\\\n",
       "\t2 & 2 & -7.34428 \\\\\n",
       "\t3 & 3 & -1.60073 \\\\\n",
       "\t4 & 4 & 6.461 \\\\\n",
       "\t5 & 5 & 13.9926 \\\\\n",
       "\t6 & 6 & 19.1701 \\\\\n",
       "\t7 & 7 & 21.8772 \\\\\n",
       "\t8 & 8 & 21.0454 \\\\\n",
       "\t9 & 9 & 16.7727 \\\\\n",
       "\t10 & 10 & 9.25286 \\\\\n",
       "\t11 & 11 & 2.58892 \\\\\n",
       "\t12 & 12 & -4.4371 \\\\\n",
       "\\end{tabular}\n"
      ],
      "text/plain": [
       "\u001b[1m12×2 DataFrame\u001b[0m\n",
       "\u001b[1m Row \u001b[0m│\u001b[1m Date  \u001b[0m\u001b[1m meantemp_mean \u001b[0m\n",
       "\u001b[1m     \u001b[0m│\u001b[90m Int64 \u001b[0m\u001b[90m Float64       \u001b[0m\n",
       "─────┼──────────────────────\n",
       "   1 │     1       -8.69604\n",
       "   2 │     2       -7.34428\n",
       "   3 │     3       -1.60073\n",
       "   4 │     4        6.461\n",
       "   5 │     5       13.9926\n",
       "   6 │     6       19.1701\n",
       "   7 │     7       21.8772\n",
       "   8 │     8       21.0454\n",
       "   9 │     9       16.7727\n",
       "  10 │    10        9.25286\n",
       "  11 │    11        2.58892\n",
       "  12 │    12       -4.4371"
      ]
     },
     "execution_count": 2094,
     "metadata": {},
     "output_type": "execute_result"
    }
   ],
   "source": [
    "#Remplacer les températures manquantes et les grouper par années\n",
    "\n",
    "meantemp_par_mois = copy(meteo)\n",
    "meantemp_par_mois = rename(meantemp_par_mois, :\"Mean Temp (°C)\" => :meantemp)\n",
    "meantemp_par_mois[!, \"Date\"] = [Dates.month(item) for item in meantemp_par_mois[!, \"Date\"]]\n",
    "\n",
    "meantemp_par_mois = dropmissing(meantemp_par_mois)\n",
    "moyenne_par_mois = combine(groupby(meantemp_par_mois, :Date), :meantemp => mean)"
   ]
  },
  {
   "cell_type": "markdown",
   "metadata": {},
   "source": [
    "On remplace les valeurs manquantes de \"Mean Temp (°C)\"  par les valeurs de la moyenne des mois calculés dans le dataFrame calculé précedemment, puis la valeur dans le dataframe est mise à jour."
   ]
  },
  {
   "cell_type": "code",
   "execution_count": 2095,
   "metadata": {},
   "outputs": [
    {
     "data": {
      "text/html": [
       "<div class=\"data-frame\"><p>8,036 rows × 5 columns</p><table class=\"data-frame\"><thead><tr><th></th><th>Date</th><th>meantemp</th><th>raintotal</th><th>SnowTotal</th><th>SnowGround</th></tr><tr><th></th><th title=\"Date\">Date</th><th title=\"Union{Missing, Float64}\">Float64?</th><th title=\"Union{Missing, Float64}\">Float64?</th><th title=\"Union{Missing, Float64}\">Float64?</th><th title=\"Union{Missing, Int64}\">Int64?</th></tr></thead><tbody><tr><th>1</th><td>1999-01-01</td><td>-20.5</td><td>0.0</td><td>1.0</td><td>2</td></tr><tr><th>2</th><td>1999-01-02</td><td>-19.2</td><td>0.0</td><td>0.0</td><td>2</td></tr><tr><th>3</th><td>1999-01-03</td><td>-8.5</td><td>1.2</td><td>11.4</td><td>7</td></tr><tr><th>4</th><td>1999-01-04</td><td>-9.4</td><td>0.0</td><td>0.0</td><td>8</td></tr><tr><th>5</th><td>1999-01-05</td><td>-14.3</td><td>0.0</td><td>0.0</td><td>8</td></tr><tr><th>6</th><td>1999-01-06</td><td>-7.1</td><td>0.0</td><td>3.1</td><td>8</td></tr><tr><th>7</th><td>1999-01-07</td><td>-11.2</td><td>0.0</td><td>0.8</td><td>10</td></tr><tr><th>8</th><td>1999-01-08</td><td>-12.8</td><td>0.0</td><td>5.2</td><td>8</td></tr><tr><th>9</th><td>1999-01-09</td><td>-9.9</td><td>0.0</td><td>13.8</td><td>17</td></tr><tr><th>10</th><td>1999-01-10</td><td>-14.7</td><td>0.0</td><td>0.6</td><td>21</td></tr><tr><th>11</th><td>1999-01-11</td><td>-15.6</td><td>0.0</td><td>0.6</td><td>20</td></tr><tr><th>12</th><td>1999-01-12</td><td>-16.9</td><td>0.0</td><td>4.6</td><td>23</td></tr><tr><th>13</th><td>1999-01-13</td><td>-19.8</td><td>0.0</td><td>5.6</td><td>23</td></tr><tr><th>14</th><td>1999-01-14</td><td>-21.7</td><td>0.0</td><td>3.6</td><td>23</td></tr><tr><th>15</th><td>1999-01-15</td><td>-12.1</td><td>0.0</td><td>35.8</td><td>36</td></tr><tr><th>16</th><td>1999-01-16</td><td>-5.3</td><td>0.2</td><td>0.6</td><td>40</td></tr><tr><th>17</th><td>1999-01-17</td><td>1.3</td><td>0.0</td><td>0.0</td><td>32</td></tr><tr><th>18</th><td>1999-01-18</td><td>2.1</td><td>15.8</td><td>1.2</td><td>30</td></tr><tr><th>19</th><td>1999-01-19</td><td>1.3</td><td>0.0</td><td>0.4</td><td>24</td></tr><tr><th>20</th><td>1999-01-20</td><td>-1.7</td><td>0.0</td><td>1.2</td><td>20</td></tr><tr><th>21</th><td>1999-01-21</td><td>-4.0</td><td>0.0</td><td>3.2</td><td>20</td></tr><tr><th>22</th><td>1999-01-22</td><td>-4.6</td><td>7.6</td><td>2.0</td><td>22</td></tr><tr><th>23</th><td>1999-01-23</td><td>3.5</td><td>3.0</td><td>0.0</td><td>20</td></tr><tr><th>24</th><td>1999-01-24</td><td>2.8</td><td>3.4</td><td>0.0</td><td>12</td></tr><tr><th>25</th><td>1999-01-25</td><td>-6.2</td><td>0.0</td><td>0.0</td><td>7</td></tr><tr><th>26</th><td>1999-01-26</td><td>-5.1</td><td>0.0</td><td>0.4</td><td>7</td></tr><tr><th>27</th><td>1999-01-27</td><td>-6.9</td><td>0.0</td><td>0.0</td><td>7</td></tr><tr><th>28</th><td>1999-01-28</td><td>-12.4</td><td>0.0</td><td>0.0</td><td>7</td></tr><tr><th>29</th><td>1999-01-29</td><td>-12.6</td><td>0.0</td><td>0.0</td><td>7</td></tr><tr><th>30</th><td>1999-01-30</td><td>-11.1</td><td>0.0</td><td>0.0</td><td>7</td></tr><tr><th>&vellip;</th><td>&vellip;</td><td>&vellip;</td><td>&vellip;</td><td>&vellip;</td><td>&vellip;</td></tr></tbody></table></div>"
      ],
      "text/latex": [
       "\\begin{tabular}{r|ccccc}\n",
       "\t& Date & meantemp & raintotal & SnowTotal & SnowGround\\\\\n",
       "\t\\hline\n",
       "\t& Date & Float64? & Float64? & Float64? & Int64?\\\\\n",
       "\t\\hline\n",
       "\t1 & 1999-01-01 & -20.5 & 0.0 & 1.0 & 2 \\\\\n",
       "\t2 & 1999-01-02 & -19.2 & 0.0 & 0.0 & 2 \\\\\n",
       "\t3 & 1999-01-03 & -8.5 & 1.2 & 11.4 & 7 \\\\\n",
       "\t4 & 1999-01-04 & -9.4 & 0.0 & 0.0 & 8 \\\\\n",
       "\t5 & 1999-01-05 & -14.3 & 0.0 & 0.0 & 8 \\\\\n",
       "\t6 & 1999-01-06 & -7.1 & 0.0 & 3.1 & 8 \\\\\n",
       "\t7 & 1999-01-07 & -11.2 & 0.0 & 0.8 & 10 \\\\\n",
       "\t8 & 1999-01-08 & -12.8 & 0.0 & 5.2 & 8 \\\\\n",
       "\t9 & 1999-01-09 & -9.9 & 0.0 & 13.8 & 17 \\\\\n",
       "\t10 & 1999-01-10 & -14.7 & 0.0 & 0.6 & 21 \\\\\n",
       "\t11 & 1999-01-11 & -15.6 & 0.0 & 0.6 & 20 \\\\\n",
       "\t12 & 1999-01-12 & -16.9 & 0.0 & 4.6 & 23 \\\\\n",
       "\t13 & 1999-01-13 & -19.8 & 0.0 & 5.6 & 23 \\\\\n",
       "\t14 & 1999-01-14 & -21.7 & 0.0 & 3.6 & 23 \\\\\n",
       "\t15 & 1999-01-15 & -12.1 & 0.0 & 35.8 & 36 \\\\\n",
       "\t16 & 1999-01-16 & -5.3 & 0.2 & 0.6 & 40 \\\\\n",
       "\t17 & 1999-01-17 & 1.3 & 0.0 & 0.0 & 32 \\\\\n",
       "\t18 & 1999-01-18 & 2.1 & 15.8 & 1.2 & 30 \\\\\n",
       "\t19 & 1999-01-19 & 1.3 & 0.0 & 0.4 & 24 \\\\\n",
       "\t20 & 1999-01-20 & -1.7 & 0.0 & 1.2 & 20 \\\\\n",
       "\t21 & 1999-01-21 & -4.0 & 0.0 & 3.2 & 20 \\\\\n",
       "\t22 & 1999-01-22 & -4.6 & 7.6 & 2.0 & 22 \\\\\n",
       "\t23 & 1999-01-23 & 3.5 & 3.0 & 0.0 & 20 \\\\\n",
       "\t24 & 1999-01-24 & 2.8 & 3.4 & 0.0 & 12 \\\\\n",
       "\t25 & 1999-01-25 & -6.2 & 0.0 & 0.0 & 7 \\\\\n",
       "\t26 & 1999-01-26 & -5.1 & 0.0 & 0.4 & 7 \\\\\n",
       "\t27 & 1999-01-27 & -6.9 & 0.0 & 0.0 & 7 \\\\\n",
       "\t28 & 1999-01-28 & -12.4 & 0.0 & 0.0 & 7 \\\\\n",
       "\t29 & 1999-01-29 & -12.6 & 0.0 & 0.0 & 7 \\\\\n",
       "\t30 & 1999-01-30 & -11.1 & 0.0 & 0.0 & 7 \\\\\n",
       "\t$\\dots$ & $\\dots$ & $\\dots$ & $\\dots$ & $\\dots$ & $\\dots$ \\\\\n",
       "\\end{tabular}\n"
      ],
      "text/plain": [
       "\u001b[1m8036×5 DataFrame\u001b[0m\n",
       "\u001b[1m  Row \u001b[0m│\u001b[1m Date       \u001b[0m\u001b[1m meantemp \u001b[0m\u001b[1m raintotal \u001b[0m\u001b[1m SnowTotal \u001b[0m\u001b[1m SnowGround \u001b[0m\n",
       "\u001b[1m      \u001b[0m│\u001b[90m Date       \u001b[0m\u001b[90m Float64? \u001b[0m\u001b[90m Float64?  \u001b[0m\u001b[90m Float64?  \u001b[0m\u001b[90m Int64?     \u001b[0m\n",
       "──────┼────────────────────────────────────────────────────────\n",
       "    1 │ 1999-01-01     -20.5        0.0        1.0           2\n",
       "    2 │ 1999-01-02     -19.2        0.0        0.0           2\n",
       "    3 │ 1999-01-03      -8.5        1.2       11.4           7\n",
       "    4 │ 1999-01-04      -9.4        0.0        0.0           8\n",
       "    5 │ 1999-01-05     -14.3        0.0        0.0           8\n",
       "    6 │ 1999-01-06      -7.1        0.0        3.1           8\n",
       "    7 │ 1999-01-07     -11.2        0.0        0.8          10\n",
       "    8 │ 1999-01-08     -12.8        0.0        5.2           8\n",
       "    9 │ 1999-01-09      -9.9        0.0       13.8          17\n",
       "   10 │ 1999-01-10     -14.7        0.0        0.6          21\n",
       "   11 │ 1999-01-11     -15.6        0.0        0.6          20\n",
       "  ⋮   │     ⋮          ⋮          ⋮          ⋮          ⋮\n",
       " 8027 │ 2021-12-22      -4.8        0.0        0.0           4\n",
       " 8028 │ 2021-12-23     -12.3        0.0        0.0           4\n",
       " 8029 │ 2021-12-24     -10.2        0.0        0.0           4\n",
       " 8030 │ 2021-12-25      -6.4        0.0        2.2           4\n",
       " 8031 │ 2021-12-26      -2.2        0.0        0.6           4\n",
       " 8032 │ 2021-12-27      -7.0        0.0        0.0           4\n",
       " 8033 │ 2021-12-28      -5.8        0.0        2.0           5\n",
       " 8034 │ 2021-12-29      -5.2        0.0        0.0           5\n",
       " 8035 │ 2021-12-30      -4.2        0.0        0.6           5\n",
       " 8036 │ 2021-12-31      -1.7        0.0        0.2           6\n",
       "\u001b[36m                                              8015 rows omitted\u001b[0m"
      ]
     },
     "execution_count": 2095,
     "metadata": {},
     "output_type": "execute_result"
    }
   ],
   "source": [
    "meantemp_dropmissing = copy(meteo)\n",
    "meantemp_dropmissing = rename(meantemp_dropmissing, :\"Mean Temp (°C)\" => :meantemp)\n",
    "\n",
    "n = nrow(meantemp_dropmissing)\n",
    "moyenne_par_mois[!, \"meantemp_mean\"][1]\n",
    "for i=1:n\n",
    "    if ismissing(meantemp_dropmissing[!, \"meantemp\"][i])\n",
    "        meantemp_dropmissing[!, \"meantemp\"][i] = moyenne_par_mois[!, \"meantemp_mean\"][Dates.month(meantemp_dropmissing[!, \"Date\"][i])]\n",
    "    end\n",
    "end\n",
    "\n",
    "meteo = meantemp_dropmissing"
   ]
  },
  {
   "cell_type": "markdown",
   "metadata": {},
   "source": [
    "## 2.2 Création de la matrice X"
   ]
  },
  {
   "cell_type": "markdown",
   "metadata": {},
   "source": [
    "Afin d'appliquer notre régression linéaire nous avons décider de regroupe toutes nos données dans un tableau ou toutes les données d'une année correspondantes sont étalés sur une ligne, pour les données qui était décrites par mois nous avons choisit de les regrouper par année en utilisant la moyenne"
   ]
  },
  {
   "cell_type": "markdown",
   "metadata": {},
   "source": [
    "### Creation d'un dataframe correspondant au années et à la moyenne annuelle de \"Mean Temp (°C)\" "
   ]
  },
  {
   "cell_type": "code",
   "execution_count": 2096,
   "metadata": {},
   "outputs": [
    {
     "data": {
      "text/html": [
       "<div class=\"data-frame\"><p>22 rows × 2 columns</p><table class=\"data-frame\"><thead><tr><th></th><th>Date</th><th>meantemp_mean</th></tr><tr><th></th><th title=\"Int64\">Int64</th><th title=\"Float64\">Float64</th></tr></thead><tbody><tr><th>1</th><td>1999</td><td>8.27338</td></tr><tr><th>2</th><td>2000</td><td>6.43885</td></tr><tr><th>3</th><td>2001</td><td>8.01671</td></tr><tr><th>4</th><td>2002</td><td>7.55123</td></tr><tr><th>5</th><td>2003</td><td>6.43589</td></tr><tr><th>6</th><td>2004</td><td>6.24918</td></tr><tr><th>7</th><td>2005</td><td>7.46301</td></tr><tr><th>8</th><td>2006</td><td>8.20247</td></tr><tr><th>9</th><td>2007</td><td>6.89753</td></tr><tr><th>10</th><td>2008</td><td>7.02596</td></tr><tr><th>11</th><td>2009</td><td>6.67945</td></tr><tr><th>12</th><td>2010</td><td>8.46959</td></tr><tr><th>13</th><td>2011</td><td>8.02712</td></tr><tr><th>14</th><td>2012</td><td>8.53361</td></tr><tr><th>15</th><td>2014</td><td>6.86712</td></tr><tr><th>16</th><td>2015</td><td>7.13945</td></tr><tr><th>17</th><td>2016</td><td>8.09633</td></tr><tr><th>18</th><td>2017</td><td>7.63394</td></tr><tr><th>19</th><td>2018</td><td>7.35671</td></tr><tr><th>20</th><td>2019</td><td>6.57394</td></tr><tr><th>21</th><td>2020</td><td>8.2331</td></tr><tr><th>22</th><td>2021</td><td>8.65903</td></tr></tbody></table></div>"
      ],
      "text/latex": [
       "\\begin{tabular}{r|cc}\n",
       "\t& Date & meantemp\\_mean\\\\\n",
       "\t\\hline\n",
       "\t& Int64 & Float64\\\\\n",
       "\t\\hline\n",
       "\t1 & 1999 & 8.27338 \\\\\n",
       "\t2 & 2000 & 6.43885 \\\\\n",
       "\t3 & 2001 & 8.01671 \\\\\n",
       "\t4 & 2002 & 7.55123 \\\\\n",
       "\t5 & 2003 & 6.43589 \\\\\n",
       "\t6 & 2004 & 6.24918 \\\\\n",
       "\t7 & 2005 & 7.46301 \\\\\n",
       "\t8 & 2006 & 8.20247 \\\\\n",
       "\t9 & 2007 & 6.89753 \\\\\n",
       "\t10 & 2008 & 7.02596 \\\\\n",
       "\t11 & 2009 & 6.67945 \\\\\n",
       "\t12 & 2010 & 8.46959 \\\\\n",
       "\t13 & 2011 & 8.02712 \\\\\n",
       "\t14 & 2012 & 8.53361 \\\\\n",
       "\t15 & 2014 & 6.86712 \\\\\n",
       "\t16 & 2015 & 7.13945 \\\\\n",
       "\t17 & 2016 & 8.09633 \\\\\n",
       "\t18 & 2017 & 7.63394 \\\\\n",
       "\t19 & 2018 & 7.35671 \\\\\n",
       "\t20 & 2019 & 6.57394 \\\\\n",
       "\t21 & 2020 & 8.2331 \\\\\n",
       "\t22 & 2021 & 8.65903 \\\\\n",
       "\\end{tabular}\n"
      ],
      "text/plain": [
       "\u001b[1m22×2 DataFrame\u001b[0m\n",
       "\u001b[1m Row \u001b[0m│\u001b[1m Date  \u001b[0m\u001b[1m meantemp_mean \u001b[0m\n",
       "\u001b[1m     \u001b[0m│\u001b[90m Int64 \u001b[0m\u001b[90m Float64       \u001b[0m\n",
       "─────┼──────────────────────\n",
       "   1 │  1999        8.27338\n",
       "   2 │  2000        6.43885\n",
       "   3 │  2001        8.01671\n",
       "   4 │  2002        7.55123\n",
       "   5 │  2003        6.43589\n",
       "   6 │  2004        6.24918\n",
       "   7 │  2005        7.46301\n",
       "   8 │  2006        8.20247\n",
       "   9 │  2007        6.89753\n",
       "  10 │  2008        7.02596\n",
       "  11 │  2009        6.67945\n",
       "  12 │  2010        8.46959\n",
       "  13 │  2011        8.02712\n",
       "  14 │  2012        8.53361\n",
       "  15 │  2014        6.86712\n",
       "  16 │  2015        7.13945\n",
       "  17 │  2016        8.09633\n",
       "  18 │  2017        7.63394\n",
       "  19 │  2018        7.35671\n",
       "  20 │  2019        6.57394\n",
       "  21 │  2020        8.2331\n",
       "  22 │  2021        8.65903"
      ]
     },
     "execution_count": 2096,
     "metadata": {},
     "output_type": "execute_result"
    }
   ],
   "source": [
    "meantemp_par_an = copy(meteo)\n",
    "meantemp_par_an[!, \"Date\"] = [Dates.year(item) for item in meantemp_par_an[!, \"Date\"]]\n",
    "meantemp_par_an = combine(groupby(meantemp_par_an, :Date), :meantemp => mean)"
   ]
  },
  {
   "cell_type": "markdown",
   "metadata": {},
   "source": [
    "### Creation d'un dataframe correspondant au années et à la moyenne annuelle de \"Total Snow (cm)\" "
   ]
  },
  {
   "cell_type": "code",
   "execution_count": 2097,
   "metadata": {},
   "outputs": [
    {
     "data": {
      "text/html": [
       "<div class=\"data-frame\"><p>22 rows × 2 columns</p><table class=\"data-frame\"><thead><tr><th></th><th>Date</th><th>SnowTotal_mean</th></tr><tr><th></th><th title=\"Int64\">Int64</th><th title=\"Float64\">Float64</th></tr></thead><tbody><tr><th>1</th><td>1999</td><td>0.470461</td></tr><tr><th>2</th><td>2000</td><td>0.811202</td></tr><tr><th>3</th><td>2001</td><td>0.617808</td></tr><tr><th>4</th><td>2002</td><td>0.563562</td></tr><tr><th>5</th><td>2003</td><td>0.497808</td></tr><tr><th>6</th><td>2004</td><td>0.365574</td></tr><tr><th>7</th><td>2005</td><td>0.51726</td></tr><tr><th>8</th><td>2006</td><td>0.335068</td></tr><tr><th>9</th><td>2007</td><td>0.892877</td></tr><tr><th>10</th><td>2008</td><td>0.934973</td></tr><tr><th>11</th><td>2009</td><td>0.474247</td></tr><tr><th>12</th><td>2010</td><td>0.555068</td></tr><tr><th>13</th><td>2011</td><td>0.510137</td></tr><tr><th>14</th><td>2012</td><td>0.525683</td></tr><tr><th>15</th><td>2014</td><td>0.504658</td></tr><tr><th>16</th><td>2015</td><td>0.530462</td></tr><tr><th>17</th><td>2016</td><td>0.530238</td></tr><tr><th>18</th><td>2017</td><td>0.646964</td></tr><tr><th>19</th><td>2018</td><td>0.667945</td></tr><tr><th>20</th><td>2019</td><td>0.648508</td></tr><tr><th>21</th><td>2020</td><td>0.522951</td></tr><tr><th>22</th><td>2021</td><td>0.485479</td></tr></tbody></table></div>"
      ],
      "text/latex": [
       "\\begin{tabular}{r|cc}\n",
       "\t& Date & SnowTotal\\_mean\\\\\n",
       "\t\\hline\n",
       "\t& Int64 & Float64\\\\\n",
       "\t\\hline\n",
       "\t1 & 1999 & 0.470461 \\\\\n",
       "\t2 & 2000 & 0.811202 \\\\\n",
       "\t3 & 2001 & 0.617808 \\\\\n",
       "\t4 & 2002 & 0.563562 \\\\\n",
       "\t5 & 2003 & 0.497808 \\\\\n",
       "\t6 & 2004 & 0.365574 \\\\\n",
       "\t7 & 2005 & 0.51726 \\\\\n",
       "\t8 & 2006 & 0.335068 \\\\\n",
       "\t9 & 2007 & 0.892877 \\\\\n",
       "\t10 & 2008 & 0.934973 \\\\\n",
       "\t11 & 2009 & 0.474247 \\\\\n",
       "\t12 & 2010 & 0.555068 \\\\\n",
       "\t13 & 2011 & 0.510137 \\\\\n",
       "\t14 & 2012 & 0.525683 \\\\\n",
       "\t15 & 2014 & 0.504658 \\\\\n",
       "\t16 & 2015 & 0.530462 \\\\\n",
       "\t17 & 2016 & 0.530238 \\\\\n",
       "\t18 & 2017 & 0.646964 \\\\\n",
       "\t19 & 2018 & 0.667945 \\\\\n",
       "\t20 & 2019 & 0.648508 \\\\\n",
       "\t21 & 2020 & 0.522951 \\\\\n",
       "\t22 & 2021 & 0.485479 \\\\\n",
       "\\end{tabular}\n"
      ],
      "text/plain": [
       "\u001b[1m22×2 DataFrame\u001b[0m\n",
       "\u001b[1m Row \u001b[0m│\u001b[1m Date  \u001b[0m\u001b[1m SnowTotal_mean \u001b[0m\n",
       "\u001b[1m     \u001b[0m│\u001b[90m Int64 \u001b[0m\u001b[90m Float64        \u001b[0m\n",
       "─────┼───────────────────────\n",
       "   1 │  1999        0.470461\n",
       "   2 │  2000        0.811202\n",
       "   3 │  2001        0.617808\n",
       "   4 │  2002        0.563562\n",
       "   5 │  2003        0.497808\n",
       "   6 │  2004        0.365574\n",
       "   7 │  2005        0.51726\n",
       "   8 │  2006        0.335068\n",
       "   9 │  2007        0.892877\n",
       "  10 │  2008        0.934973\n",
       "  11 │  2009        0.474247\n",
       "  12 │  2010        0.555068\n",
       "  13 │  2011        0.510137\n",
       "  14 │  2012        0.525683\n",
       "  15 │  2014        0.504658\n",
       "  16 │  2015        0.530462\n",
       "  17 │  2016        0.530238\n",
       "  18 │  2017        0.646964\n",
       "  19 │  2018        0.667945\n",
       "  20 │  2019        0.648508\n",
       "  21 │  2020        0.522951\n",
       "  22 │  2021        0.485479"
      ]
     },
     "execution_count": 2097,
     "metadata": {},
     "output_type": "execute_result"
    }
   ],
   "source": [
    "total_snow_par_an = copy(meteo)\n",
    "total_snow_par_an[!, \"Date\"] = [Dates.year(item) for item in total_snow_par_an[!, \"Date\"]]\n",
    "total_snow_par_an = combine(groupby(total_snow_par_an, :Date), :SnowTotal => mean)"
   ]
  },
  {
   "cell_type": "markdown",
   "metadata": {},
   "source": [
    "### Creation d'un dataframe correspondant au années et à la moyenne annuelle de \"Snow on Grnd (cm)\" "
   ]
  },
  {
   "cell_type": "code",
   "execution_count": 2098,
   "metadata": {},
   "outputs": [
    {
     "data": {
      "text/html": [
       "<div class=\"data-frame\"><p>22 rows × 2 columns</p><table class=\"data-frame\"><thead><tr><th></th><th>Date</th><th>SnowGround_mean</th></tr><tr><th></th><th title=\"Int64\">Int64</th><th title=\"Float64\">Float64</th></tr></thead><tbody><tr><th>1</th><td>1999</td><td>2.08219</td></tr><tr><th>2</th><td>2000</td><td>2.46995</td></tr><tr><th>3</th><td>2001</td><td>7.70685</td></tr><tr><th>4</th><td>2002</td><td>1.68767</td></tr><tr><th>5</th><td>2003</td><td>2.56164</td></tr><tr><th>6</th><td>2004</td><td>2.45902</td></tr><tr><th>7</th><td>2005</td><td>2.71507</td></tr><tr><th>8</th><td>2006</td><td>2.31233</td></tr><tr><th>9</th><td>2007</td><td>3.65753</td></tr><tr><th>10</th><td>2008</td><td>6.29508</td></tr><tr><th>11</th><td>2009</td><td>3.73973</td></tr><tr><th>12</th><td>2010</td><td>1.84384</td></tr><tr><th>13</th><td>2011</td><td>2.70685</td></tr><tr><th>14</th><td>2012</td><td>2.01913</td></tr><tr><th>15</th><td>2014</td><td>3.30137</td></tr><tr><th>16</th><td>2015</td><td>3.45205</td></tr><tr><th>17</th><td>2016</td><td>2.10383</td></tr><tr><th>18</th><td>2017</td><td>2.67123</td></tr><tr><th>19</th><td>2018</td><td>3.06027</td></tr><tr><th>20</th><td>2019</td><td>3.4411</td></tr><tr><th>21</th><td>2020</td><td>3.56284</td></tr><tr><th>22</th><td>2021</td><td>5.69863</td></tr></tbody></table></div>"
      ],
      "text/latex": [
       "\\begin{tabular}{r|cc}\n",
       "\t& Date & SnowGround\\_mean\\\\\n",
       "\t\\hline\n",
       "\t& Int64 & Float64\\\\\n",
       "\t\\hline\n",
       "\t1 & 1999 & 2.08219 \\\\\n",
       "\t2 & 2000 & 2.46995 \\\\\n",
       "\t3 & 2001 & 7.70685 \\\\\n",
       "\t4 & 2002 & 1.68767 \\\\\n",
       "\t5 & 2003 & 2.56164 \\\\\n",
       "\t6 & 2004 & 2.45902 \\\\\n",
       "\t7 & 2005 & 2.71507 \\\\\n",
       "\t8 & 2006 & 2.31233 \\\\\n",
       "\t9 & 2007 & 3.65753 \\\\\n",
       "\t10 & 2008 & 6.29508 \\\\\n",
       "\t11 & 2009 & 3.73973 \\\\\n",
       "\t12 & 2010 & 1.84384 \\\\\n",
       "\t13 & 2011 & 2.70685 \\\\\n",
       "\t14 & 2012 & 2.01913 \\\\\n",
       "\t15 & 2014 & 3.30137 \\\\\n",
       "\t16 & 2015 & 3.45205 \\\\\n",
       "\t17 & 2016 & 2.10383 \\\\\n",
       "\t18 & 2017 & 2.67123 \\\\\n",
       "\t19 & 2018 & 3.06027 \\\\\n",
       "\t20 & 2019 & 3.4411 \\\\\n",
       "\t21 & 2020 & 3.56284 \\\\\n",
       "\t22 & 2021 & 5.69863 \\\\\n",
       "\\end{tabular}\n"
      ],
      "text/plain": [
       "\u001b[1m22×2 DataFrame\u001b[0m\n",
       "\u001b[1m Row \u001b[0m│\u001b[1m Date  \u001b[0m\u001b[1m SnowGround_mean \u001b[0m\n",
       "\u001b[1m     \u001b[0m│\u001b[90m Int64 \u001b[0m\u001b[90m Float64         \u001b[0m\n",
       "─────┼────────────────────────\n",
       "   1 │  1999          2.08219\n",
       "   2 │  2000          2.46995\n",
       "   3 │  2001          7.70685\n",
       "   4 │  2002          1.68767\n",
       "   5 │  2003          2.56164\n",
       "   6 │  2004          2.45902\n",
       "   7 │  2005          2.71507\n",
       "   8 │  2006          2.31233\n",
       "   9 │  2007          3.65753\n",
       "  10 │  2008          6.29508\n",
       "  11 │  2009          3.73973\n",
       "  12 │  2010          1.84384\n",
       "  13 │  2011          2.70685\n",
       "  14 │  2012          2.01913\n",
       "  15 │  2014          3.30137\n",
       "  16 │  2015          3.45205\n",
       "  17 │  2016          2.10383\n",
       "  18 │  2017          2.67123\n",
       "  19 │  2018          3.06027\n",
       "  20 │  2019          3.4411\n",
       "  21 │  2020          3.56284\n",
       "  22 │  2021          5.69863"
      ]
     },
     "execution_count": 2098,
     "metadata": {},
     "output_type": "execute_result"
    }
   ],
   "source": [
    "snow_on_ground_an = copy(meteo)\n",
    "snow_on_ground_an[!, \"Date\"] = [Dates.year(item) for item in snow_on_ground_an[!, \"Date\"]]\n",
    "snow_on_ground_an = combine(groupby(snow_on_ground_an, :Date), :SnowGround => mean)"
   ]
  },
  {
   "cell_type": "markdown",
   "metadata": {},
   "source": [
    "### Creation d'un dataframe correspondant au années et à la moyenne annuelle de \"Total Rain (mm)\" "
   ]
  },
  {
   "cell_type": "code",
   "execution_count": 2099,
   "metadata": {},
   "outputs": [
    {
     "data": {
      "text/html": [
       "<div class=\"data-frame\"><p>22 rows × 2 columns</p><table class=\"data-frame\"><thead><tr><th></th><th>Date</th><th>raintotal_mean</th></tr><tr><th></th><th title=\"Int64\">Int64</th><th title=\"Float64\">Float64</th></tr></thead><tbody><tr><th>1</th><td>1999</td><td>2.10712</td></tr><tr><th>2</th><td>2000</td><td>1.85191</td></tr><tr><th>3</th><td>2001</td><td>1.47096</td></tr><tr><th>4</th><td>2002</td><td>1.63233</td></tr><tr><th>5</th><td>2003</td><td>2.54767</td></tr><tr><th>6</th><td>2004</td><td>2.0847</td></tr><tr><th>7</th><td>2005</td><td>2.83452</td></tr><tr><th>8</th><td>2006</td><td>3.35671</td></tr><tr><th>9</th><td>2007</td><td>1.8211</td></tr><tr><th>10</th><td>2008</td><td>2.01858</td></tr><tr><th>11</th><td>2009</td><td>2.19616</td></tr><tr><th>12</th><td>2010</td><td>2.73918</td></tr><tr><th>13</th><td>2011</td><td>3.01205</td></tr><tr><th>14</th><td>2012</td><td>1.98306</td></tr><tr><th>15</th><td>2014</td><td>2.33167</td></tr><tr><th>16</th><td>2015</td><td>2.45376</td></tr><tr><th>17</th><td>2016</td><td>2.3105</td></tr><tr><th>18</th><td>2017</td><td>2.83751</td></tr><tr><th>19</th><td>2018</td><td>2.23349</td></tr><tr><th>20</th><td>2019</td><td>2.5991</td></tr><tr><th>21</th><td>2020</td><td>2.37541</td></tr><tr><th>22</th><td>2021</td><td>1.71205</td></tr></tbody></table></div>"
      ],
      "text/latex": [
       "\\begin{tabular}{r|cc}\n",
       "\t& Date & raintotal\\_mean\\\\\n",
       "\t\\hline\n",
       "\t& Int64 & Float64\\\\\n",
       "\t\\hline\n",
       "\t1 & 1999 & 2.10712 \\\\\n",
       "\t2 & 2000 & 1.85191 \\\\\n",
       "\t3 & 2001 & 1.47096 \\\\\n",
       "\t4 & 2002 & 1.63233 \\\\\n",
       "\t5 & 2003 & 2.54767 \\\\\n",
       "\t6 & 2004 & 2.0847 \\\\\n",
       "\t7 & 2005 & 2.83452 \\\\\n",
       "\t8 & 2006 & 3.35671 \\\\\n",
       "\t9 & 2007 & 1.8211 \\\\\n",
       "\t10 & 2008 & 2.01858 \\\\\n",
       "\t11 & 2009 & 2.19616 \\\\\n",
       "\t12 & 2010 & 2.73918 \\\\\n",
       "\t13 & 2011 & 3.01205 \\\\\n",
       "\t14 & 2012 & 1.98306 \\\\\n",
       "\t15 & 2014 & 2.33167 \\\\\n",
       "\t16 & 2015 & 2.45376 \\\\\n",
       "\t17 & 2016 & 2.3105 \\\\\n",
       "\t18 & 2017 & 2.83751 \\\\\n",
       "\t19 & 2018 & 2.23349 \\\\\n",
       "\t20 & 2019 & 2.5991 \\\\\n",
       "\t21 & 2020 & 2.37541 \\\\\n",
       "\t22 & 2021 & 1.71205 \\\\\n",
       "\\end{tabular}\n"
      ],
      "text/plain": [
       "\u001b[1m22×2 DataFrame\u001b[0m\n",
       "\u001b[1m Row \u001b[0m│\u001b[1m Date  \u001b[0m\u001b[1m raintotal_mean \u001b[0m\n",
       "\u001b[1m     \u001b[0m│\u001b[90m Int64 \u001b[0m\u001b[90m Float64        \u001b[0m\n",
       "─────┼───────────────────────\n",
       "   1 │  1999         2.10712\n",
       "   2 │  2000         1.85191\n",
       "   3 │  2001         1.47096\n",
       "   4 │  2002         1.63233\n",
       "   5 │  2003         2.54767\n",
       "   6 │  2004         2.0847\n",
       "   7 │  2005         2.83452\n",
       "   8 │  2006         3.35671\n",
       "   9 │  2007         1.8211\n",
       "  10 │  2008         2.01858\n",
       "  11 │  2009         2.19616\n",
       "  12 │  2010         2.73918\n",
       "  13 │  2011         3.01205\n",
       "  14 │  2012         1.98306\n",
       "  15 │  2014         2.33167\n",
       "  16 │  2015         2.45376\n",
       "  17 │  2016         2.3105\n",
       "  18 │  2017         2.83751\n",
       "  19 │  2018         2.23349\n",
       "  20 │  2019         2.5991\n",
       "  21 │  2020         2.37541\n",
       "  22 │  2021         1.71205"
      ]
     },
     "execution_count": 2099,
     "metadata": {},
     "output_type": "execute_result"
    }
   ],
   "source": [
    "rain_total_par_an = copy(meteo)\n",
    "rain_total_par_an[!, \"Date\"] = [Dates.year(item) for item in rain_total_par_an[!, \"Date\"]]\n",
    "rain_total_par_an = combine(groupby(rain_total_par_an, :Date), :raintotal => mean)"
   ]
  },
  {
   "cell_type": "markdown",
   "metadata": {},
   "source": [
    "#### Creation d'un dataframe correspondant au années et à la moyenne annuelle du prix de l'essence à québec"
   ]
  },
  {
   "cell_type": "code",
   "execution_count": 2100,
   "metadata": {},
   "outputs": [
    {
     "data": {
      "text/html": [
       "<div class=\"data-frame\"><p>26 rows × 2 columns</p><table class=\"data-frame\"><thead><tr><th></th><th>Mois</th><th>Québec_mean</th></tr><tr><th></th><th title=\"Int64\">Int64</th><th title=\"Float64\">Float64</th></tr></thead><tbody><tr><th>1</th><td>1997</td><td>60.5778</td></tr><tr><th>2</th><td>1998</td><td>55.1667</td></tr><tr><th>3</th><td>1999</td><td>61.4583</td></tr><tr><th>4</th><td>2000</td><td>71.9417</td></tr><tr><th>5</th><td>2001</td><td>73.95</td></tr><tr><th>6</th><td>2002</td><td>72.1333</td></tr><tr><th>7</th><td>2003</td><td>77.8</td></tr><tr><th>8</th><td>2004</td><td>87.0417</td></tr><tr><th>9</th><td>2005</td><td>97.4833</td></tr><tr><th>10</th><td>2006</td><td>102.367</td></tr><tr><th>11</th><td>2007</td><td>106.442</td></tr><tr><th>12</th><td>2008</td><td>120.1</td></tr><tr><th>13</th><td>2009</td><td>97.6667</td></tr><tr><th>14</th><td>2010</td><td>106.458</td></tr><tr><th>15</th><td>2011</td><td>128.025</td></tr><tr><th>16</th><td>2012</td><td>134.508</td></tr><tr><th>17</th><td>2013</td><td>135.208</td></tr><tr><th>18</th><td>2014</td><td>133.042</td></tr><tr><th>19</th><td>2015</td><td>110.083</td></tr><tr><th>20</th><td>2016</td><td>101.517</td></tr><tr><th>21</th><td>2017</td><td>111.933</td></tr><tr><th>22</th><td>2018</td><td>125.542</td></tr><tr><th>23</th><td>2019</td><td>119.4</td></tr><tr><th>24</th><td>2020</td><td>103.567</td></tr><tr><th>25</th><td>2021</td><td>136.558</td></tr><tr><th>26</th><td>2022</td><td>186.7</td></tr></tbody></table></div>"
      ],
      "text/latex": [
       "\\begin{tabular}{r|cc}\n",
       "\t& Mois & Québec\\_mean\\\\\n",
       "\t\\hline\n",
       "\t& Int64 & Float64\\\\\n",
       "\t\\hline\n",
       "\t1 & 1997 & 60.5778 \\\\\n",
       "\t2 & 1998 & 55.1667 \\\\\n",
       "\t3 & 1999 & 61.4583 \\\\\n",
       "\t4 & 2000 & 71.9417 \\\\\n",
       "\t5 & 2001 & 73.95 \\\\\n",
       "\t6 & 2002 & 72.1333 \\\\\n",
       "\t7 & 2003 & 77.8 \\\\\n",
       "\t8 & 2004 & 87.0417 \\\\\n",
       "\t9 & 2005 & 97.4833 \\\\\n",
       "\t10 & 2006 & 102.367 \\\\\n",
       "\t11 & 2007 & 106.442 \\\\\n",
       "\t12 & 2008 & 120.1 \\\\\n",
       "\t13 & 2009 & 97.6667 \\\\\n",
       "\t14 & 2010 & 106.458 \\\\\n",
       "\t15 & 2011 & 128.025 \\\\\n",
       "\t16 & 2012 & 134.508 \\\\\n",
       "\t17 & 2013 & 135.208 \\\\\n",
       "\t18 & 2014 & 133.042 \\\\\n",
       "\t19 & 2015 & 110.083 \\\\\n",
       "\t20 & 2016 & 101.517 \\\\\n",
       "\t21 & 2017 & 111.933 \\\\\n",
       "\t22 & 2018 & 125.542 \\\\\n",
       "\t23 & 2019 & 119.4 \\\\\n",
       "\t24 & 2020 & 103.567 \\\\\n",
       "\t25 & 2021 & 136.558 \\\\\n",
       "\t26 & 2022 & 186.7 \\\\\n",
       "\\end{tabular}\n"
      ],
      "text/plain": [
       "\u001b[1m26×2 DataFrame\u001b[0m\n",
       "\u001b[1m Row \u001b[0m│\u001b[1m Mois  \u001b[0m\u001b[1m Québec_mean \u001b[0m\n",
       "\u001b[1m     \u001b[0m│\u001b[90m Int64 \u001b[0m\u001b[90m Float64     \u001b[0m\n",
       "─────┼────────────────────\n",
       "   1 │  1997      60.5778\n",
       "   2 │  1998      55.1667\n",
       "   3 │  1999      61.4583\n",
       "   4 │  2000      71.9417\n",
       "   5 │  2001      73.95\n",
       "   6 │  2002      72.1333\n",
       "   7 │  2003      77.8\n",
       "   8 │  2004      87.0417\n",
       "   9 │  2005      97.4833\n",
       "  10 │  2006     102.367\n",
       "  11 │  2007     106.442\n",
       "  ⋮  │   ⋮         ⋮\n",
       "  17 │  2013     135.208\n",
       "  18 │  2014     133.042\n",
       "  19 │  2015     110.083\n",
       "  20 │  2016     101.517\n",
       "  21 │  2017     111.933\n",
       "  22 │  2018     125.542\n",
       "  23 │  2019     119.4\n",
       "  24 │  2020     103.567\n",
       "  25 │  2021     136.558\n",
       "  26 │  2022     186.7\n",
       "\u001b[36m            5 rows omitted\u001b[0m"
      ]
     },
     "execution_count": 2100,
     "metadata": {},
     "output_type": "execute_result"
    }
   ],
   "source": [
    "essence_par_an_quebec = copy(essence)\n",
    "essence_par_an_quebec[!, \"Mois\"] = [Dates.year(item) for item in essence_par_an_quebec[!, \"Mois\"]]\n",
    "essence_par_an_quebec = combine(groupby(essence_par_an_quebec, :Mois), :Québec => mean)"
   ]
  },
  {
   "cell_type": "markdown",
   "metadata": {},
   "source": [
    "### On a décider de garder uniquements les données des années entre 1999 et 2021 afin que notre dataframe soit de la meme taille que les données de la méteo"
   ]
  },
  {
   "cell_type": "code",
   "execution_count": 2101,
   "metadata": {},
   "outputs": [
    {
     "data": {
      "text/html": [
       "<div class=\"data-frame\"><p>23 rows × 2 columns</p><table class=\"data-frame\"><thead><tr><th></th><th>Mois</th><th>Québec_mean</th></tr><tr><th></th><th title=\"Int64\">Int64</th><th title=\"Float64\">Float64</th></tr></thead><tbody><tr><th>1</th><td>1999</td><td>61.4583</td></tr><tr><th>2</th><td>2000</td><td>71.9417</td></tr><tr><th>3</th><td>2001</td><td>73.95</td></tr><tr><th>4</th><td>2002</td><td>72.1333</td></tr><tr><th>5</th><td>2003</td><td>77.8</td></tr><tr><th>6</th><td>2004</td><td>87.0417</td></tr><tr><th>7</th><td>2005</td><td>97.4833</td></tr><tr><th>8</th><td>2006</td><td>102.367</td></tr><tr><th>9</th><td>2007</td><td>106.442</td></tr><tr><th>10</th><td>2008</td><td>120.1</td></tr><tr><th>11</th><td>2009</td><td>97.6667</td></tr><tr><th>12</th><td>2010</td><td>106.458</td></tr><tr><th>13</th><td>2011</td><td>128.025</td></tr><tr><th>14</th><td>2012</td><td>134.508</td></tr><tr><th>15</th><td>2013</td><td>135.208</td></tr><tr><th>16</th><td>2014</td><td>133.042</td></tr><tr><th>17</th><td>2015</td><td>110.083</td></tr><tr><th>18</th><td>2016</td><td>101.517</td></tr><tr><th>19</th><td>2017</td><td>111.933</td></tr><tr><th>20</th><td>2018</td><td>125.542</td></tr><tr><th>21</th><td>2019</td><td>119.4</td></tr><tr><th>22</th><td>2020</td><td>103.567</td></tr><tr><th>23</th><td>2021</td><td>136.558</td></tr></tbody></table></div>"
      ],
      "text/latex": [
       "\\begin{tabular}{r|cc}\n",
       "\t& Mois & Québec\\_mean\\\\\n",
       "\t\\hline\n",
       "\t& Int64 & Float64\\\\\n",
       "\t\\hline\n",
       "\t1 & 1999 & 61.4583 \\\\\n",
       "\t2 & 2000 & 71.9417 \\\\\n",
       "\t3 & 2001 & 73.95 \\\\\n",
       "\t4 & 2002 & 72.1333 \\\\\n",
       "\t5 & 2003 & 77.8 \\\\\n",
       "\t6 & 2004 & 87.0417 \\\\\n",
       "\t7 & 2005 & 97.4833 \\\\\n",
       "\t8 & 2006 & 102.367 \\\\\n",
       "\t9 & 2007 & 106.442 \\\\\n",
       "\t10 & 2008 & 120.1 \\\\\n",
       "\t11 & 2009 & 97.6667 \\\\\n",
       "\t12 & 2010 & 106.458 \\\\\n",
       "\t13 & 2011 & 128.025 \\\\\n",
       "\t14 & 2012 & 134.508 \\\\\n",
       "\t15 & 2013 & 135.208 \\\\\n",
       "\t16 & 2014 & 133.042 \\\\\n",
       "\t17 & 2015 & 110.083 \\\\\n",
       "\t18 & 2016 & 101.517 \\\\\n",
       "\t19 & 2017 & 111.933 \\\\\n",
       "\t20 & 2018 & 125.542 \\\\\n",
       "\t21 & 2019 & 119.4 \\\\\n",
       "\t22 & 2020 & 103.567 \\\\\n",
       "\t23 & 2021 & 136.558 \\\\\n",
       "\\end{tabular}\n"
      ],
      "text/plain": [
       "\u001b[1m23×2 DataFrame\u001b[0m\n",
       "\u001b[1m Row \u001b[0m│\u001b[1m Mois  \u001b[0m\u001b[1m Québec_mean \u001b[0m\n",
       "\u001b[1m     \u001b[0m│\u001b[90m Int64 \u001b[0m\u001b[90m Float64     \u001b[0m\n",
       "─────┼────────────────────\n",
       "   1 │  1999      61.4583\n",
       "   2 │  2000      71.9417\n",
       "   3 │  2001      73.95\n",
       "   4 │  2002      72.1333\n",
       "   5 │  2003      77.8\n",
       "   6 │  2004      87.0417\n",
       "   7 │  2005      97.4833\n",
       "   8 │  2006     102.367\n",
       "   9 │  2007     106.442\n",
       "  10 │  2008     120.1\n",
       "  11 │  2009      97.6667\n",
       "  12 │  2010     106.458\n",
       "  13 │  2011     128.025\n",
       "  14 │  2012     134.508\n",
       "  15 │  2013     135.208\n",
       "  16 │  2014     133.042\n",
       "  17 │  2015     110.083\n",
       "  18 │  2016     101.517\n",
       "  19 │  2017     111.933\n",
       "  20 │  2018     125.542\n",
       "  21 │  2019     119.4\n",
       "  22 │  2020     103.567\n",
       "  23 │  2021     136.558"
      ]
     },
     "execution_count": 2101,
     "metadata": {},
     "output_type": "execute_result"
    }
   ],
   "source": [
    "essence_par_an_quebec = essence_par_an_quebec[3:25, :]"
   ]
  },
  {
   "cell_type": "markdown",
   "metadata": {},
   "source": [
    "### Creation d'un dataframe correspondant au années et à la moyenne annuelle du prix de l'essence à Montréal"
   ]
  },
  {
   "cell_type": "code",
   "execution_count": 2102,
   "metadata": {},
   "outputs": [
    {
     "data": {
      "text/html": [
       "<div class=\"data-frame\"><p>26 rows × 2 columns</p><table class=\"data-frame\"><thead><tr><th></th><th>Mois</th><th>Montréal_mean</th></tr><tr><th></th><th title=\"Int64\">Int64</th><th title=\"Float64\">Float64</th></tr></thead><tbody><tr><th>1</th><td>1997</td><td>61.6222</td></tr><tr><th>2</th><td>1998</td><td>56.2667</td></tr><tr><th>3</th><td>1999</td><td>63.0417</td></tr><tr><th>4</th><td>2000</td><td>77.1583</td></tr><tr><th>5</th><td>2001</td><td>73.75</td></tr><tr><th>6</th><td>2002</td><td>71.3583</td></tr><tr><th>7</th><td>2003</td><td>76.6833</td></tr><tr><th>8</th><td>2004</td><td>85.75</td></tr><tr><th>9</th><td>2005</td><td>96.35</td></tr><tr><th>10</th><td>2006</td><td>100.767</td></tr><tr><th>11</th><td>2007</td><td>104.333</td></tr><tr><th>12</th><td>2008</td><td>118.792</td></tr><tr><th>13</th><td>2009</td><td>97.7417</td></tr><tr><th>14</th><td>2010</td><td>107.842</td></tr><tr><th>15</th><td>2011</td><td>130.492</td></tr><tr><th>16</th><td>2012</td><td>136.517</td></tr><tr><th>17</th><td>2013</td><td>136.892</td></tr><tr><th>18</th><td>2014</td><td>136.925</td></tr><tr><th>19</th><td>2015</td><td>116.45</td></tr><tr><th>20</th><td>2016</td><td>108.308</td></tr><tr><th>21</th><td>2017</td><td>118.917</td></tr><tr><th>22</th><td>2018</td><td>131.875</td></tr><tr><th>23</th><td>2019</td><td>125.608</td></tr><tr><th>24</th><td>2020</td><td>106.25</td></tr><tr><th>25</th><td>2021</td><td>136.825</td></tr><tr><th>26</th><td>2022</td><td>186.15</td></tr></tbody></table></div>"
      ],
      "text/latex": [
       "\\begin{tabular}{r|cc}\n",
       "\t& Mois & Montréal\\_mean\\\\\n",
       "\t\\hline\n",
       "\t& Int64 & Float64\\\\\n",
       "\t\\hline\n",
       "\t1 & 1997 & 61.6222 \\\\\n",
       "\t2 & 1998 & 56.2667 \\\\\n",
       "\t3 & 1999 & 63.0417 \\\\\n",
       "\t4 & 2000 & 77.1583 \\\\\n",
       "\t5 & 2001 & 73.75 \\\\\n",
       "\t6 & 2002 & 71.3583 \\\\\n",
       "\t7 & 2003 & 76.6833 \\\\\n",
       "\t8 & 2004 & 85.75 \\\\\n",
       "\t9 & 2005 & 96.35 \\\\\n",
       "\t10 & 2006 & 100.767 \\\\\n",
       "\t11 & 2007 & 104.333 \\\\\n",
       "\t12 & 2008 & 118.792 \\\\\n",
       "\t13 & 2009 & 97.7417 \\\\\n",
       "\t14 & 2010 & 107.842 \\\\\n",
       "\t15 & 2011 & 130.492 \\\\\n",
       "\t16 & 2012 & 136.517 \\\\\n",
       "\t17 & 2013 & 136.892 \\\\\n",
       "\t18 & 2014 & 136.925 \\\\\n",
       "\t19 & 2015 & 116.45 \\\\\n",
       "\t20 & 2016 & 108.308 \\\\\n",
       "\t21 & 2017 & 118.917 \\\\\n",
       "\t22 & 2018 & 131.875 \\\\\n",
       "\t23 & 2019 & 125.608 \\\\\n",
       "\t24 & 2020 & 106.25 \\\\\n",
       "\t25 & 2021 & 136.825 \\\\\n",
       "\t26 & 2022 & 186.15 \\\\\n",
       "\\end{tabular}\n"
      ],
      "text/plain": [
       "\u001b[1m26×2 DataFrame\u001b[0m\n",
       "\u001b[1m Row \u001b[0m│\u001b[1m Mois  \u001b[0m\u001b[1m Montréal_mean \u001b[0m\n",
       "\u001b[1m     \u001b[0m│\u001b[90m Int64 \u001b[0m\u001b[90m Float64       \u001b[0m\n",
       "─────┼──────────────────────\n",
       "   1 │  1997        61.6222\n",
       "   2 │  1998        56.2667\n",
       "   3 │  1999        63.0417\n",
       "   4 │  2000        77.1583\n",
       "   5 │  2001        73.75\n",
       "   6 │  2002        71.3583\n",
       "   7 │  2003        76.6833\n",
       "   8 │  2004        85.75\n",
       "   9 │  2005        96.35\n",
       "  10 │  2006       100.767\n",
       "  11 │  2007       104.333\n",
       "  ⋮  │   ⋮          ⋮\n",
       "  17 │  2013       136.892\n",
       "  18 │  2014       136.925\n",
       "  19 │  2015       116.45\n",
       "  20 │  2016       108.308\n",
       "  21 │  2017       118.917\n",
       "  22 │  2018       131.875\n",
       "  23 │  2019       125.608\n",
       "  24 │  2020       106.25\n",
       "  25 │  2021       136.825\n",
       "  26 │  2022       186.15\n",
       "\u001b[36m              5 rows omitted\u001b[0m"
      ]
     },
     "execution_count": 2102,
     "metadata": {},
     "output_type": "execute_result"
    }
   ],
   "source": [
    "essence_par_an_montreal = copy(essence)\n",
    "essence_par_an_montreal[!, \"Mois\"] = [Dates.year(item) for item in essence_par_an_montreal[!, \"Mois\"]]\n",
    "essence_par_an_montreal = combine(groupby(essence_par_an_montreal, :Mois), :Montréal => mean)"
   ]
  },
  {
   "cell_type": "markdown",
   "metadata": {},
   "source": [
    "### On a décider de se de garder selement les données des années entre 1999 et 2021 afin que notre dataframe soit de la meme taille que les données de la méteo"
   ]
  },
  {
   "cell_type": "code",
   "execution_count": 2103,
   "metadata": {},
   "outputs": [
    {
     "data": {
      "text/html": [
       "<div class=\"data-frame\"><p>23 rows × 2 columns</p><table class=\"data-frame\"><thead><tr><th></th><th>Mois</th><th>Montréal_mean</th></tr><tr><th></th><th title=\"Int64\">Int64</th><th title=\"Float64\">Float64</th></tr></thead><tbody><tr><th>1</th><td>1999</td><td>63.0417</td></tr><tr><th>2</th><td>2000</td><td>77.1583</td></tr><tr><th>3</th><td>2001</td><td>73.75</td></tr><tr><th>4</th><td>2002</td><td>71.3583</td></tr><tr><th>5</th><td>2003</td><td>76.6833</td></tr><tr><th>6</th><td>2004</td><td>85.75</td></tr><tr><th>7</th><td>2005</td><td>96.35</td></tr><tr><th>8</th><td>2006</td><td>100.767</td></tr><tr><th>9</th><td>2007</td><td>104.333</td></tr><tr><th>10</th><td>2008</td><td>118.792</td></tr><tr><th>11</th><td>2009</td><td>97.7417</td></tr><tr><th>12</th><td>2010</td><td>107.842</td></tr><tr><th>13</th><td>2011</td><td>130.492</td></tr><tr><th>14</th><td>2012</td><td>136.517</td></tr><tr><th>15</th><td>2013</td><td>136.892</td></tr><tr><th>16</th><td>2014</td><td>136.925</td></tr><tr><th>17</th><td>2015</td><td>116.45</td></tr><tr><th>18</th><td>2016</td><td>108.308</td></tr><tr><th>19</th><td>2017</td><td>118.917</td></tr><tr><th>20</th><td>2018</td><td>131.875</td></tr><tr><th>21</th><td>2019</td><td>125.608</td></tr><tr><th>22</th><td>2020</td><td>106.25</td></tr><tr><th>23</th><td>2021</td><td>136.825</td></tr></tbody></table></div>"
      ],
      "text/latex": [
       "\\begin{tabular}{r|cc}\n",
       "\t& Mois & Montréal\\_mean\\\\\n",
       "\t\\hline\n",
       "\t& Int64 & Float64\\\\\n",
       "\t\\hline\n",
       "\t1 & 1999 & 63.0417 \\\\\n",
       "\t2 & 2000 & 77.1583 \\\\\n",
       "\t3 & 2001 & 73.75 \\\\\n",
       "\t4 & 2002 & 71.3583 \\\\\n",
       "\t5 & 2003 & 76.6833 \\\\\n",
       "\t6 & 2004 & 85.75 \\\\\n",
       "\t7 & 2005 & 96.35 \\\\\n",
       "\t8 & 2006 & 100.767 \\\\\n",
       "\t9 & 2007 & 104.333 \\\\\n",
       "\t10 & 2008 & 118.792 \\\\\n",
       "\t11 & 2009 & 97.7417 \\\\\n",
       "\t12 & 2010 & 107.842 \\\\\n",
       "\t13 & 2011 & 130.492 \\\\\n",
       "\t14 & 2012 & 136.517 \\\\\n",
       "\t15 & 2013 & 136.892 \\\\\n",
       "\t16 & 2014 & 136.925 \\\\\n",
       "\t17 & 2015 & 116.45 \\\\\n",
       "\t18 & 2016 & 108.308 \\\\\n",
       "\t19 & 2017 & 118.917 \\\\\n",
       "\t20 & 2018 & 131.875 \\\\\n",
       "\t21 & 2019 & 125.608 \\\\\n",
       "\t22 & 2020 & 106.25 \\\\\n",
       "\t23 & 2021 & 136.825 \\\\\n",
       "\\end{tabular}\n"
      ],
      "text/plain": [
       "\u001b[1m23×2 DataFrame\u001b[0m\n",
       "\u001b[1m Row \u001b[0m│\u001b[1m Mois  \u001b[0m\u001b[1m Montréal_mean \u001b[0m\n",
       "\u001b[1m     \u001b[0m│\u001b[90m Int64 \u001b[0m\u001b[90m Float64       \u001b[0m\n",
       "─────┼──────────────────────\n",
       "   1 │  1999        63.0417\n",
       "   2 │  2000        77.1583\n",
       "   3 │  2001        73.75\n",
       "   4 │  2002        71.3583\n",
       "   5 │  2003        76.6833\n",
       "   6 │  2004        85.75\n",
       "   7 │  2005        96.35\n",
       "   8 │  2006       100.767\n",
       "   9 │  2007       104.333\n",
       "  10 │  2008       118.792\n",
       "  11 │  2009        97.7417\n",
       "  12 │  2010       107.842\n",
       "  13 │  2011       130.492\n",
       "  14 │  2012       136.517\n",
       "  15 │  2013       136.892\n",
       "  16 │  2014       136.925\n",
       "  17 │  2015       116.45\n",
       "  18 │  2016       108.308\n",
       "  19 │  2017       118.917\n",
       "  20 │  2018       131.875\n",
       "  21 │  2019       125.608\n",
       "  22 │  2020       106.25\n",
       "  23 │  2021       136.825"
      ]
     },
     "execution_count": 2103,
     "metadata": {},
     "output_type": "execute_result"
    }
   ],
   "source": [
    "essence_par_an_montreal = essence_par_an_montreal[3:25, :]"
   ]
  },
  {
   "cell_type": "markdown",
   "metadata": {},
   "source": [
    "### on regroupe les donnée de la meteo dans un seul data frame, on remarque ici que les données de l'année 2013 sans manquantes pour la meteo"
   ]
  },
  {
   "cell_type": "code",
   "execution_count": 2104,
   "metadata": {},
   "outputs": [
    {
     "data": {
      "text/html": [
       "<div class=\"data-frame\"><p>22 rows × 5 columns</p><table class=\"data-frame\"><thead><tr><th></th><th>Année</th><th>meantemp</th><th>SnowTotal</th><th>SnowGround</th><th>raintotal</th></tr><tr><th></th><th title=\"Int64\">Int64</th><th title=\"Float64\">Float64</th><th title=\"Float64\">Float64</th><th title=\"Float64\">Float64</th><th title=\"Float64\">Float64</th></tr></thead><tbody><tr><th>1</th><td>1999</td><td>8.27338</td><td>0.470461</td><td>2.08219</td><td>2.10712</td></tr><tr><th>2</th><td>2000</td><td>6.43885</td><td>0.811202</td><td>2.46995</td><td>1.85191</td></tr><tr><th>3</th><td>2001</td><td>8.01671</td><td>0.617808</td><td>7.70685</td><td>1.47096</td></tr><tr><th>4</th><td>2002</td><td>7.55123</td><td>0.563562</td><td>1.68767</td><td>1.63233</td></tr><tr><th>5</th><td>2003</td><td>6.43589</td><td>0.497808</td><td>2.56164</td><td>2.54767</td></tr><tr><th>6</th><td>2004</td><td>6.24918</td><td>0.365574</td><td>2.45902</td><td>2.0847</td></tr><tr><th>7</th><td>2005</td><td>7.46301</td><td>0.51726</td><td>2.71507</td><td>2.83452</td></tr><tr><th>8</th><td>2006</td><td>8.20247</td><td>0.335068</td><td>2.31233</td><td>3.35671</td></tr><tr><th>9</th><td>2007</td><td>6.89753</td><td>0.892877</td><td>3.65753</td><td>1.8211</td></tr><tr><th>10</th><td>2008</td><td>7.02596</td><td>0.934973</td><td>6.29508</td><td>2.01858</td></tr><tr><th>11</th><td>2009</td><td>6.67945</td><td>0.474247</td><td>3.73973</td><td>2.19616</td></tr><tr><th>12</th><td>2010</td><td>8.46959</td><td>0.555068</td><td>1.84384</td><td>2.73918</td></tr><tr><th>13</th><td>2011</td><td>8.02712</td><td>0.510137</td><td>2.70685</td><td>3.01205</td></tr><tr><th>14</th><td>2012</td><td>8.53361</td><td>0.525683</td><td>2.01913</td><td>1.98306</td></tr><tr><th>15</th><td>2014</td><td>6.86712</td><td>0.504658</td><td>3.30137</td><td>2.33167</td></tr><tr><th>16</th><td>2015</td><td>7.13945</td><td>0.530462</td><td>3.45205</td><td>2.45376</td></tr><tr><th>17</th><td>2016</td><td>8.09633</td><td>0.530238</td><td>2.10383</td><td>2.3105</td></tr><tr><th>18</th><td>2017</td><td>7.63394</td><td>0.646964</td><td>2.67123</td><td>2.83751</td></tr><tr><th>19</th><td>2018</td><td>7.35671</td><td>0.667945</td><td>3.06027</td><td>2.23349</td></tr><tr><th>20</th><td>2019</td><td>6.57394</td><td>0.648508</td><td>3.4411</td><td>2.5991</td></tr><tr><th>21</th><td>2020</td><td>8.2331</td><td>0.522951</td><td>3.56284</td><td>2.37541</td></tr><tr><th>22</th><td>2021</td><td>8.65903</td><td>0.485479</td><td>5.69863</td><td>1.71205</td></tr></tbody></table></div>"
      ],
      "text/latex": [
       "\\begin{tabular}{r|ccccc}\n",
       "\t& Année & meantemp & SnowTotal & SnowGround & raintotal\\\\\n",
       "\t\\hline\n",
       "\t& Int64 & Float64 & Float64 & Float64 & Float64\\\\\n",
       "\t\\hline\n",
       "\t1 & 1999 & 8.27338 & 0.470461 & 2.08219 & 2.10712 \\\\\n",
       "\t2 & 2000 & 6.43885 & 0.811202 & 2.46995 & 1.85191 \\\\\n",
       "\t3 & 2001 & 8.01671 & 0.617808 & 7.70685 & 1.47096 \\\\\n",
       "\t4 & 2002 & 7.55123 & 0.563562 & 1.68767 & 1.63233 \\\\\n",
       "\t5 & 2003 & 6.43589 & 0.497808 & 2.56164 & 2.54767 \\\\\n",
       "\t6 & 2004 & 6.24918 & 0.365574 & 2.45902 & 2.0847 \\\\\n",
       "\t7 & 2005 & 7.46301 & 0.51726 & 2.71507 & 2.83452 \\\\\n",
       "\t8 & 2006 & 8.20247 & 0.335068 & 2.31233 & 3.35671 \\\\\n",
       "\t9 & 2007 & 6.89753 & 0.892877 & 3.65753 & 1.8211 \\\\\n",
       "\t10 & 2008 & 7.02596 & 0.934973 & 6.29508 & 2.01858 \\\\\n",
       "\t11 & 2009 & 6.67945 & 0.474247 & 3.73973 & 2.19616 \\\\\n",
       "\t12 & 2010 & 8.46959 & 0.555068 & 1.84384 & 2.73918 \\\\\n",
       "\t13 & 2011 & 8.02712 & 0.510137 & 2.70685 & 3.01205 \\\\\n",
       "\t14 & 2012 & 8.53361 & 0.525683 & 2.01913 & 1.98306 \\\\\n",
       "\t15 & 2014 & 6.86712 & 0.504658 & 3.30137 & 2.33167 \\\\\n",
       "\t16 & 2015 & 7.13945 & 0.530462 & 3.45205 & 2.45376 \\\\\n",
       "\t17 & 2016 & 8.09633 & 0.530238 & 2.10383 & 2.3105 \\\\\n",
       "\t18 & 2017 & 7.63394 & 0.646964 & 2.67123 & 2.83751 \\\\\n",
       "\t19 & 2018 & 7.35671 & 0.667945 & 3.06027 & 2.23349 \\\\\n",
       "\t20 & 2019 & 6.57394 & 0.648508 & 3.4411 & 2.5991 \\\\\n",
       "\t21 & 2020 & 8.2331 & 0.522951 & 3.56284 & 2.37541 \\\\\n",
       "\t22 & 2021 & 8.65903 & 0.485479 & 5.69863 & 1.71205 \\\\\n",
       "\\end{tabular}\n"
      ],
      "text/plain": [
       "\u001b[1m22×5 DataFrame\u001b[0m\n",
       "\u001b[1m Row \u001b[0m│\u001b[1m Année \u001b[0m\u001b[1m meantemp \u001b[0m\u001b[1m SnowTotal \u001b[0m\u001b[1m SnowGround \u001b[0m\u001b[1m raintotal \u001b[0m\n",
       "\u001b[1m     \u001b[0m│\u001b[90m Int64 \u001b[0m\u001b[90m Float64  \u001b[0m\u001b[90m Float64   \u001b[0m\u001b[90m Float64    \u001b[0m\u001b[90m Float64   \u001b[0m\n",
       "─────┼───────────────────────────────────────────────────\n",
       "   1 │  1999   8.27338   0.470461     2.08219    2.10712\n",
       "   2 │  2000   6.43885   0.811202     2.46995    1.85191\n",
       "   3 │  2001   8.01671   0.617808     7.70685    1.47096\n",
       "   4 │  2002   7.55123   0.563562     1.68767    1.63233\n",
       "   5 │  2003   6.43589   0.497808     2.56164    2.54767\n",
       "   6 │  2004   6.24918   0.365574     2.45902    2.0847\n",
       "   7 │  2005   7.46301   0.51726      2.71507    2.83452\n",
       "   8 │  2006   8.20247   0.335068     2.31233    3.35671\n",
       "   9 │  2007   6.89753   0.892877     3.65753    1.8211\n",
       "  10 │  2008   7.02596   0.934973     6.29508    2.01858\n",
       "  11 │  2009   6.67945   0.474247     3.73973    2.19616\n",
       "  12 │  2010   8.46959   0.555068     1.84384    2.73918\n",
       "  13 │  2011   8.02712   0.510137     2.70685    3.01205\n",
       "  14 │  2012   8.53361   0.525683     2.01913    1.98306\n",
       "  15 │  2014   6.86712   0.504658     3.30137    2.33167\n",
       "  16 │  2015   7.13945   0.530462     3.45205    2.45376\n",
       "  17 │  2016   8.09633   0.530238     2.10383    2.3105\n",
       "  18 │  2017   7.63394   0.646964     2.67123    2.83751\n",
       "  19 │  2018   7.35671   0.667945     3.06027    2.23349\n",
       "  20 │  2019   6.57394   0.648508     3.4411     2.5991\n",
       "  21 │  2020   8.2331    0.522951     3.56284    2.37541\n",
       "  22 │  2021   8.65903   0.485479     5.69863    1.71205"
      ]
     },
     "execution_count": 2104,
     "metadata": {},
     "output_type": "execute_result"
    }
   ],
   "source": [
    "#On regroupe tout dans le même dataframe (je crois)\n",
    "\n",
    "df = DataFrame(Année = meantemp_par_an[!, \"Date\"] ,\n",
    "meantemp = meantemp_par_an[!, \"meantemp_mean\"],\n",
    "SnowTotal = total_snow_par_an[!, \"SnowTotal_mean\"],\n",
    "SnowGround = snow_on_ground_an[!, \"SnowGround_mean\"], \n",
    "raintotal = rain_total_par_an[!, \"raintotal_mean\"],\n",
    ")\n"
   ]
  },
  {
   "cell_type": "markdown",
   "metadata": {},
   "source": [
    "### On remplace ici les données manquantes de 2013 par la moyenne des valeurs trouvés pour la meteo, puis on retrie les données selon l'année"
   ]
  },
  {
   "cell_type": "code",
   "execution_count": 2105,
   "metadata": {},
   "outputs": [
    {
     "data": {
      "text/html": [
       "<div class=\"data-frame\"><p>23 rows × 5 columns</p><table class=\"data-frame\"><thead><tr><th></th><th>Année</th><th>meantemp</th><th>SnowTotal</th><th>SnowGround</th><th>raintotal</th></tr><tr><th></th><th title=\"Int64\">Int64</th><th title=\"Float64\">Float64</th><th title=\"Float64\">Float64</th><th title=\"Float64\">Float64</th><th title=\"Float64\">Float64</th></tr></thead><tbody><tr><th>1</th><td>1999</td><td>8.27338</td><td>0.470461</td><td>2.08219</td><td>2.10712</td></tr><tr><th>2</th><td>2000</td><td>6.43885</td><td>0.811202</td><td>2.46995</td><td>1.85191</td></tr><tr><th>3</th><td>2001</td><td>8.01671</td><td>0.617808</td><td>7.70685</td><td>1.47096</td></tr><tr><th>4</th><td>2002</td><td>7.55123</td><td>0.563562</td><td>1.68767</td><td>1.63233</td></tr><tr><th>5</th><td>2003</td><td>6.43589</td><td>0.497808</td><td>2.56164</td><td>2.54767</td></tr><tr><th>6</th><td>2004</td><td>6.24918</td><td>0.365574</td><td>2.45902</td><td>2.0847</td></tr><tr><th>7</th><td>2005</td><td>7.46301</td><td>0.51726</td><td>2.71507</td><td>2.83452</td></tr><tr><th>8</th><td>2006</td><td>8.20247</td><td>0.335068</td><td>2.31233</td><td>3.35671</td></tr><tr><th>9</th><td>2007</td><td>6.89753</td><td>0.892877</td><td>3.65753</td><td>1.8211</td></tr><tr><th>10</th><td>2008</td><td>7.02596</td><td>0.934973</td><td>6.29508</td><td>2.01858</td></tr><tr><th>11</th><td>2009</td><td>6.67945</td><td>0.474247</td><td>3.73973</td><td>2.19616</td></tr><tr><th>12</th><td>2010</td><td>8.46959</td><td>0.555068</td><td>1.84384</td><td>2.73918</td></tr><tr><th>13</th><td>2011</td><td>8.02712</td><td>0.510137</td><td>2.70685</td><td>3.01205</td></tr><tr><th>14</th><td>2012</td><td>8.53361</td><td>0.525683</td><td>2.01913</td><td>1.98306</td></tr><tr><th>15</th><td>2013</td><td>7.49198</td><td>0.573133</td><td>3.25219</td><td>2.29589</td></tr><tr><th>16</th><td>2014</td><td>6.86712</td><td>0.504658</td><td>3.30137</td><td>2.33167</td></tr><tr><th>17</th><td>2015</td><td>7.13945</td><td>0.530462</td><td>3.45205</td><td>2.45376</td></tr><tr><th>18</th><td>2016</td><td>8.09633</td><td>0.530238</td><td>2.10383</td><td>2.3105</td></tr><tr><th>19</th><td>2017</td><td>7.63394</td><td>0.646964</td><td>2.67123</td><td>2.83751</td></tr><tr><th>20</th><td>2018</td><td>7.35671</td><td>0.667945</td><td>3.06027</td><td>2.23349</td></tr><tr><th>21</th><td>2019</td><td>6.57394</td><td>0.648508</td><td>3.4411</td><td>2.5991</td></tr><tr><th>22</th><td>2020</td><td>8.2331</td><td>0.522951</td><td>3.56284</td><td>2.37541</td></tr><tr><th>23</th><td>2021</td><td>8.65903</td><td>0.485479</td><td>5.69863</td><td>1.71205</td></tr></tbody></table></div>"
      ],
      "text/latex": [
       "\\begin{tabular}{r|ccccc}\n",
       "\t& Année & meantemp & SnowTotal & SnowGround & raintotal\\\\\n",
       "\t\\hline\n",
       "\t& Int64 & Float64 & Float64 & Float64 & Float64\\\\\n",
       "\t\\hline\n",
       "\t1 & 1999 & 8.27338 & 0.470461 & 2.08219 & 2.10712 \\\\\n",
       "\t2 & 2000 & 6.43885 & 0.811202 & 2.46995 & 1.85191 \\\\\n",
       "\t3 & 2001 & 8.01671 & 0.617808 & 7.70685 & 1.47096 \\\\\n",
       "\t4 & 2002 & 7.55123 & 0.563562 & 1.68767 & 1.63233 \\\\\n",
       "\t5 & 2003 & 6.43589 & 0.497808 & 2.56164 & 2.54767 \\\\\n",
       "\t6 & 2004 & 6.24918 & 0.365574 & 2.45902 & 2.0847 \\\\\n",
       "\t7 & 2005 & 7.46301 & 0.51726 & 2.71507 & 2.83452 \\\\\n",
       "\t8 & 2006 & 8.20247 & 0.335068 & 2.31233 & 3.35671 \\\\\n",
       "\t9 & 2007 & 6.89753 & 0.892877 & 3.65753 & 1.8211 \\\\\n",
       "\t10 & 2008 & 7.02596 & 0.934973 & 6.29508 & 2.01858 \\\\\n",
       "\t11 & 2009 & 6.67945 & 0.474247 & 3.73973 & 2.19616 \\\\\n",
       "\t12 & 2010 & 8.46959 & 0.555068 & 1.84384 & 2.73918 \\\\\n",
       "\t13 & 2011 & 8.02712 & 0.510137 & 2.70685 & 3.01205 \\\\\n",
       "\t14 & 2012 & 8.53361 & 0.525683 & 2.01913 & 1.98306 \\\\\n",
       "\t15 & 2013 & 7.49198 & 0.573133 & 3.25219 & 2.29589 \\\\\n",
       "\t16 & 2014 & 6.86712 & 0.504658 & 3.30137 & 2.33167 \\\\\n",
       "\t17 & 2015 & 7.13945 & 0.530462 & 3.45205 & 2.45376 \\\\\n",
       "\t18 & 2016 & 8.09633 & 0.530238 & 2.10383 & 2.3105 \\\\\n",
       "\t19 & 2017 & 7.63394 & 0.646964 & 2.67123 & 2.83751 \\\\\n",
       "\t20 & 2018 & 7.35671 & 0.667945 & 3.06027 & 2.23349 \\\\\n",
       "\t21 & 2019 & 6.57394 & 0.648508 & 3.4411 & 2.5991 \\\\\n",
       "\t22 & 2020 & 8.2331 & 0.522951 & 3.56284 & 2.37541 \\\\\n",
       "\t23 & 2021 & 8.65903 & 0.485479 & 5.69863 & 1.71205 \\\\\n",
       "\\end{tabular}\n"
      ],
      "text/plain": [
       "\u001b[1m23×5 DataFrame\u001b[0m\n",
       "\u001b[1m Row \u001b[0m│\u001b[1m Année \u001b[0m\u001b[1m meantemp \u001b[0m\u001b[1m SnowTotal \u001b[0m\u001b[1m SnowGround \u001b[0m\u001b[1m raintotal \u001b[0m\n",
       "\u001b[1m     \u001b[0m│\u001b[90m Int64 \u001b[0m\u001b[90m Float64  \u001b[0m\u001b[90m Float64   \u001b[0m\u001b[90m Float64    \u001b[0m\u001b[90m Float64   \u001b[0m\n",
       "─────┼───────────────────────────────────────────────────\n",
       "   1 │  1999   8.27338   0.470461     2.08219    2.10712\n",
       "   2 │  2000   6.43885   0.811202     2.46995    1.85191\n",
       "   3 │  2001   8.01671   0.617808     7.70685    1.47096\n",
       "   4 │  2002   7.55123   0.563562     1.68767    1.63233\n",
       "   5 │  2003   6.43589   0.497808     2.56164    2.54767\n",
       "   6 │  2004   6.24918   0.365574     2.45902    2.0847\n",
       "   7 │  2005   7.46301   0.51726      2.71507    2.83452\n",
       "   8 │  2006   8.20247   0.335068     2.31233    3.35671\n",
       "   9 │  2007   6.89753   0.892877     3.65753    1.8211\n",
       "  10 │  2008   7.02596   0.934973     6.29508    2.01858\n",
       "  11 │  2009   6.67945   0.474247     3.73973    2.19616\n",
       "  12 │  2010   8.46959   0.555068     1.84384    2.73918\n",
       "  13 │  2011   8.02712   0.510137     2.70685    3.01205\n",
       "  14 │  2012   8.53361   0.525683     2.01913    1.98306\n",
       "  15 │  2013   7.49198   0.573133     3.25219    2.29589\n",
       "  16 │  2014   6.86712   0.504658     3.30137    2.33167\n",
       "  17 │  2015   7.13945   0.530462     3.45205    2.45376\n",
       "  18 │  2016   8.09633   0.530238     2.10383    2.3105\n",
       "  19 │  2017   7.63394   0.646964     2.67123    2.83751\n",
       "  20 │  2018   7.35671   0.667945     3.06027    2.23349\n",
       "  21 │  2019   6.57394   0.648508     3.4411     2.5991\n",
       "  22 │  2020   8.2331    0.522951     3.56284    2.37541\n",
       "  23 │  2021   8.65903   0.485479     5.69863    1.71205"
      ]
     },
     "execution_count": 2105,
     "metadata": {},
     "output_type": "execute_result"
    }
   ],
   "source": [
    "\n",
    "push!(df, [2013 mean(meantemp_par_an[!, \"meantemp_mean\"]) mean(total_snow_par_an[!, \"SnowTotal_mean\"]) mean(snow_on_ground_an[!, \"SnowGround_mean\"]) mean(rain_total_par_an[!, \"raintotal_mean\"])] )\n",
    "df = sort(df)"
   ]
  },
  {
   "cell_type": "markdown",
   "metadata": {},
   "source": [
    "### ici on ajoute le pris de l'essence au québec et à Montréal à notre jeu de données."
   ]
  },
  {
   "cell_type": "code",
   "execution_count": 2106,
   "metadata": {},
   "outputs": [
    {
     "data": {
      "text/html": [
       "<div class=\"data-frame\"><p>23 rows × 7 columns</p><table class=\"data-frame\"><thead><tr><th></th><th>Année</th><th>meantemp</th><th>SnowTotal</th><th>SnowGround</th><th>raintotal</th><th>Québec</th><th>Montréal</th></tr><tr><th></th><th title=\"Int64\">Int64</th><th title=\"Float64\">Float64</th><th title=\"Float64\">Float64</th><th title=\"Float64\">Float64</th><th title=\"Float64\">Float64</th><th title=\"Float64\">Float64</th><th title=\"Float64\">Float64</th></tr></thead><tbody><tr><th>1</th><td>1999</td><td>8.27338</td><td>0.470461</td><td>2.08219</td><td>2.10712</td><td>61.4583</td><td>63.0417</td></tr><tr><th>2</th><td>2000</td><td>6.43885</td><td>0.811202</td><td>2.46995</td><td>1.85191</td><td>71.9417</td><td>77.1583</td></tr><tr><th>3</th><td>2001</td><td>8.01671</td><td>0.617808</td><td>7.70685</td><td>1.47096</td><td>73.95</td><td>73.75</td></tr><tr><th>4</th><td>2002</td><td>7.55123</td><td>0.563562</td><td>1.68767</td><td>1.63233</td><td>72.1333</td><td>71.3583</td></tr><tr><th>5</th><td>2003</td><td>6.43589</td><td>0.497808</td><td>2.56164</td><td>2.54767</td><td>77.8</td><td>76.6833</td></tr><tr><th>6</th><td>2004</td><td>6.24918</td><td>0.365574</td><td>2.45902</td><td>2.0847</td><td>87.0417</td><td>85.75</td></tr><tr><th>7</th><td>2005</td><td>7.46301</td><td>0.51726</td><td>2.71507</td><td>2.83452</td><td>97.4833</td><td>96.35</td></tr><tr><th>8</th><td>2006</td><td>8.20247</td><td>0.335068</td><td>2.31233</td><td>3.35671</td><td>102.367</td><td>100.767</td></tr><tr><th>9</th><td>2007</td><td>6.89753</td><td>0.892877</td><td>3.65753</td><td>1.8211</td><td>106.442</td><td>104.333</td></tr><tr><th>10</th><td>2008</td><td>7.02596</td><td>0.934973</td><td>6.29508</td><td>2.01858</td><td>120.1</td><td>118.792</td></tr><tr><th>11</th><td>2009</td><td>6.67945</td><td>0.474247</td><td>3.73973</td><td>2.19616</td><td>97.6667</td><td>97.7417</td></tr><tr><th>12</th><td>2010</td><td>8.46959</td><td>0.555068</td><td>1.84384</td><td>2.73918</td><td>106.458</td><td>107.842</td></tr><tr><th>13</th><td>2011</td><td>8.02712</td><td>0.510137</td><td>2.70685</td><td>3.01205</td><td>128.025</td><td>130.492</td></tr><tr><th>14</th><td>2012</td><td>8.53361</td><td>0.525683</td><td>2.01913</td><td>1.98306</td><td>134.508</td><td>136.517</td></tr><tr><th>15</th><td>2013</td><td>7.49198</td><td>0.573133</td><td>3.25219</td><td>2.29589</td><td>135.208</td><td>136.892</td></tr><tr><th>16</th><td>2014</td><td>6.86712</td><td>0.504658</td><td>3.30137</td><td>2.33167</td><td>133.042</td><td>136.925</td></tr><tr><th>17</th><td>2015</td><td>7.13945</td><td>0.530462</td><td>3.45205</td><td>2.45376</td><td>110.083</td><td>116.45</td></tr><tr><th>18</th><td>2016</td><td>8.09633</td><td>0.530238</td><td>2.10383</td><td>2.3105</td><td>101.517</td><td>108.308</td></tr><tr><th>19</th><td>2017</td><td>7.63394</td><td>0.646964</td><td>2.67123</td><td>2.83751</td><td>111.933</td><td>118.917</td></tr><tr><th>20</th><td>2018</td><td>7.35671</td><td>0.667945</td><td>3.06027</td><td>2.23349</td><td>125.542</td><td>131.875</td></tr><tr><th>21</th><td>2019</td><td>6.57394</td><td>0.648508</td><td>3.4411</td><td>2.5991</td><td>119.4</td><td>125.608</td></tr><tr><th>22</th><td>2020</td><td>8.2331</td><td>0.522951</td><td>3.56284</td><td>2.37541</td><td>103.567</td><td>106.25</td></tr><tr><th>23</th><td>2021</td><td>8.65903</td><td>0.485479</td><td>5.69863</td><td>1.71205</td><td>136.558</td><td>136.825</td></tr></tbody></table></div>"
      ],
      "text/latex": [
       "\\begin{tabular}{r|ccccccc}\n",
       "\t& Année & meantemp & SnowTotal & SnowGround & raintotal & Québec & Montréal\\\\\n",
       "\t\\hline\n",
       "\t& Int64 & Float64 & Float64 & Float64 & Float64 & Float64 & Float64\\\\\n",
       "\t\\hline\n",
       "\t1 & 1999 & 8.27338 & 0.470461 & 2.08219 & 2.10712 & 61.4583 & 63.0417 \\\\\n",
       "\t2 & 2000 & 6.43885 & 0.811202 & 2.46995 & 1.85191 & 71.9417 & 77.1583 \\\\\n",
       "\t3 & 2001 & 8.01671 & 0.617808 & 7.70685 & 1.47096 & 73.95 & 73.75 \\\\\n",
       "\t4 & 2002 & 7.55123 & 0.563562 & 1.68767 & 1.63233 & 72.1333 & 71.3583 \\\\\n",
       "\t5 & 2003 & 6.43589 & 0.497808 & 2.56164 & 2.54767 & 77.8 & 76.6833 \\\\\n",
       "\t6 & 2004 & 6.24918 & 0.365574 & 2.45902 & 2.0847 & 87.0417 & 85.75 \\\\\n",
       "\t7 & 2005 & 7.46301 & 0.51726 & 2.71507 & 2.83452 & 97.4833 & 96.35 \\\\\n",
       "\t8 & 2006 & 8.20247 & 0.335068 & 2.31233 & 3.35671 & 102.367 & 100.767 \\\\\n",
       "\t9 & 2007 & 6.89753 & 0.892877 & 3.65753 & 1.8211 & 106.442 & 104.333 \\\\\n",
       "\t10 & 2008 & 7.02596 & 0.934973 & 6.29508 & 2.01858 & 120.1 & 118.792 \\\\\n",
       "\t11 & 2009 & 6.67945 & 0.474247 & 3.73973 & 2.19616 & 97.6667 & 97.7417 \\\\\n",
       "\t12 & 2010 & 8.46959 & 0.555068 & 1.84384 & 2.73918 & 106.458 & 107.842 \\\\\n",
       "\t13 & 2011 & 8.02712 & 0.510137 & 2.70685 & 3.01205 & 128.025 & 130.492 \\\\\n",
       "\t14 & 2012 & 8.53361 & 0.525683 & 2.01913 & 1.98306 & 134.508 & 136.517 \\\\\n",
       "\t15 & 2013 & 7.49198 & 0.573133 & 3.25219 & 2.29589 & 135.208 & 136.892 \\\\\n",
       "\t16 & 2014 & 6.86712 & 0.504658 & 3.30137 & 2.33167 & 133.042 & 136.925 \\\\\n",
       "\t17 & 2015 & 7.13945 & 0.530462 & 3.45205 & 2.45376 & 110.083 & 116.45 \\\\\n",
       "\t18 & 2016 & 8.09633 & 0.530238 & 2.10383 & 2.3105 & 101.517 & 108.308 \\\\\n",
       "\t19 & 2017 & 7.63394 & 0.646964 & 2.67123 & 2.83751 & 111.933 & 118.917 \\\\\n",
       "\t20 & 2018 & 7.35671 & 0.667945 & 3.06027 & 2.23349 & 125.542 & 131.875 \\\\\n",
       "\t21 & 2019 & 6.57394 & 0.648508 & 3.4411 & 2.5991 & 119.4 & 125.608 \\\\\n",
       "\t22 & 2020 & 8.2331 & 0.522951 & 3.56284 & 2.37541 & 103.567 & 106.25 \\\\\n",
       "\t23 & 2021 & 8.65903 & 0.485479 & 5.69863 & 1.71205 & 136.558 & 136.825 \\\\\n",
       "\\end{tabular}\n"
      ],
      "text/plain": [
       "\u001b[1m23×7 DataFrame\u001b[0m\n",
       "\u001b[1m Row \u001b[0m│\u001b[1m Année \u001b[0m\u001b[1m meantemp \u001b[0m\u001b[1m SnowTotal \u001b[0m\u001b[1m SnowGround \u001b[0m\u001b[1m raintotal \u001b[0m\u001b[1m Québec   \u001b[0m\u001b[1m Montréal \u001b[0m\n",
       "\u001b[1m     \u001b[0m│\u001b[90m Int64 \u001b[0m\u001b[90m Float64  \u001b[0m\u001b[90m Float64   \u001b[0m\u001b[90m Float64    \u001b[0m\u001b[90m Float64   \u001b[0m\u001b[90m Float64  \u001b[0m\u001b[90m Float64  \u001b[0m\n",
       "─────┼───────────────────────────────────────────────────────────────────────\n",
       "   1 │  1999   8.27338   0.470461     2.08219    2.10712   61.4583   63.0417\n",
       "   2 │  2000   6.43885   0.811202     2.46995    1.85191   71.9417   77.1583\n",
       "   3 │  2001   8.01671   0.617808     7.70685    1.47096   73.95     73.75\n",
       "   4 │  2002   7.55123   0.563562     1.68767    1.63233   72.1333   71.3583\n",
       "   5 │  2003   6.43589   0.497808     2.56164    2.54767   77.8      76.6833\n",
       "   6 │  2004   6.24918   0.365574     2.45902    2.0847    87.0417   85.75\n",
       "   7 │  2005   7.46301   0.51726      2.71507    2.83452   97.4833   96.35\n",
       "   8 │  2006   8.20247   0.335068     2.31233    3.35671  102.367   100.767\n",
       "   9 │  2007   6.89753   0.892877     3.65753    1.8211   106.442   104.333\n",
       "  10 │  2008   7.02596   0.934973     6.29508    2.01858  120.1     118.792\n",
       "  11 │  2009   6.67945   0.474247     3.73973    2.19616   97.6667   97.7417\n",
       "  12 │  2010   8.46959   0.555068     1.84384    2.73918  106.458   107.842\n",
       "  13 │  2011   8.02712   0.510137     2.70685    3.01205  128.025   130.492\n",
       "  14 │  2012   8.53361   0.525683     2.01913    1.98306  134.508   136.517\n",
       "  15 │  2013   7.49198   0.573133     3.25219    2.29589  135.208   136.892\n",
       "  16 │  2014   6.86712   0.504658     3.30137    2.33167  133.042   136.925\n",
       "  17 │  2015   7.13945   0.530462     3.45205    2.45376  110.083   116.45\n",
       "  18 │  2016   8.09633   0.530238     2.10383    2.3105   101.517   108.308\n",
       "  19 │  2017   7.63394   0.646964     2.67123    2.83751  111.933   118.917\n",
       "  20 │  2018   7.35671   0.667945     3.06027    2.23349  125.542   131.875\n",
       "  21 │  2019   6.57394   0.648508     3.4411     2.5991   119.4     125.608\n",
       "  22 │  2020   8.2331    0.522951     3.56284    2.37541  103.567   106.25\n",
       "  23 │  2021   8.65903   0.485479     5.69863    1.71205  136.558   136.825"
      ]
     },
     "execution_count": 2106,
     "metadata": {},
     "output_type": "execute_result"
    }
   ],
   "source": [
    "\n",
    "df = hcat(df, essence_par_an_quebec[!, \"Québec_mean\"])\n",
    "df = rename(df, :\"x1\" => :Québec)   \n",
    "df = hcat(df, essence_par_an_montreal[!, \"Montréal_mean\"])\n",
    "df = rename(df, :\"x1\" => :Montréal)\n"
   ]
  },
  {
   "cell_type": "code",
   "execution_count": 2107,
   "metadata": {},
   "outputs": [
    {
     "data": {
      "text/html": [
       "<div class=\"data-frame\"><p>12 rows × 7 columns</p><table class=\"data-frame\"><thead><tr><th></th><th>Année</th><th>meantemp</th><th>SnowTotal</th><th>SnowGround</th><th>raintotal</th><th>Québec</th><th>Montréal</th></tr><tr><th></th><th title=\"Int64\">Int64</th><th title=\"Float64\">Float64</th><th title=\"Float64\">Float64</th><th title=\"Float64\">Float64</th><th title=\"Float64\">Float64</th><th title=\"Float64\">Float64</th><th title=\"Float64\">Float64</th></tr></thead><tbody><tr><th>1</th><td>2009</td><td>6.67945</td><td>0.474247</td><td>3.73973</td><td>2.19616</td><td>97.6667</td><td>97.7417</td></tr><tr><th>2</th><td>2010</td><td>8.46959</td><td>0.555068</td><td>1.84384</td><td>2.73918</td><td>106.458</td><td>107.842</td></tr><tr><th>3</th><td>2011</td><td>8.02712</td><td>0.510137</td><td>2.70685</td><td>3.01205</td><td>128.025</td><td>130.492</td></tr><tr><th>4</th><td>2012</td><td>8.53361</td><td>0.525683</td><td>2.01913</td><td>1.98306</td><td>134.508</td><td>136.517</td></tr><tr><th>5</th><td>2013</td><td>7.49198</td><td>0.573133</td><td>3.25219</td><td>2.29589</td><td>135.208</td><td>136.892</td></tr><tr><th>6</th><td>2014</td><td>6.86712</td><td>0.504658</td><td>3.30137</td><td>2.33167</td><td>133.042</td><td>136.925</td></tr><tr><th>7</th><td>2015</td><td>7.13945</td><td>0.530462</td><td>3.45205</td><td>2.45376</td><td>110.083</td><td>116.45</td></tr><tr><th>8</th><td>2016</td><td>8.09633</td><td>0.530238</td><td>2.10383</td><td>2.3105</td><td>101.517</td><td>108.308</td></tr><tr><th>9</th><td>2017</td><td>7.63394</td><td>0.646964</td><td>2.67123</td><td>2.83751</td><td>111.933</td><td>118.917</td></tr><tr><th>10</th><td>2018</td><td>7.35671</td><td>0.667945</td><td>3.06027</td><td>2.23349</td><td>125.542</td><td>131.875</td></tr><tr><th>11</th><td>2019</td><td>6.57394</td><td>0.648508</td><td>3.4411</td><td>2.5991</td><td>119.4</td><td>125.608</td></tr><tr><th>12</th><td>2020</td><td>8.2331</td><td>0.522951</td><td>3.56284</td><td>2.37541</td><td>103.567</td><td>106.25</td></tr></tbody></table></div>"
      ],
      "text/latex": [
       "\\begin{tabular}{r|ccccccc}\n",
       "\t& Année & meantemp & SnowTotal & SnowGround & raintotal & Québec & Montréal\\\\\n",
       "\t\\hline\n",
       "\t& Int64 & Float64 & Float64 & Float64 & Float64 & Float64 & Float64\\\\\n",
       "\t\\hline\n",
       "\t1 & 2009 & 6.67945 & 0.474247 & 3.73973 & 2.19616 & 97.6667 & 97.7417 \\\\\n",
       "\t2 & 2010 & 8.46959 & 0.555068 & 1.84384 & 2.73918 & 106.458 & 107.842 \\\\\n",
       "\t3 & 2011 & 8.02712 & 0.510137 & 2.70685 & 3.01205 & 128.025 & 130.492 \\\\\n",
       "\t4 & 2012 & 8.53361 & 0.525683 & 2.01913 & 1.98306 & 134.508 & 136.517 \\\\\n",
       "\t5 & 2013 & 7.49198 & 0.573133 & 3.25219 & 2.29589 & 135.208 & 136.892 \\\\\n",
       "\t6 & 2014 & 6.86712 & 0.504658 & 3.30137 & 2.33167 & 133.042 & 136.925 \\\\\n",
       "\t7 & 2015 & 7.13945 & 0.530462 & 3.45205 & 2.45376 & 110.083 & 116.45 \\\\\n",
       "\t8 & 2016 & 8.09633 & 0.530238 & 2.10383 & 2.3105 & 101.517 & 108.308 \\\\\n",
       "\t9 & 2017 & 7.63394 & 0.646964 & 2.67123 & 2.83751 & 111.933 & 118.917 \\\\\n",
       "\t10 & 2018 & 7.35671 & 0.667945 & 3.06027 & 2.23349 & 125.542 & 131.875 \\\\\n",
       "\t11 & 2019 & 6.57394 & 0.648508 & 3.4411 & 2.5991 & 119.4 & 125.608 \\\\\n",
       "\t12 & 2020 & 8.2331 & 0.522951 & 3.56284 & 2.37541 & 103.567 & 106.25 \\\\\n",
       "\\end{tabular}\n"
      ],
      "text/plain": [
       "\u001b[1m12×7 DataFrame\u001b[0m\n",
       "\u001b[1m Row \u001b[0m│\u001b[1m Année \u001b[0m\u001b[1m meantemp \u001b[0m\u001b[1m SnowTotal \u001b[0m\u001b[1m SnowGround \u001b[0m\u001b[1m raintotal \u001b[0m\u001b[1m Québec   \u001b[0m\u001b[1m Montréal \u001b[0m\n",
       "\u001b[1m     \u001b[0m│\u001b[90m Int64 \u001b[0m\u001b[90m Float64  \u001b[0m\u001b[90m Float64   \u001b[0m\u001b[90m Float64    \u001b[0m\u001b[90m Float64   \u001b[0m\u001b[90m Float64  \u001b[0m\u001b[90m Float64  \u001b[0m\n",
       "─────┼───────────────────────────────────────────────────────────────────────\n",
       "   1 │  2009   6.67945   0.474247     3.73973    2.19616   97.6667   97.7417\n",
       "   2 │  2010   8.46959   0.555068     1.84384    2.73918  106.458   107.842\n",
       "   3 │  2011   8.02712   0.510137     2.70685    3.01205  128.025   130.492\n",
       "   4 │  2012   8.53361   0.525683     2.01913    1.98306  134.508   136.517\n",
       "   5 │  2013   7.49198   0.573133     3.25219    2.29589  135.208   136.892\n",
       "   6 │  2014   6.86712   0.504658     3.30137    2.33167  133.042   136.925\n",
       "   7 │  2015   7.13945   0.530462     3.45205    2.45376  110.083   116.45\n",
       "   8 │  2016   8.09633   0.530238     2.10383    2.3105   101.517   108.308\n",
       "   9 │  2017   7.63394   0.646964     2.67123    2.83751  111.933   118.917\n",
       "  10 │  2018   7.35671   0.667945     3.06027    2.23349  125.542   131.875\n",
       "  11 │  2019   6.57394   0.648508     3.4411     2.5991   119.4     125.608\n",
       "  12 │  2020   8.2331    0.522951     3.56284    2.37541  103.567   106.25"
      ]
     },
     "execution_count": 2107,
     "metadata": {},
     "output_type": "execute_result"
    }
   ],
   "source": [
    "feature_2021 = df[23:23,:]\n",
    "feature_2020 = df[22:22,:]\n",
    "df = df[11:22,:]"
   ]
  },
  {
   "cell_type": "markdown",
   "metadata": {},
   "source": [
    "#### Pour chaque zone on crée un dataframe des données de meteo puis ceux de l'essence puis un rajoute le nombre de cerfs récoltés dans cette zone à ce jeu de donnée"
   ]
  },
  {
   "cell_type": "code",
   "execution_count": 2108,
   "metadata": {},
   "outputs": [],
   "source": [
    "df_vector = [DataFrame() for _ in 1:19]\n",
    "\n",
    "#On rajoute dans la matrice X de chaque zone, les colonnes liées aux récoltes\n",
    "for i in 1:19\n",
    "        first_zone = groupby(recolte, :Zone)[i]\n",
    "        first_zone = combine(groupby(first_zone, :Année), :Cerfs => sum)\n",
    "        n = nrow(first_zone)\n",
    "        b = round(mean(groupby(recolte, :Zone)[i][!, :Cerfs]))\n",
    "        for i=1999:2020\n",
    "                push!(first_zone, [i b] )\n",
    "        end\n",
    "        first_zone = combine(groupby(first_zone, :Année), :Cerfs_sum => sum)\n",
    "        first_zone = first_zone[11:22,:]#Idriss : pour enlever l'année 2020. Pour entrainer sur l'anée 2020 comprise faire : first_zone[1:22,:]\n",
    "        df_vector[i] = hcat(df, first_zone[!, \"Cerfs_sum_sum\"])\n",
    "        df_vector[i] = rename(df_vector[i], :\"x1\" => :Cerfs)\n",
    "\n",
    "end"
   ]
  },
  {
   "cell_type": "markdown",
   "metadata": {},
   "source": [
    "##### le jeu de données permis.csv contient plusieurs donnée manquantes pour le nombre de permis résidents premier abbatage donc on les remplace par des la moyenne de cette colones "
   ]
  },
  {
   "cell_type": "code",
   "execution_count": 2109,
   "metadata": {},
   "outputs": [
    {
     "data": {
      "text/html": [
       "<div class=\"data-frame\"><p>12 rows × 5 columns</p><table class=\"data-frame\"><thead><tr><th></th><th>Année</th><th>Résidents</th><th>Résidents premier abbatage</th><th>Non-résidents</th><th>Total</th></tr><tr><th></th><th title=\"Int64\">Int64</th><th title=\"Int64\">Int64</th><th title=\"Union{Missing, Int64}\">Int64?</th><th title=\"Int64\">Int64</th><th title=\"Int64\">Int64</th></tr></thead><tbody><tr><th>1</th><td>2009</td><td>152388</td><td>8826</td><td>1231</td><td>162445</td></tr><tr><th>2</th><td>2010</td><td>145491</td><td>8635</td><td>1108</td><td>155234</td></tr><tr><th>3</th><td>2011</td><td>140968</td><td>8369</td><td>1114</td><td>150451</td></tr><tr><th>4</th><td>2012</td><td>143470</td><td>8795</td><td>1071</td><td>153336</td></tr><tr><th>5</th><td>2013</td><td>144980</td><td>8916</td><td>1049</td><td>154945</td></tr><tr><th>6</th><td>2014</td><td>143829</td><td>8883</td><td>1028</td><td>153740</td></tr><tr><th>7</th><td>2015</td><td>140789</td><td>9286</td><td>1020</td><td>151095</td></tr><tr><th>8</th><td>2016</td><td>139384</td><td>9351</td><td>943</td><td>149678</td></tr><tr><th>9</th><td>2017</td><td>137224</td><td>9723</td><td>913</td><td>147860</td></tr><tr><th>10</th><td>2018</td><td>134387</td><td>9816</td><td>915</td><td>145118</td></tr><tr><th>11</th><td>2019</td><td>126315</td><td>9397</td><td>871</td><td>136583</td></tr><tr><th>12</th><td>2020</td><td>135722</td><td>9082</td><td>691</td><td>136413</td></tr></tbody></table></div>"
      ],
      "text/latex": [
       "\\begin{tabular}{r|ccccc}\n",
       "\t& Année & Résidents & Résidents premier abbatage & Non-résidents & Total\\\\\n",
       "\t\\hline\n",
       "\t& Int64 & Int64 & Int64? & Int64 & Int64\\\\\n",
       "\t\\hline\n",
       "\t1 & 2009 & 152388 & 8826 & 1231 & 162445 \\\\\n",
       "\t2 & 2010 & 145491 & 8635 & 1108 & 155234 \\\\\n",
       "\t3 & 2011 & 140968 & 8369 & 1114 & 150451 \\\\\n",
       "\t4 & 2012 & 143470 & 8795 & 1071 & 153336 \\\\\n",
       "\t5 & 2013 & 144980 & 8916 & 1049 & 154945 \\\\\n",
       "\t6 & 2014 & 143829 & 8883 & 1028 & 153740 \\\\\n",
       "\t7 & 2015 & 140789 & 9286 & 1020 & 151095 \\\\\n",
       "\t8 & 2016 & 139384 & 9351 & 943 & 149678 \\\\\n",
       "\t9 & 2017 & 137224 & 9723 & 913 & 147860 \\\\\n",
       "\t10 & 2018 & 134387 & 9816 & 915 & 145118 \\\\\n",
       "\t11 & 2019 & 126315 & 9397 & 871 & 136583 \\\\\n",
       "\t12 & 2020 & 135722 & 9082 & 691 & 136413 \\\\\n",
       "\\end{tabular}\n"
      ],
      "text/plain": [
       "\u001b[1m12×5 DataFrame\u001b[0m\n",
       "\u001b[1m Row \u001b[0m│\u001b[1m Année \u001b[0m\u001b[1m Résidents \u001b[0m\u001b[1m Résidents premier abbatage \u001b[0m\u001b[1m Non-résidents \u001b[0m\u001b[1m Total  \u001b[0m\n",
       "\u001b[1m     \u001b[0m│\u001b[90m Int64 \u001b[0m\u001b[90m Int64     \u001b[0m\u001b[90m Union{Missing, Int64}      \u001b[0m\u001b[90m Int64         \u001b[0m\u001b[90m Int64  \u001b[0m\n",
       "─────┼─────────────────────────────────────────────────────────────────────\n",
       "   1 │  2009     152388                        8826           1231  162445\n",
       "   2 │  2010     145491                        8635           1108  155234\n",
       "   3 │  2011     140968                        8369           1114  150451\n",
       "   4 │  2012     143470                        8795           1071  153336\n",
       "   5 │  2013     144980                        8916           1049  154945\n",
       "   6 │  2014     143829                        8883           1028  153740\n",
       "   7 │  2015     140789                        9286           1020  151095\n",
       "   8 │  2016     139384                        9351            943  149678\n",
       "   9 │  2017     137224                        9723            913  147860\n",
       "  10 │  2018     134387                        9816            915  145118\n",
       "  11 │  2019     126315                        9397            871  136583\n",
       "  12 │  2020     135722                        9082            691  136413"
      ]
     },
     "execution_count": 2109,
     "metadata": {},
     "output_type": "execute_result"
    }
   ],
   "source": [
    "#Remplacer les premiers abbatages manquants\n",
    "replace!(permis.\"Résidents premier abbatage\", missing => round(mean(skipmissing(permis[!, \"Résidents premier abbatage\"]))))\n",
    "permis_copy = copy(permis)\n",
    "permis = permis[12:23, :] \n"
   ]
  },
  {
   "cell_type": "markdown",
   "metadata": {},
   "source": [
    "#### on ajoute a notre chacun de nos dataframe correspondant à chaque zone le nombre de permis attribués annuellement."
   ]
  },
  {
   "cell_type": "code",
   "execution_count": 2110,
   "metadata": {},
   "outputs": [],
   "source": [
    "\n",
    "#On rajoute dans la matrice X de chaque zone, les colonnes liées au permis\n",
    "for i in 1:19\n",
    "    df_vector[i] = hcat(df_vector[i], permis[!, \"Résidents premier abbatage\"])\n",
    "    df_vector[i] = rename(df_vector[i], :\"x1\" => :\"Résidents 1er\")\n",
    "    df_vector[i] = hcat(df_vector[i], permis[!, \"Non-résidents\"])\n",
    "    df_vector[i] = rename(df_vector[i], :\"x1\" => :\"Non-résidents\")\n",
    "    df_vector[i] = hcat(df_vector[i], permis[!, \"Résidents\"])\n",
    "    df_vector[i] = rename(df_vector[i], :\"x1\" => :\"Résidents\")\n",
    "end\n"
   ]
  },
  {
   "cell_type": "markdown",
   "metadata": {},
   "source": [
    "# 3. Feature Design"
   ]
  },
  {
   "cell_type": "markdown",
   "metadata": {},
   "source": [
    "Voici les règles que nous avons suivis pour le choix des features : \n",
    "\n",
    "D’après la matrice de corrélation vue dans l’analyse exploratoire, certaines features sont fortement corrélés, ainsi la première règle à été de ne jamais tester un modèle contenant 2 ou plus features corrélées.\n",
    "\n",
    "Nous avons considéré la feature “Engins” qui serait un OneHot qui indiquerait quels engins ont été utilisés. Cependant, nous entraînons un modèle par zone, or les engins varient très rarement par zone, ce qui implique que cette feature aurait une variance proche de 0 (pour chaque zone), ainsi nous avons préféré la retirer.\n",
    "\n",
    "Nous avons séparé certaines features en plusieurs, car les garder en une seule était une perte d’informations. Par exemple, nous avons séparé la feature “Essence” en 2, “Québec” et “Montréal” afin d’utiliser “Québec” pour les zones se trouvant au Québec, et “Montréal” pour les zones se trouvant proche de Montréal. De même pour la feature “Permis”, que nous avons séparé en 3, “Résidents”, “Non-Résidents” et “1er abattage\". L’intuition derrière ce choix est qu’il serait intéressant par exemple d’utiliser “Non-Résident” et “Essence” dans le même modèle, car les non résidents doivent parcourir une plus grande distance pour aller chasser. Si on avait seulement une feature “Permis”, l’information du nombre de personnes devant parcourir de grandes distances serait perdue.\n"
   ]
  },
  {
   "cell_type": "markdown",
   "metadata": {},
   "source": [
    "Comme nous allons le présenter dans la partie suivante (4. Modèles), nous allons utiliser un modèle de regréssion polynomiale pénalisée. Il nous faut donc un moyen d'augmenter les degrés de chaque feature, c'est le rôle de la fonction \"get_polynomial_feature\". Elle prend en paramètre une colonne de datarframe et rend en sortie des nouvelles colonnes, une pour chaque degré."
   ]
  },
  {
   "cell_type": "code",
   "execution_count": 2111,
   "metadata": {},
   "outputs": [
    {
     "data": {
      "text/plain": [
       "get_polynomial_feature (generic function with 1 method)"
      ]
     },
     "execution_count": 2111,
     "metadata": {},
     "output_type": "execute_result"
    }
   ],
   "source": [
    "#Cette fonction permet de rajouter des colonnes pour la feature en argument, pour chaque degré\n",
    "# Par exemple pour modifier et que ça transforme une feature au degré 5, il faut uncomment ce que tout ce qui est commenté \n",
    "function get_polynomial_feature(array,feature_name)\n",
    "    a = \"2\"\n",
    "    b = \"3\"\n",
    "    c = \"4\"\n",
    "    d = \"5\"\n",
    "    e = \"6\"\n",
    "\n",
    "    arr = copy(array)\n",
    "    arr2 = arr.^2\n",
    "    arr3 = arr.^3\n",
    "    arr4 = arr.^4\n",
    "    arr5 = arr.^5\n",
    "    arr6 = arr.^6\n",
    "    \n",
    "    # df = DataFrame([arr2,arr3],[feature_name * a,feature_name * b])\n",
    "    df = DataFrame([arr2,arr3],[feature_name * a,feature_name *b])\n",
    "    return df\n",
    "end"
   ]
  },
  {
   "cell_type": "markdown",
   "metadata": {},
   "source": [
    "Cette cellule permet de sélectionner les features que l'on souhaite garder dans notre modèle. Comme expliqué précédemment, le dataframe \"df_vector\" contient chacune de nos matrices de structure X. Ainsi on sélectionne celles qui nous intéressent. Pour notre modèle final, nous avons conservé l'année, la quantité de neige sur le sol ainsi que la quantité de pluie car il nous donne notre meilleur score."
   ]
  },
  {
   "cell_type": "code",
   "execution_count": 2112,
   "metadata": {},
   "outputs": [],
   "source": [
    "for i in 1:19\n",
    "    df_vector[i] = select!(df_vector[i], [:Année,:SnowGround,:raintotal,:Cerfs])\n",
    "end"
   ]
  },
  {
   "cell_type": "markdown",
   "metadata": {},
   "source": [
    "Ensuite, on transforme en polynôme les cellules de notre choix. Il n'est pas nécessaire de transformer en polynôme chacune des cellules choisies"
   ]
  },
  {
   "cell_type": "code",
   "execution_count": 2113,
   "metadata": {},
   "outputs": [],
   "source": [
    "# On ajoute à chaque matrice X (une matrice X par zone car un modèle par zone) toutes les features suivantes en polynome\n",
    "for i in 1:19\n",
    "    # df_vector[i] = hcat(df_vector[i],get_polynomial_feature(df_vector[i].meantemp,\"meanTemp\"))\n",
    "    df_vector[i] = hcat(df_vector[i],get_polynomial_feature(df_vector[i].Année,\"Année\"))\n",
    "    df_vector[i] = hcat(df_vector[i],get_polynomial_feature(df_vector[i].SnowGround,\"SnowGround\"))\n",
    "    df_vector[i] = hcat(df_vector[i],get_polynomial_feature(df_vector[i].raintotal,\"rainTotal\"))\n",
    "    # df_vector[i] = hcat(df_vector[i],get_polynomial_feature(df_vector[i].Québec,\"Québec\"))\n",
    "    # df_vector[i] = hcat(df_vector[i],get_polynomial_feature(df_vector[i].Montréal,\"Montréal\"))\n",
    "    # df_vector[i] = hcat(df_vector[i],get_polynomial_feature(df_vector[i][!,:\"Résidents 1er\"],\"Résidents 1er\"))\n",
    "    # df_vector[i] = hcat(df_vector[i],get_polynomial_feature(df_vector[i].Résidents,\"Résidents\"))\n",
    "    # df_vector[i] = hcat(df_vector[i],get_polynomial_feature(df_vector[i][!,:\"Non-résidents\"],\"Non-résidents\"))\n",
    "end"
   ]
  },
  {
   "cell_type": "code",
   "execution_count": 2114,
   "metadata": {},
   "outputs": [
    {
     "data": {
      "text/html": [
       "<div class=\"data-frame\"><p>12 rows × 10 columns (omitted printing of 2 columns)</p><table class=\"data-frame\"><thead><tr><th></th><th>Année</th><th>SnowGround</th><th>raintotal</th><th>Cerfs</th><th>Année2</th><th>Année3</th><th>SnowGround2</th><th>SnowGround3</th></tr><tr><th></th><th title=\"Int64\">Int64</th><th title=\"Float64\">Float64</th><th title=\"Float64\">Float64</th><th title=\"Int64\">Int64</th><th title=\"Int64\">Int64</th><th title=\"Int64\">Int64</th><th title=\"Float64\">Float64</th><th title=\"Float64\">Float64</th></tr></thead><tbody><tr><th>1</th><td>2009</td><td>3.73973</td><td>2.19616</td><td>61</td><td>4036081</td><td>8108486729</td><td>13.9856</td><td>52.3021</td></tr><tr><th>2</th><td>2010</td><td>1.84384</td><td>2.73918</td><td>67</td><td>4040100</td><td>8120601000</td><td>3.39973</td><td>6.26854</td></tr><tr><th>3</th><td>2011</td><td>2.70685</td><td>3.01205</td><td>76</td><td>4044121</td><td>8132727331</td><td>7.32703</td><td>19.8332</td></tr><tr><th>4</th><td>2012</td><td>2.01913</td><td>1.98306</td><td>111</td><td>4048144</td><td>8144865728</td><td>4.07687</td><td>8.23171</td></tr><tr><th>5</th><td>2013</td><td>3.25219</td><td>2.29589</td><td>108</td><td>4052169</td><td>8157016197</td><td>10.5767</td><td>34.3976</td></tr><tr><th>6</th><td>2014</td><td>3.30137</td><td>2.33167</td><td>96</td><td>4056196</td><td>8169178744</td><td>10.899</td><td>35.9818</td></tr><tr><th>7</th><td>2015</td><td>3.45205</td><td>2.45376</td><td>26</td><td>4060225</td><td>8181353375</td><td>11.9167</td><td>41.137</td></tr><tr><th>8</th><td>2016</td><td>2.10383</td><td>2.3105</td><td>102</td><td>4064256</td><td>8193540096</td><td>4.42608</td><td>9.3117</td></tr><tr><th>9</th><td>2017</td><td>2.67123</td><td>2.83751</td><td>114</td><td>4068289</td><td>8205738913</td><td>7.13549</td><td>19.0605</td></tr><tr><th>10</th><td>2018</td><td>3.06027</td><td>2.23349</td><td>131</td><td>4072324</td><td>8217949832</td><td>9.36528</td><td>28.6603</td></tr><tr><th>11</th><td>2019</td><td>3.4411</td><td>2.5991</td><td>86</td><td>4076361</td><td>8230172859</td><td>11.8411</td><td>40.7465</td></tr><tr><th>12</th><td>2020</td><td>3.56284</td><td>2.37541</td><td>356</td><td>4080400</td><td>8242408000</td><td>12.6938</td><td>45.2261</td></tr></tbody></table></div>"
      ],
      "text/latex": [
       "\\begin{tabular}{r|ccccccccc}\n",
       "\t& Année & SnowGround & raintotal & Cerfs & Année2 & Année3 & SnowGround2 & SnowGround3 & \\\\\n",
       "\t\\hline\n",
       "\t& Int64 & Float64 & Float64 & Int64 & Int64 & Int64 & Float64 & Float64 & \\\\\n",
       "\t\\hline\n",
       "\t1 & 2009 & 3.73973 & 2.19616 & 61 & 4036081 & 8108486729 & 13.9856 & 52.3021 & $\\dots$ \\\\\n",
       "\t2 & 2010 & 1.84384 & 2.73918 & 67 & 4040100 & 8120601000 & 3.39973 & 6.26854 & $\\dots$ \\\\\n",
       "\t3 & 2011 & 2.70685 & 3.01205 & 76 & 4044121 & 8132727331 & 7.32703 & 19.8332 & $\\dots$ \\\\\n",
       "\t4 & 2012 & 2.01913 & 1.98306 & 111 & 4048144 & 8144865728 & 4.07687 & 8.23171 & $\\dots$ \\\\\n",
       "\t5 & 2013 & 3.25219 & 2.29589 & 108 & 4052169 & 8157016197 & 10.5767 & 34.3976 & $\\dots$ \\\\\n",
       "\t6 & 2014 & 3.30137 & 2.33167 & 96 & 4056196 & 8169178744 & 10.899 & 35.9818 & $\\dots$ \\\\\n",
       "\t7 & 2015 & 3.45205 & 2.45376 & 26 & 4060225 & 8181353375 & 11.9167 & 41.137 & $\\dots$ \\\\\n",
       "\t8 & 2016 & 2.10383 & 2.3105 & 102 & 4064256 & 8193540096 & 4.42608 & 9.3117 & $\\dots$ \\\\\n",
       "\t9 & 2017 & 2.67123 & 2.83751 & 114 & 4068289 & 8205738913 & 7.13549 & 19.0605 & $\\dots$ \\\\\n",
       "\t10 & 2018 & 3.06027 & 2.23349 & 131 & 4072324 & 8217949832 & 9.36528 & 28.6603 & $\\dots$ \\\\\n",
       "\t11 & 2019 & 3.4411 & 2.5991 & 86 & 4076361 & 8230172859 & 11.8411 & 40.7465 & $\\dots$ \\\\\n",
       "\t12 & 2020 & 3.56284 & 2.37541 & 356 & 4080400 & 8242408000 & 12.6938 & 45.2261 & $\\dots$ \\\\\n",
       "\\end{tabular}\n"
      ],
      "text/plain": [
       "\u001b[1m12×10 DataFrame\u001b[0m\n",
       "\u001b[1m Row \u001b[0m│\u001b[1m Année \u001b[0m\u001b[1m SnowGround \u001b[0m\u001b[1m raintotal \u001b[0m\u001b[1m Cerfs \u001b[0m\u001b[1m Année2  \u001b[0m\u001b[1m Année3     \u001b[0m\u001b[1m SnowGround2 \u001b[0m\u001b[1m \u001b[0m ⋯\n",
       "\u001b[1m     \u001b[0m│\u001b[90m Int64 \u001b[0m\u001b[90m Float64    \u001b[0m\u001b[90m Float64   \u001b[0m\u001b[90m Int64 \u001b[0m\u001b[90m Int64   \u001b[0m\u001b[90m Int64      \u001b[0m\u001b[90m Float64     \u001b[0m\u001b[90m \u001b[0m ⋯\n",
       "─────┼──────────────────────────────────────────────────────────────────────────\n",
       "   1 │  2009     3.73973    2.19616     61  4036081  8108486729     13.9856    ⋯\n",
       "   2 │  2010     1.84384    2.73918     67  4040100  8120601000      3.39973\n",
       "   3 │  2011     2.70685    3.01205     76  4044121  8132727331      7.32703\n",
       "   4 │  2012     2.01913    1.98306    111  4048144  8144865728      4.07687\n",
       "   5 │  2013     3.25219    2.29589    108  4052169  8157016197     10.5767    ⋯\n",
       "   6 │  2014     3.30137    2.33167     96  4056196  8169178744     10.899\n",
       "   7 │  2015     3.45205    2.45376     26  4060225  8181353375     11.9167\n",
       "   8 │  2016     2.10383    2.3105     102  4064256  8193540096      4.42608\n",
       "   9 │  2017     2.67123    2.83751    114  4068289  8205738913      7.13549   ⋯\n",
       "  10 │  2018     3.06027    2.23349    131  4072324  8217949832      9.36528\n",
       "  11 │  2019     3.4411     2.5991      86  4076361  8230172859     11.8411\n",
       "  12 │  2020     3.56284    2.37541    356  4080400  8242408000     12.6938\n",
       "\u001b[36m                                                               3 columns omitted\u001b[0m"
      ]
     },
     "execution_count": 2114,
     "metadata": {},
     "output_type": "execute_result"
    }
   ],
   "source": [
    "df_vector[17] #On check que tout s'est bien passé"
   ]
  },
  {
   "cell_type": "markdown",
   "metadata": {},
   "source": [
    "Ensuite, il faut créer feature_2021, qui regroupe les observations de 2021 pour les features choisies, en gros il s'agit de X_test. Il faut bien évidemment garder le même format que pour notre échantillon d'entrainement ainsi dans cette cellule on applique la même chose que ce qui a été fait pour créer nos matrices de structure. \n",
    "\n",
    "De plus, comme nous le verrons dans la partie Optimisation, nous avons utilisé l'année 2020 comme validation set afin de pouvoir tester nos modèles sans devoir soumettre sur kaggle à chaque fois. On fait donc la même chose pour 2020 en créeant feature_2020"
   ]
  },
  {
   "cell_type": "code",
   "execution_count": 2115,
   "metadata": {},
   "outputs": [
    {
     "data": {
      "text/html": [
       "<div class=\"data-frame\"><p>1 rows × 10 columns (omitted printing of 2 columns)</p><table class=\"data-frame\"><thead><tr><th></th><th>Année</th><th>meantemp</th><th>SnowTotal</th><th>SnowGround</th><th>raintotal</th><th>Québec</th><th>Montréal</th><th>Résidents 1er</th></tr><tr><th></th><th title=\"Int64\">Int64</th><th title=\"Float64\">Float64</th><th title=\"Float64\">Float64</th><th title=\"Float64\">Float64</th><th title=\"Float64\">Float64</th><th title=\"Float64\">Float64</th><th title=\"Float64\">Float64</th><th title=\"Union{Missing, Int64}\">Int64?</th></tr></thead><tbody><tr><th>1</th><td>2020</td><td>8.2331</td><td>0.522951</td><td>3.56284</td><td>2.37541</td><td>103.567</td><td>106.25</td><td>9397</td></tr></tbody></table></div>"
      ],
      "text/latex": [
       "\\begin{tabular}{r|ccccccccc}\n",
       "\t& Année & meantemp & SnowTotal & SnowGround & raintotal & Québec & Montréal & Résidents 1er & \\\\\n",
       "\t\\hline\n",
       "\t& Int64 & Float64 & Float64 & Float64 & Float64 & Float64 & Float64 & Int64? & \\\\\n",
       "\t\\hline\n",
       "\t1 & 2020 & 8.2331 & 0.522951 & 3.56284 & 2.37541 & 103.567 & 106.25 & 9397 & $\\dots$ \\\\\n",
       "\\end{tabular}\n"
      ],
      "text/plain": [
       "\u001b[1m1×10 DataFrame\u001b[0m\n",
       "\u001b[1m Row \u001b[0m│\u001b[1m Année \u001b[0m\u001b[1m meantemp \u001b[0m\u001b[1m SnowTotal \u001b[0m\u001b[1m SnowGround \u001b[0m\u001b[1m raintotal \u001b[0m\u001b[1m Québec  \u001b[0m\u001b[1m Montréal \u001b[0m\u001b[1m R\u001b[0m ⋯\n",
       "\u001b[1m     \u001b[0m│\u001b[90m Int64 \u001b[0m\u001b[90m Float64  \u001b[0m\u001b[90m Float64   \u001b[0m\u001b[90m Float64    \u001b[0m\u001b[90m Float64   \u001b[0m\u001b[90m Float64 \u001b[0m\u001b[90m Float64  \u001b[0m\u001b[90m I\u001b[0m ⋯\n",
       "─────┼──────────────────────────────────────────────────────────────────────────\n",
       "   1 │  2020    8.2331   0.522951     3.56284    2.37541  103.567    106.25    ⋯\n",
       "\u001b[36m                                                               3 columns omitted\u001b[0m"
      ]
     },
     "execution_count": 2115,
     "metadata": {},
     "output_type": "execute_result"
    }
   ],
   "source": [
    "#On créer le vecteur x pour l'année 2021, qu'on utilisera comme entrée du modèle pour faire les prédictions\n",
    "\n",
    "feature_2021 = convert(DataFrame, feature_2021)\n",
    "feature_2021 = hcat(feature_2021, permis_copy[!, \"Résidents premier abbatage\"][23:23])\n",
    "feature_2021 = rename(feature_2021, :\"x1\" => :\"Résidents 1er\")\n",
    "feature_2021 = hcat(feature_2021, permis_copy[!, \"Non-résidents\"][23:23])\n",
    "feature_2021 = rename(feature_2021, :\"x1\" => :\"Non-résidents\")\n",
    "feature_2021 = hcat(feature_2021, permis_copy[!, \"Résidents\"][23:23])\n",
    "feature_2021 = rename(feature_2021, :\"x1\" => :\"Résidents\")\n",
    "\n",
    "#Même chose pour l'année 2020\n",
    "\n",
    "feature_2020 = convert(DataFrame, feature_2020)\n",
    "feature_2020 = hcat(feature_2020, permis_copy[!, \"Résidents premier abbatage\"][22:22])\n",
    "feature_2020 = rename(feature_2020, :\"x1\" => :\"Résidents 1er\")\n",
    "feature_2020 = hcat(feature_2020, permis_copy[!, \"Non-résidents\"][22:22])\n",
    "feature_2020 = rename(feature_2020, :\"x1\" => :\"Non-résidents\")\n",
    "feature_2020 = hcat(feature_2020, permis_copy[!, \"Résidents\"][22:22])\n",
    "feature_2020 = rename(feature_2020, :\"x1\" => :\"Résidents\")\n"
   ]
  },
  {
   "cell_type": "markdown",
   "metadata": {},
   "source": [
    "Ensuite on transforme nos set de validation et de test en polynôme, toujours pour qu'ils aient le même format que notre matrice de structure"
   ]
  },
  {
   "cell_type": "code",
   "execution_count": 2116,
   "metadata": {},
   "outputs": [
    {
     "data": {
      "text/html": [
       "<div class=\"data-frame\"><p>1 rows × 9 columns (omitted printing of 1 columns)</p><table class=\"data-frame\"><thead><tr><th></th><th>Année</th><th>SnowGround</th><th>raintotal</th><th>Année2</th><th>Année3</th><th>SnowGround2</th><th>SnowGround3</th><th>rainTotal2</th></tr><tr><th></th><th title=\"Int64\">Int64</th><th title=\"Float64\">Float64</th><th title=\"Float64\">Float64</th><th title=\"Int64\">Int64</th><th title=\"Int64\">Int64</th><th title=\"Float64\">Float64</th><th title=\"Float64\">Float64</th><th title=\"Float64\">Float64</th></tr></thead><tbody><tr><th>1</th><td>2020</td><td>3.56284</td><td>2.37541</td><td>4080400</td><td>8242408000</td><td>12.6938</td><td>45.2261</td><td>5.64257</td></tr></tbody></table></div>"
      ],
      "text/latex": [
       "\\begin{tabular}{r|ccccccccc}\n",
       "\t& Année & SnowGround & raintotal & Année2 & Année3 & SnowGround2 & SnowGround3 & rainTotal2 & \\\\\n",
       "\t\\hline\n",
       "\t& Int64 & Float64 & Float64 & Int64 & Int64 & Float64 & Float64 & Float64 & \\\\\n",
       "\t\\hline\n",
       "\t1 & 2020 & 3.56284 & 2.37541 & 4080400 & 8242408000 & 12.6938 & 45.2261 & 5.64257 & $\\dots$ \\\\\n",
       "\\end{tabular}\n"
      ],
      "text/plain": [
       "\u001b[1m1×9 DataFrame\u001b[0m\n",
       "\u001b[1m Row \u001b[0m│\u001b[1m Année \u001b[0m\u001b[1m SnowGround \u001b[0m\u001b[1m raintotal \u001b[0m\u001b[1m Année2  \u001b[0m\u001b[1m Année3     \u001b[0m\u001b[1m SnowGround2 \u001b[0m\u001b[1m SnowGro\u001b[0m ⋯\n",
       "\u001b[1m     \u001b[0m│\u001b[90m Int64 \u001b[0m\u001b[90m Float64    \u001b[0m\u001b[90m Float64   \u001b[0m\u001b[90m Int64   \u001b[0m\u001b[90m Int64      \u001b[0m\u001b[90m Float64     \u001b[0m\u001b[90m Float64\u001b[0m ⋯\n",
       "─────┼──────────────────────────────────────────────────────────────────────────\n",
       "   1 │  2020     3.56284    2.37541  4080400  8242408000      12.6938      45. ⋯\n",
       "\u001b[36m                                                               3 columns omitted\u001b[0m"
      ]
     },
     "execution_count": 2116,
     "metadata": {},
     "output_type": "execute_result"
    }
   ],
   "source": [
    "#On Transforme chaque feature en polynome, comme ce qui a été fait pour l'ensemble d'entrainement. \n",
    "\n",
    "feature_2020 = select!(feature_2020, [:Année,:SnowGround,:raintotal])\n",
    "feature_2021 = select!(feature_2021, [:Année,:SnowGround,:raintotal])\n",
    "\n",
    "# On fait ça pour le Test set : 2021\n",
    "# feature_2021 = hcat(feature_2021,get_polynomial_feature(feature_2021.meantemp,\"meanTemp\"))\n",
    "feature_2021 = hcat(feature_2021,get_polynomial_feature(feature_2021.Année,\"Année\"))\n",
    "feature_2021 = hcat(feature_2021,get_polynomial_feature(feature_2021.SnowGround,\"SnowGround\"))\n",
    "feature_2021 = hcat(feature_2021,get_polynomial_feature(feature_2021.raintotal,\"rainTotal\"))\n",
    "# feature_2021 = hcat(feature_2021,get_polynomial_feature(feature_2021.Québec,\"Québec\"))\n",
    "# feature_2021 = hcat(feature_2021,get_polynomial_feature(feature_2021.Montréal,\"Montréal\"))\n",
    "# feature_2021 = hcat(feature_2021,get_polynomial_feature(feature_2021[!,:\"Résidents 1er\"],\"Résidents 1er\"))\n",
    "# feature_2021 = hcat(feature_2021,get_polynomial_feature(feature_2021.Résidents,\"Résidents\"))\n",
    "# feature_2021 = hcat(feature_2021,get_polynomial_feature(feature_2021[!,:\"Non-résidents\"],\"Non-résidents\"))\n",
    "\n",
    "# On fait ça pour le Validation set : 2020\n",
    "# feature_2020 = hcat(feature_2020,get_polynomial_feature(feature_2020.meantemp,\"meanTemp\"))\n",
    "feature_2020 = hcat(feature_2020,get_polynomial_feature(feature_2020.Année,\"Année\"))\n",
    "feature_2020 = hcat(feature_2020,get_polynomial_feature(feature_2020.SnowGround,\"SnowGround\"))\n",
    "feature_2020 = hcat(feature_2020,get_polynomial_feature(feature_2020.raintotal,\"rainTotal\"))\n",
    "# feature_2020 = hcat(feature_2020,get_polynomial_feature(feature_2020.Québec,\"Québec\"))\n",
    "# feature_2020 = hcat(feature_2020,get_polynomial_feature(feature_2020.Montréal,\"Montréal\"))\n",
    "# feature_2020 = hcat(feature_2020,get_polynomial_feature(feature_2020[!,:\"Résidents 1er\"],\"Résidents 1er\"))\n",
    "# feature_2020 = hcat(feature_2020,get_polynomial_feature(feature_2020.Résidents,\"Résidents\"))\n",
    "# feature_2020 = hcat(feature_2020,get_polynomial_feature(feature_2020[!,:\"Non-résidents\"],\"Non-résidents\"))\n"
   ]
  },
  {
   "cell_type": "code",
   "execution_count": 2117,
   "metadata": {},
   "outputs": [
    {
     "data": {
      "text/html": [
       "<div class=\"data-frame\"><p>1 rows × 9 columns (omitted printing of 1 columns)</p><table class=\"data-frame\"><thead><tr><th></th><th>Année</th><th>SnowGround</th><th>raintotal</th><th>Année2</th><th>Année3</th><th>SnowGround2</th><th>SnowGround3</th><th>rainTotal2</th></tr><tr><th></th><th title=\"Int64\">Int64</th><th title=\"Float64\">Float64</th><th title=\"Float64\">Float64</th><th title=\"Int64\">Int64</th><th title=\"Int64\">Int64</th><th title=\"Float64\">Float64</th><th title=\"Float64\">Float64</th><th title=\"Float64\">Float64</th></tr></thead><tbody><tr><th>1</th><td>2021</td><td>5.69863</td><td>1.71205</td><td>4084441</td><td>8254655261</td><td>32.4744</td><td>185.06</td><td>2.93113</td></tr></tbody></table></div>"
      ],
      "text/latex": [
       "\\begin{tabular}{r|ccccccccc}\n",
       "\t& Année & SnowGround & raintotal & Année2 & Année3 & SnowGround2 & SnowGround3 & rainTotal2 & \\\\\n",
       "\t\\hline\n",
       "\t& Int64 & Float64 & Float64 & Int64 & Int64 & Float64 & Float64 & Float64 & \\\\\n",
       "\t\\hline\n",
       "\t1 & 2021 & 5.69863 & 1.71205 & 4084441 & 8254655261 & 32.4744 & 185.06 & 2.93113 & $\\dots$ \\\\\n",
       "\\end{tabular}\n"
      ],
      "text/plain": [
       "\u001b[1m1×9 DataFrame\u001b[0m\n",
       "\u001b[1m Row \u001b[0m│\u001b[1m Année \u001b[0m\u001b[1m SnowGround \u001b[0m\u001b[1m raintotal \u001b[0m\u001b[1m Année2  \u001b[0m\u001b[1m Année3     \u001b[0m\u001b[1m SnowGround2 \u001b[0m\u001b[1m SnowGro\u001b[0m ⋯\n",
       "\u001b[1m     \u001b[0m│\u001b[90m Int64 \u001b[0m\u001b[90m Float64    \u001b[0m\u001b[90m Float64   \u001b[0m\u001b[90m Int64   \u001b[0m\u001b[90m Int64      \u001b[0m\u001b[90m Float64     \u001b[0m\u001b[90m Float64\u001b[0m ⋯\n",
       "─────┼──────────────────────────────────────────────────────────────────────────\n",
       "   1 │  2021     5.69863    1.71205  4084441  8254655261      32.4744       18 ⋯\n",
       "\u001b[36m                                                               3 columns omitted\u001b[0m"
      ]
     },
     "execution_count": 2117,
     "metadata": {},
     "output_type": "execute_result"
    }
   ],
   "source": [
    "feature_2021"
   ]
  },
  {
   "cell_type": "markdown",
   "metadata": {},
   "source": [
    "# 4. Modèle"
   ]
  },
  {
   "cell_type": "markdown",
   "metadata": {},
   "source": [
    "Dans le cadre de notre recherche de modèle, nous avons tout d'abord remarquer qu'en fonction de la zone prise en compte, la distributions du nombre des cerfs récolté par années est différentes en fonction des zones. Cette information nous a donc pouser a envisager des modèles différent en fonction de chaque zones.\n",
    "\n",
    "Dans un premier temps, nous avons essayer des modelèle de regression multiple avec comme variables explicatives chacunes des variables qui nous ont été fournis. Ces modèle avait l'air de bien fonctionner et ont donc fait l'affaire de nos première soumission sur kaggle . \n",
    "\n",
    "Cependant après visualisation des données, et notamment les variables explicatves les plus importantes pour la régression, nous avons remarquée que les plupart des relations n'etaient pas linéaires, mais avais plutot l'air polynomiale. Aisni, nous avons donc décidée de mettre à jour notre méthodolgie de determination de modèle. Nous somme don passées à la régression multiple polynomiales. \n",
    "\n",
    "La sélection des variables explicatives, à passer en polynôme serra expliquer plus tard dans une section ultérieure. Néanmoins, et comme cité précédemment nous n'avons as passer toutes les variables à des degrés supérieurs : on a réalisé une sélection de ces dernières. L'on obtient donc des modèles avec un mélange de régression linéaire polynomiale et simple.\n",
    "\n",
    "De plus, lors de notre analyse exploratoire, nous avons pu remarquer que certaines variables explicatives sont fortement corrélé et peuvent induires des problèmes de multicolinéarité. Ce phénomène peut créer des instabilitées numériques lors du calcul de l'inverse de certaines matrice et donc induire à l'obtention de coefficient avec de trop grande valeurs.\n",
    "\n",
    "De même, nous avons aussi visualisé, lors de phases de test, avec un set de validation que notre modèle réalisé du surapprentissage sur nos données d'entrainement et avait ainsi du mal à généraliser ces prédictions sur le set de test.\n",
    "\n",
    "Donc, pour ce faire, nous avons donc décidé de passer à de la régression pénaliser. Les résultats obtenus avec ces derniers modèles de régression étaient ainsi les meilleurs. Et nous avons donc décidé de les garder pour nos derniers modèles"
   ]
  },
  {
   "cell_type": "markdown",
   "metadata": {},
   "source": [
    "\n",
    "\n",
    "Dans cette cellule nous réalisons la création du dataframe qui va comporter les différent coefficient de régression en fonction des zones"
   ]
  },
  {
   "cell_type": "code",
   "execution_count": 2119,
   "metadata": {},
   "outputs": [
    {
     "data": {
      "text/html": [
       "<div class=\"data-frame\"><p>0 rows × 11 columns (omitted printing of 1 columns)</p><table class=\"data-frame\"><thead><tr><th></th><th>Zone</th><th>B1</th><th>B2</th><th>B3</th><th>B4</th><th>B5</th><th>B6</th><th>B7</th><th>B8</th><th>B9</th></tr><tr><th></th><th title=\"Int64\">Int64</th><th title=\"Float64\">Float64</th><th title=\"Float64\">Float64</th><th title=\"Float64\">Float64</th><th title=\"Float64\">Float64</th><th title=\"Float64\">Float64</th><th title=\"Float64\">Float64</th><th title=\"Float64\">Float64</th><th title=\"Float64\">Float64</th><th title=\"Float64\">Float64</th></tr></thead><tbody></tbody></table></div>"
      ],
      "text/latex": [
       "\\begin{tabular}{r|ccccccccccc}\n",
       "\t& Zone & B1 & B2 & B3 & B4 & B5 & B6 & B7 & B8 & B9 & \\\\\n",
       "\t\\hline\n",
       "\t& Int64 & Float64 & Float64 & Float64 & Float64 & Float64 & Float64 & Float64 & Float64 & Float64 & \\\\\n",
       "\t\\hline\n",
       "\\end{tabular}\n"
      ],
      "text/plain": [
       "\u001b[1m0×11 DataFrame\u001b[0m"
      ]
     },
     "execution_count": 2119,
     "metadata": {},
     "output_type": "execute_result"
    }
   ],
   "source": [
    "#On créer le dataframe qui comportera tout nos coefficients, \n",
    "models = DataFrame(Zone = Int64[])\n",
    "for i in 1:10 #Changer le nombre si on a modifié le degré de la reg polynomiale\n",
    "    B_str = \"B\"\n",
    "    i_str = string(i)\n",
    "    b = DataFrame(B0 = Float64[])\n",
    "    b = rename(b, :B0 => B_str * i_str)\n",
    "    models = hcat(models,b)\n",
    "end\n",
    "models"
   ]
  },
  {
   "cell_type": "markdown",
   "metadata": {},
   "source": [
    "En ce qui concerne la cellule suivante, nous réalisons la fonction qui nous permet d'entrainer tous nos modèles sur nos données d'entrainement"
   ]
  },
  {
   "cell_type": "code",
   "execution_count": 2120,
   "metadata": {},
   "outputs": [],
   "source": [
    "#On train le modèle puis on met tout les coefficients dans le dataframe \"models\"\n",
    "λ = 1e6 # on défini lambda\n",
    "\n",
    "   # on fait la régression pour trouver les coefs.\n",
    "\n",
    "i=1\n",
    "num = [1,2,3,4,5,6,7,8,9,10,11,12,13,15,20,21,26,27,28]\n",
    "for zone in df_vector  # Pour chaque zone de chasse,\n",
    "    \n",
    "    y = zone.Cerfs\n",
    "\n",
    "    n = length(y)\n",
    "    \n",
    "    z = copy(zone)\n",
    "    X = select!(z, Not([:Cerfs]))\n",
    "\n",
    "    X = hcat(ones(n), Matrix(X[:,:]))\n",
    "\n",
    "    B = (X'X + λ*I)\\X'y  # Estimation des coefficients de régression\n",
    "    \n",
    "    push!(models, vcat(num[i],B))\n",
    "    i=i+1\n",
    "end\n"
   ]
  },
  {
   "cell_type": "markdown",
   "metadata": {},
   "source": [
    "Cette cellule sert à visualiser tous les coefficients de régressions obtenus après avoir entrainé nos modèles. veuillez noter que les chiffres sont incrémenté de 1 à 19. Cependant ce chiffre ne correspond pas au numéro réel de la zone mais à un numéro attribué à cette dernière pour faciliter la réalisation des fonctions."
   ]
  },
  {
   "cell_type": "code",
   "execution_count": 2121,
   "metadata": {},
   "outputs": [
    {
     "data": {
      "text/html": [
       "<div class=\"data-frame\"><p>19 rows × 11 columns (omitted printing of 4 columns)</p><table class=\"data-frame\"><thead><tr><th></th><th>Zone</th><th>B1</th><th>B2</th><th>B3</th><th>B4</th><th>B5</th><th>B6</th></tr><tr><th></th><th title=\"Int64\">Int64</th><th title=\"Float64\">Float64</th><th title=\"Float64\">Float64</th><th title=\"Float64\">Float64</th><th title=\"Float64\">Float64</th><th title=\"Float64\">Float64</th><th title=\"Float64\">Float64</th></tr></thead><tbody><tr><th>1</th><td>1</td><td>-1.94503e-8</td><td>1.17377e-6</td><td>-0.000645863</td><td>-0.000218612</td><td>0.0286936</td><td>-1.40837e-5</td></tr><tr><th>2</th><td>2</td><td>-9.81714e-9</td><td>-3.08459e-6</td><td>-0.00051938</td><td>-0.000278729</td><td>0.00706246</td><td>-3.39387e-6</td></tr><tr><th>3</th><td>3</td><td>-4.5593e-8</td><td>-4.22712e-5</td><td>-0.00102633</td><td>-0.000377487</td><td>-0.0234896</td><td>1.19138e-5</td></tr><tr><th>4</th><td>4</td><td>-7.54455e-8</td><td>-8.17872e-5</td><td>-0.0013695</td><td>-0.000341103</td><td>-0.0626556</td><td>3.15964e-5</td></tr><tr><th>5</th><td>5</td><td>-1.55359e-8</td><td>-2.48828e-5</td><td>-0.000364763</td><td>1.62184e-5</td><td>-0.0290789</td><td>1.46958e-5</td></tr><tr><th>6</th><td>6</td><td>-1.97173e-8</td><td>-1.39787e-5</td><td>-0.000434295</td><td>-0.00116149</td><td>-0.00149733</td><td>1.38334e-6</td></tr><tr><th>7</th><td>7</td><td>-4.09627e-8</td><td>-5.31566e-5</td><td>-0.0013281</td><td>-0.000197277</td><td>-0.0516658</td><td>2.60832e-5</td></tr><tr><th>8</th><td>8</td><td>-1.89093e-8</td><td>-4.03905e-5</td><td>-0.000246282</td><td>6.21683e-5</td><td>-0.0557834</td><td>2.81162e-5</td></tr><tr><th>9</th><td>9</td><td>-4.50947e-9</td><td>-2.69918e-6</td><td>-0.000415731</td><td>-0.000321256</td><td>0.000656588</td><td>-1.60887e-7</td></tr><tr><th>10</th><td>10</td><td>-5.81553e-9</td><td>3.86389e-5</td><td>-0.00275219</td><td>-0.000702771</td><td>0.0856901</td><td>-4.18442e-5</td></tr><tr><th>11</th><td>11</td><td>4.54798e-9</td><td>1.49958e-5</td><td>-0.000727671</td><td>-0.000263116</td><td>0.024015</td><td>-1.17589e-5</td></tr><tr><th>12</th><td>12</td><td>-2.30597e-10</td><td>-2.54243e-9</td><td>9.87306e-6</td><td>-8.23453e-6</td><td>0.000306383</td><td>-1.49061e-7</td></tr><tr><th>13</th><td>13</td><td>-2.78274e-10</td><td>-2.01864e-7</td><td>-7.44143e-6</td><td>-6.19327e-6</td><td>-3.03228e-5</td><td>1.64497e-8</td></tr><tr><th>14</th><td>15</td><td>2.08391e-9</td><td>-6.32838e-7</td><td>0.000132264</td><td>-8.12811e-5</td><td>-0.00410218</td><td>2.06127e-6</td></tr><tr><th>15</th><td>20</td><td>1.00154e-7</td><td>0.000141351</td><td>-0.00242361</td><td>0.000251727</td><td>0.149115</td><td>-7.33593e-5</td></tr><tr><th>16</th><td>21</td><td>3.74466e-11</td><td>4.5715e-8</td><td>-9.2951e-7</td><td>1.40872e-6</td><td>4.14655e-5</td><td>-2.03081e-8</td></tr><tr><th>17</th><td>26</td><td>-1.58248e-9</td><td>-4.2361e-6</td><td>1.83619e-5</td><td>-3.97442e-5</td><td>-0.00639156</td><td>3.18635e-6</td></tr><tr><th>18</th><td>27</td><td>-1.08366e-8</td><td>-1.25748e-5</td><td>-7.59011e-5</td><td>-8.69557e-5</td><td>-0.0106585</td><td>5.3912e-6</td></tr><tr><th>19</th><td>28</td><td>-1.48552e-9</td><td>-3.31525e-6</td><td>1.72545e-5</td><td>2.29162e-5</td><td>-0.00466563</td><td>2.32243e-6</td></tr></tbody></table></div>"
      ],
      "text/latex": [
       "\\begin{tabular}{r|cccccccc}\n",
       "\t& Zone & B1 & B2 & B3 & B4 & B5 & B6 & \\\\\n",
       "\t\\hline\n",
       "\t& Int64 & Float64 & Float64 & Float64 & Float64 & Float64 & Float64 & \\\\\n",
       "\t\\hline\n",
       "\t1 & 1 & -1.94503e-8 & 1.17377e-6 & -0.000645863 & -0.000218612 & 0.0286936 & -1.40837e-5 & $\\dots$ \\\\\n",
       "\t2 & 2 & -9.81714e-9 & -3.08459e-6 & -0.00051938 & -0.000278729 & 0.00706246 & -3.39387e-6 & $\\dots$ \\\\\n",
       "\t3 & 3 & -4.5593e-8 & -4.22712e-5 & -0.00102633 & -0.000377487 & -0.0234896 & 1.19138e-5 & $\\dots$ \\\\\n",
       "\t4 & 4 & -7.54455e-8 & -8.17872e-5 & -0.0013695 & -0.000341103 & -0.0626556 & 3.15964e-5 & $\\dots$ \\\\\n",
       "\t5 & 5 & -1.55359e-8 & -2.48828e-5 & -0.000364763 & 1.62184e-5 & -0.0290789 & 1.46958e-5 & $\\dots$ \\\\\n",
       "\t6 & 6 & -1.97173e-8 & -1.39787e-5 & -0.000434295 & -0.00116149 & -0.00149733 & 1.38334e-6 & $\\dots$ \\\\\n",
       "\t7 & 7 & -4.09627e-8 & -5.31566e-5 & -0.0013281 & -0.000197277 & -0.0516658 & 2.60832e-5 & $\\dots$ \\\\\n",
       "\t8 & 8 & -1.89093e-8 & -4.03905e-5 & -0.000246282 & 6.21683e-5 & -0.0557834 & 2.81162e-5 & $\\dots$ \\\\\n",
       "\t9 & 9 & -4.50947e-9 & -2.69918e-6 & -0.000415731 & -0.000321256 & 0.000656588 & -1.60887e-7 & $\\dots$ \\\\\n",
       "\t10 & 10 & -5.81553e-9 & 3.86389e-5 & -0.00275219 & -0.000702771 & 0.0856901 & -4.18442e-5 & $\\dots$ \\\\\n",
       "\t11 & 11 & 4.54798e-9 & 1.49958e-5 & -0.000727671 & -0.000263116 & 0.024015 & -1.17589e-5 & $\\dots$ \\\\\n",
       "\t12 & 12 & -2.30597e-10 & -2.54243e-9 & 9.87306e-6 & -8.23453e-6 & 0.000306383 & -1.49061e-7 & $\\dots$ \\\\\n",
       "\t13 & 13 & -2.78274e-10 & -2.01864e-7 & -7.44143e-6 & -6.19327e-6 & -3.03228e-5 & 1.64497e-8 & $\\dots$ \\\\\n",
       "\t14 & 15 & 2.08391e-9 & -6.32838e-7 & 0.000132264 & -8.12811e-5 & -0.00410218 & 2.06127e-6 & $\\dots$ \\\\\n",
       "\t15 & 20 & 1.00154e-7 & 0.000141351 & -0.00242361 & 0.000251727 & 0.149115 & -7.33593e-5 & $\\dots$ \\\\\n",
       "\t16 & 21 & 3.74466e-11 & 4.5715e-8 & -9.2951e-7 & 1.40872e-6 & 4.14655e-5 & -2.03081e-8 & $\\dots$ \\\\\n",
       "\t17 & 26 & -1.58248e-9 & -4.2361e-6 & 1.83619e-5 & -3.97442e-5 & -0.00639156 & 3.18635e-6 & $\\dots$ \\\\\n",
       "\t18 & 27 & -1.08366e-8 & -1.25748e-5 & -7.59011e-5 & -8.69557e-5 & -0.0106585 & 5.3912e-6 & $\\dots$ \\\\\n",
       "\t19 & 28 & -1.48552e-9 & -3.31525e-6 & 1.72545e-5 & 2.29162e-5 & -0.00466563 & 2.32243e-6 & $\\dots$ \\\\\n",
       "\\end{tabular}\n"
      ],
      "text/plain": [
       "\u001b[1m19×11 DataFrame\u001b[0m\n",
       "\u001b[1m Row \u001b[0m│\u001b[1m Zone  \u001b[0m\u001b[1m B1           \u001b[0m\u001b[1m B2           \u001b[0m\u001b[1m B3           \u001b[0m\u001b[1m B4           \u001b[0m\u001b[1m B5      \u001b[0m ⋯\n",
       "\u001b[1m     \u001b[0m│\u001b[90m Int64 \u001b[0m\u001b[90m Float64      \u001b[0m\u001b[90m Float64      \u001b[0m\u001b[90m Float64      \u001b[0m\u001b[90m Float64      \u001b[0m\u001b[90m Float64 \u001b[0m ⋯\n",
       "─────┼──────────────────────────────────────────────────────────────────────────\n",
       "   1 │     1  -1.94503e-8    1.17377e-6   -0.000645863  -0.000218612   0.02869 ⋯\n",
       "   2 │     2  -9.81714e-9   -3.08459e-6   -0.00051938   -0.000278729   0.00706\n",
       "   3 │     3  -4.5593e-8    -4.22712e-5   -0.00102633   -0.000377487  -0.02348\n",
       "   4 │     4  -7.54455e-8   -8.17872e-5   -0.0013695    -0.000341103  -0.06265\n",
       "   5 │     5  -1.55359e-8   -2.48828e-5   -0.000364763   1.62184e-5   -0.02907 ⋯\n",
       "   6 │     6  -1.97173e-8   -1.39787e-5   -0.000434295  -0.00116149   -0.00149\n",
       "   7 │     7  -4.09627e-8   -5.31566e-5   -0.0013281    -0.000197277  -0.05166\n",
       "   8 │     8  -1.89093e-8   -4.03905e-5   -0.000246282   6.21683e-5   -0.05578\n",
       "   9 │     9  -4.50947e-9   -2.69918e-6   -0.000415731  -0.000321256   0.00065 ⋯\n",
       "  10 │    10  -5.81553e-9    3.86389e-5   -0.00275219   -0.000702771   0.08569\n",
       "  11 │    11   4.54798e-9    1.49958e-5   -0.000727671  -0.000263116   0.02401\n",
       "  12 │    12  -2.30597e-10  -2.54243e-9    9.87306e-6   -8.23453e-6    0.00030\n",
       "  13 │    13  -2.78274e-10  -2.01864e-7   -7.44143e-6   -6.19327e-6   -3.03228 ⋯\n",
       "  14 │    15   2.08391e-9   -6.32838e-7    0.000132264  -8.12811e-5   -0.00410\n",
       "  15 │    20   1.00154e-7    0.000141351  -0.00242361    0.000251727   0.14911\n",
       "  16 │    21   3.74466e-11   4.5715e-8    -9.2951e-7     1.40872e-6    4.14655\n",
       "  17 │    26  -1.58248e-9   -4.2361e-6     1.83619e-5   -3.97442e-5   -0.00639 ⋯\n",
       "  18 │    27  -1.08366e-8   -1.25748e-5   -7.59011e-5   -8.69557e-5   -0.01065\n",
       "  19 │    28  -1.48552e-9   -3.31525e-6    1.72545e-5    2.29162e-5   -0.00466\n",
       "\u001b[36m                                                               6 columns omitted\u001b[0m"
      ]
     },
     "execution_count": 2121,
     "metadata": {},
     "output_type": "execute_result"
    }
   ],
   "source": [
    "models"
   ]
  },
  {
   "cell_type": "markdown",
   "metadata": {},
   "source": [
    "# 5. Prédictions"
   ]
  },
  {
   "cell_type": "markdown",
   "metadata": {},
   "source": [
    "Cette partie regroupe tout le code qui permet de faire des prédictions, nous nous sommes fortement inspités de l'extrait de code qui était déjà fournie."
   ]
  },
  {
   "cell_type": "code",
   "execution_count": 2122,
   "metadata": {},
   "outputs": [],
   "source": [
    "models = models[in.(models.Zone, Ref(test.Zone)), :];  # On récupère seulement les modèles pour les zones à prévoir"
   ]
  },
  {
   "cell_type": "code",
   "execution_count": 2123,
   "metadata": {},
   "outputs": [
    {
     "data": {
      "text/plain": [
       "1×10 Matrix{Float64}:\n",
       " 1.0  2020.0  3.56284  2.37541  …  12.6938  45.2261  5.64257  13.4034"
      ]
     },
     "execution_count": 2123,
     "metadata": {},
     "output_type": "execute_result"
    }
   ],
   "source": [
    "# dataframe avec seulement les coefficients, puis on transforme ça en matrice pour pouvoir lu'tiliser pour faire les prédictions\n",
    "beta = select!(models, Not([:Zone]))\n",
    "beta = Matrix(beta[:,:])\n",
    "#On passe x en matrice et on ajoute la colonne des 1 ==> c'est notre X_test\n",
    "x_2021 = Matrix(feature_2021[:,:])\n",
    "x_2021 = hcat(1,x_2021)\n",
    "\n",
    "#On passe x en matrice et on ajoute la colonne des 1 ==> c'est notre X_validation\n",
    "x_2020 = Matrix(feature_2020[:,:])\n",
    "x_2020 = hcat(1,x_2020)"
   ]
  },
  {
   "cell_type": "code",
   "execution_count": 2124,
   "metadata": {},
   "outputs": [],
   "source": [
    "# Prédictions sur le validation set\n",
    "ŷ_validation = [Int64(ceil(disallowmissing(x_2020 * beta[i,:])[1] )) for i in 1:size(test,1)];"
   ]
  },
  {
   "cell_type": "code",
   "execution_count": 2125,
   "metadata": {},
   "outputs": [
    {
     "data": {
      "text/plain": [
       "\"validation_pred.csv\""
      ]
     },
     "execution_count": 2125,
     "metadata": {},
     "output_type": "execute_result"
    }
   ],
   "source": [
    "#On met nos prédictions de validation dans un csv\n",
    "\n",
    "prediction = DataFrame(Zone = test.Zone, Cerfs = ŷ_validation)\n",
    "CSV.write(\"validation_pred.csv\", prediction)"
   ]
  },
  {
   "cell_type": "code",
   "execution_count": 2126,
   "metadata": {},
   "outputs": [],
   "source": [
    "# On fait nos prédictions, pour chaque zone i, on prédit en faisant x*Bi avec Bi ke vecteur de coeffs pour la zone i\n",
    "ŷ_pred = [Int64(ceil(disallowmissing(x_2021 * beta[i,:])[1] )) for i in 1:size(test,1)];"
   ]
  },
  {
   "cell_type": "code",
   "execution_count": 2127,
   "metadata": {},
   "outputs": [
    {
     "data": {
      "text/plain": [
       "\"pred.csv\""
      ]
     },
     "execution_count": 2127,
     "metadata": {},
     "output_type": "execute_result"
    }
   ],
   "source": [
    "#On met nos prédictions dans un csv\n",
    "\n",
    "prediction = DataFrame(Zone = test.Zone, Cerfs = ŷ_pred)\n",
    "CSV.write(\"pred.csv\", prediction)"
   ]
  },
  {
   "cell_type": "code",
   "execution_count": 2128,
   "metadata": {},
   "outputs": [
    {
     "data": {
      "text/html": [
       "<div class=\"data-frame\"><p>18 rows × 3 columns</p><table class=\"data-frame\"><thead><tr><th></th><th>Année</th><th>Zone</th><th>Cerfs</th></tr><tr><th></th><th title=\"Int64\">Int64</th><th title=\"Int64\">Int64</th><th title=\"Int64\">Int64</th></tr></thead><tbody><tr><th>1</th><td>2020</td><td>1</td><td>318</td></tr><tr><th>2</th><td>2020</td><td>2</td><td>552</td></tr><tr><th>3</th><td>2020</td><td>3</td><td>1558</td></tr><tr><th>4</th><td>2020</td><td>4</td><td>3146</td></tr><tr><th>5</th><td>2020</td><td>5</td><td>2239</td></tr><tr><th>6</th><td>2020</td><td>6</td><td>4307</td></tr><tr><th>7</th><td>2020</td><td>7</td><td>4055</td></tr><tr><th>8</th><td>2020</td><td>8</td><td>4464</td></tr><tr><th>9</th><td>2020</td><td>9</td><td>1089</td></tr><tr><th>10</th><td>2020</td><td>10</td><td>2993</td></tr><tr><th>11</th><td>2020</td><td>11</td><td>721</td></tr><tr><th>12</th><td>2020</td><td>12</td><td>9</td></tr><tr><th>13</th><td>2020</td><td>13</td><td>6</td></tr><tr><th>14</th><td>2020</td><td>15</td><td>541</td></tr><tr><th>15</th><td>2020</td><td>20</td><td>2302</td></tr><tr><th>16</th><td>2020</td><td>26</td><td>330</td></tr><tr><th>17</th><td>2020</td><td>27</td><td>880</td></tr><tr><th>18</th><td>2020</td><td>28</td><td>151</td></tr></tbody></table></div>"
      ],
      "text/latex": [
       "\\begin{tabular}{r|ccc}\n",
       "\t& Année & Zone & Cerfs\\\\\n",
       "\t\\hline\n",
       "\t& Int64 & Int64 & Int64\\\\\n",
       "\t\\hline\n",
       "\t1 & 2020 & 1 & 318 \\\\\n",
       "\t2 & 2020 & 2 & 552 \\\\\n",
       "\t3 & 2020 & 3 & 1558 \\\\\n",
       "\t4 & 2020 & 4 & 3146 \\\\\n",
       "\t5 & 2020 & 5 & 2239 \\\\\n",
       "\t6 & 2020 & 6 & 4307 \\\\\n",
       "\t7 & 2020 & 7 & 4055 \\\\\n",
       "\t8 & 2020 & 8 & 4464 \\\\\n",
       "\t9 & 2020 & 9 & 1089 \\\\\n",
       "\t10 & 2020 & 10 & 2993 \\\\\n",
       "\t11 & 2020 & 11 & 721 \\\\\n",
       "\t12 & 2020 & 12 & 9 \\\\\n",
       "\t13 & 2020 & 13 & 6 \\\\\n",
       "\t14 & 2020 & 15 & 541 \\\\\n",
       "\t15 & 2020 & 20 & 2302 \\\\\n",
       "\t16 & 2020 & 26 & 330 \\\\\n",
       "\t17 & 2020 & 27 & 880 \\\\\n",
       "\t18 & 2020 & 28 & 151 \\\\\n",
       "\\end{tabular}\n"
      ],
      "text/plain": [
       "\u001b[1m18×3 DataFrame\u001b[0m\n",
       "\u001b[1m Row \u001b[0m│\u001b[1m Année \u001b[0m\u001b[1m Zone  \u001b[0m\u001b[1m Cerfs \u001b[0m\n",
       "\u001b[1m     \u001b[0m│\u001b[90m Int64 \u001b[0m\u001b[90m Int64 \u001b[0m\u001b[90m Int64 \u001b[0m\n",
       "─────┼─────────────────────\n",
       "   1 │  2020      1    318\n",
       "   2 │  2020      2    552\n",
       "   3 │  2020      3   1558\n",
       "   4 │  2020      4   3146\n",
       "   5 │  2020      5   2239\n",
       "   6 │  2020      6   4307\n",
       "   7 │  2020      7   4055\n",
       "   8 │  2020      8   4464\n",
       "   9 │  2020      9   1089\n",
       "  10 │  2020     10   2993\n",
       "  11 │  2020     11    721\n",
       "  12 │  2020     12      9\n",
       "  13 │  2020     13      6\n",
       "  14 │  2020     15    541\n",
       "  15 │  2020     20   2302\n",
       "  16 │  2020     26    330\n",
       "  17 │  2020     27    880\n",
       "  18 │  2020     28    151"
      ]
     },
     "execution_count": 2128,
     "metadata": {},
     "output_type": "execute_result"
    }
   ],
   "source": [
    "zones = groupby(recolte, :Zone)  # On groupe les données par zone\n",
    "\n",
    "new_df = DataFrame(Année = Int64[], Zone = Int64[], Cerfs= Int64[])  # On initialise un DataFrame vide\n",
    "\n",
    "for zone in zones  # Pour chaque zone de chasse,\n",
    "    \n",
    "    # pour chaque année,\n",
    "    # on additionne le nombre de cerfs récoltés selon les différents engins de chasse\n",
    "    df = combine(groupby(zone, :Année), :Cerfs => sum => :Cerfs)  \n",
    "    \n",
    "    df2 = DataFrame(Année = df.Année, \n",
    "                    Zone = fill(unique(zone.Zone)[1], size(df, 1)),\n",
    "                    Cerfs = df.Cerfs) \n",
    "    \n",
    "    append!(new_df, df2)  # On ajoute l'information au DataFrame préinitialisé \n",
    "end\n",
    "\n",
    "sort!(new_df, :Année)\n",
    "y_2020 = last(new_df, 18)  "
   ]
  },
  {
   "cell_type": "markdown",
   "metadata": {},
   "source": [
    "# 6. Optimisation "
   ]
  },
  {
   "cell_type": "markdown",
   "metadata": {},
   "source": [
    "Dans le but d'optenir de meilleurs performances, nous avons utilisé plusieus méthodes que nous allons expliquer dans cette partie."
   ]
  },
  {
   "cell_type": "markdown",
   "metadata": {},
   "source": [
    "La première méthode que nous avons utilisé a été précedemment mentionné dans la partie feature design. Elle consiste à ne pas tester dans un modèle 2 features fortements corrérlées (information que nous avons obtenu grâce à la matrice de corrélation), car nous savons que le vecteur Beta inverser la matrice de structure ce qui fait qu'il existe beaucoup de valeurs possible de Beta. En somme, beta aura une trop grande variance si certaines features sont corrélées, ce qui pourrait fortement impacté la capacité de généralisation de notre modèle. En effet, si la valeur de Beta est trop grande, alors la valeur qui minimise l'erreur de validation peut être très différente de celle qui minimise l'erreur de test. La terme de pénalisation lambda devrait normalement résoudre ce problème, cependant nous avons quand même préférer ne pas prendre le risque."
   ]
  },
  {
   "cell_type": "markdown",
   "metadata": {},
   "source": [
    "La deuxième méthode d'optimisation que nous avons utilisé a été de ne pas transformer en polynôme toutes les features du modèle. La manière dont nous l'avons programmé permet toute liberté sur le choix des features qui seront transformés en polynôme. Cette décision permet dans certains cas de limiter le surentraînement tout augmantant le nombre de combinaisons de features possibles."
   ]
  },
  {
   "cell_type": "markdown",
   "metadata": {},
   "source": [
    "Et pour finir, la méthode principale que nous avons utilisé est le hyperparameter tuning, qui correspond à l'acte de tester différentes valeurs pour notre hyperparamètre lambda. Pour chaque modèle, chaque combinaisons de feature, nous testions à chaque fois plusieurs valeurs pour lambda. Cela est très utile, car il arrive souvant qu'un modèle soit mauvais pour une certaine valeur de lambda, mais très bon pour une autre. Dans ce genre de cas par exemple, nous aurions simplement abandonné le modèle en pensant qu'il avait de mauvaises performances alors que ce n'est pas le cas. C'est d'ailleurs ce qu'il est arrivé pour notre modèle finale, qui utilise une valeur pour lambde de 10 à la puissance 6. Sans avoir effectué d'hyperparameter tuning, nous n'aurions jamais réalisé que le modèle était bon."
   ]
  },
  {
   "cell_type": "markdown",
   "metadata": {},
   "source": [
    "# Score validation"
   ]
  },
  {
   "cell_type": "markdown",
   "metadata": {},
   "source": [
    "Nous utilisons l'année 2021 pour tester nos modèles, car il s'agit de l'année dont les nombres de cerfs récoltés par zones sont les plus similaires à l'année 2021. Pour calculer le score, nous utilisons le RMSE afin de reproduire avec le plus de précision les scores sur kaggle. Cela nous permet d'être sûr qu'un modèle obtiendra un bon score sur kaggle s'il a un bon score de validation. A titre d'exemple, notre modèle final nous donne un score de 527 sur le leaderbord, et 526,66 en score de validation. On peut dire que c'est très précis."
   ]
  },
  {
   "cell_type": "code",
   "execution_count": 2129,
   "metadata": {},
   "outputs": [
    {
     "data": {
      "text/plain": [
       "526.6666666666666"
      ]
     },
     "execution_count": 2129,
     "metadata": {},
     "output_type": "execute_result"
    }
   ],
   "source": [
    "y_2020_Mat = Matrix(y_2020.Cerfs[:,:])\n",
    "error = y_2020_Mat - ŷ_validation\n",
    "mean(abs.(error))"
   ]
  },
  {
   "cell_type": "markdown",
   "metadata": {},
   "source": [
    "# Amélioration"
   ]
  },
  {
   "cell_type": "markdown",
   "metadata": {},
   "source": [
    "Parmis les améliorations possibles qu'on pourrait faire:"
   ]
  },
  {
   "cell_type": "markdown",
   "metadata": {},
   "source": [
    "*  La normalisations PCA pourrait aider à ameliorer notre score, cependant cette amélioration ne sera pas très significative puisque nous soupconons que le plus gros problème dans notre prédictions est notre modèle."
   ]
  },
  {
   "cell_type": "markdown",
   "metadata": {},
   "source": [
    "* Il aurait été possible d'élargir le jeu de données des permis en assignant une proportions du nombre de permis à chaque zone, en s'appuyant sur le nombre de cerfs capturés dans chacune des zones."
   ]
  },
  {
   "cell_type": "markdown",
   "metadata": {},
   "source": [
    "* Il aurait été aussi possible d'utiliser une régression bayésienne pour prédira le nombre de permis en 2021, au lieu de prendre celui de l'année précedente"
   ]
  },
  {
   "cell_type": "markdown",
   "metadata": {},
   "source": [
    "* Le fait que l'on possède pas une loi à priori informative nous a découragé d'utiliser une régression bayésienne cependant on réalise qu'il aurait été possible de s'en servir d'une loi non informative."
   ]
  }
 ],
 "metadata": {
  "kernelspec": {
   "display_name": "Julia 1.8.0",
   "language": "julia",
   "name": "julia-1.8"
  },
  "language_info": {
   "file_extension": ".jl",
   "mimetype": "application/julia",
   "name": "julia",
   "version": "1.8.0"
  },
  "orig_nbformat": 4,
  "vscode": {
   "interpreter": {
    "hash": "d92e36a64d349d6bc728a426cc7f1cd9a3e941656d1eb0c46e9c219e87da0b60"
   }
  }
 },
 "nbformat": 4,
 "nbformat_minor": 2
}
